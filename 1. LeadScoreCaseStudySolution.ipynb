{
 "cells": [
  {
   "cell_type": "markdown",
   "metadata": {},
   "source": [
    "## Lead Scoring Case Study : Python Notebook"
   ]
  },
  {
   "cell_type": "markdown",
   "metadata": {},
   "source": [
    "#### Problem Statement:\n",
    "\n",
    "An education company named X Education sells online courses to industry working professionals.It markets its courses across various digital campaigns/ platforms. Objective of the campaigns is to drive traffic to the website and impress upon them to fill up a form providing email address and phone number by which they are classified as Leads.The lead conversion rate at X Education is currently very poor (around 30%).\n",
    "\n",
    "#### Goal of the Project:\n",
    "\n",
    "To build a logistic regression model to assign a lead score between 0 and 100 to each of the leads. So that the company can target potential leads. A higher score would mean that the lead is hot, i.e. is most likely to convert whereas a lower score would mean that the lead is cold and will mostly not get converted.Using this model,company wants to achieve lead conversion rate to be around 80%.\n"
   ]
  },
  {
   "cell_type": "markdown",
   "metadata": {},
   "source": [
    "### 1. Data Cleaning"
   ]
  },
  {
   "cell_type": "markdown",
   "metadata": {},
   "source": [
    "#### 1.1 Data Sourcing"
   ]
  },
  {
   "cell_type": "code",
   "execution_count": 1,
   "metadata": {},
   "outputs": [],
   "source": [
    "# Importing required Python libraries\n",
    "\n",
    "\n",
    "# Supressing warnings\n",
    "import warnings\n",
    "warnings.filterwarnings('ignore')\n",
    "\n",
    "# Importing data maniplation libraries\n",
    "import pandas as pd\n",
    "import numpy as np\n",
    "\n",
    "# Importing Scaling library\n",
    "from sklearn.preprocessing import StandardScaler\n",
    "\n",
    "\n",
    "# Importing visualisation libraries\n",
    "import matplotlib.pyplot as plt\n",
    "from matplotlib.pyplot import xticks\n",
    "import seaborn as sns\n",
    "%matplotlib inline\n",
    "\n",
    "#Importing model building libraries from sklearn and statsmodel\n",
    "import statsmodels.api as sm\n",
    "from sklearn.model_selection import train_test_split\n",
    "from sklearn.linear_model import LogisticRegression\n",
    "from sklearn.feature_selection import RFE\n",
    "from statsmodels.stats.outliers_influence import variance_inflation_factor\n",
    "\n",
    "#Importing model evaluation libraries from sklearn\n",
    "from sklearn.metrics import precision_score, recall_score\n",
    "from sklearn import metrics\n",
    "from sklearn.metrics import confusion_matrix\n",
    "from sklearn.metrics import precision_recall_curve\n",
    "\n",
    "# Displaying records properly\n",
    "pd.options.display.max_columns =100\n"
   ]
  },
  {
   "cell_type": "code",
   "execution_count": 5,
   "metadata": {},
   "outputs": [
    {
     "data": {
      "text/html": [
       "<div>\n",
       "<style scoped>\n",
       "    .dataframe tbody tr th:only-of-type {\n",
       "        vertical-align: middle;\n",
       "    }\n",
       "\n",
       "    .dataframe tbody tr th {\n",
       "        vertical-align: top;\n",
       "    }\n",
       "\n",
       "    .dataframe thead th {\n",
       "        text-align: right;\n",
       "    }\n",
       "</style>\n",
       "<table border=\"1\" class=\"dataframe\">\n",
       "  <thead>\n",
       "    <tr style=\"text-align: right;\">\n",
       "      <th></th>\n",
       "      <th>Prospect ID</th>\n",
       "      <th>Lead Number</th>\n",
       "      <th>Lead Origin</th>\n",
       "      <th>Lead Source</th>\n",
       "      <th>Do Not Email</th>\n",
       "      <th>Do Not Call</th>\n",
       "      <th>Converted</th>\n",
       "      <th>TotalVisits</th>\n",
       "      <th>Total Time Spent on Website</th>\n",
       "      <th>Page Views Per Visit</th>\n",
       "      <th>Last Activity</th>\n",
       "      <th>Country</th>\n",
       "      <th>Specialization</th>\n",
       "      <th>How did you hear about X Education</th>\n",
       "      <th>What is your current occupation</th>\n",
       "      <th>What matters most to you in choosing a course</th>\n",
       "      <th>Search</th>\n",
       "      <th>Magazine</th>\n",
       "      <th>Newspaper Article</th>\n",
       "      <th>X Education Forums</th>\n",
       "      <th>Newspaper</th>\n",
       "      <th>Digital Advertisement</th>\n",
       "      <th>Through Recommendations</th>\n",
       "      <th>Receive More Updates About Our Courses</th>\n",
       "      <th>Tags</th>\n",
       "      <th>Lead Quality</th>\n",
       "      <th>Update me on Supply Chain Content</th>\n",
       "      <th>Get updates on DM Content</th>\n",
       "      <th>Lead Profile</th>\n",
       "      <th>City</th>\n",
       "      <th>Asymmetrique Activity Index</th>\n",
       "      <th>Asymmetrique Profile Index</th>\n",
       "      <th>Asymmetrique Activity Score</th>\n",
       "      <th>Asymmetrique Profile Score</th>\n",
       "      <th>I agree to pay the amount through cheque</th>\n",
       "      <th>A free copy of Mastering The Interview</th>\n",
       "      <th>Last Notable Activity</th>\n",
       "    </tr>\n",
       "  </thead>\n",
       "  <tbody>\n",
       "    <tr>\n",
       "      <th>0</th>\n",
       "      <td>7927b2df-8bba-4d29-b9a2-b6e0beafe620</td>\n",
       "      <td>660737</td>\n",
       "      <td>API</td>\n",
       "      <td>Olark Chat</td>\n",
       "      <td>No</td>\n",
       "      <td>No</td>\n",
       "      <td>0</td>\n",
       "      <td>0.0</td>\n",
       "      <td>0</td>\n",
       "      <td>0.0</td>\n",
       "      <td>Page Visited on Website</td>\n",
       "      <td>NaN</td>\n",
       "      <td>Select</td>\n",
       "      <td>Select</td>\n",
       "      <td>Unemployed</td>\n",
       "      <td>Better Career Prospects</td>\n",
       "      <td>No</td>\n",
       "      <td>No</td>\n",
       "      <td>No</td>\n",
       "      <td>No</td>\n",
       "      <td>No</td>\n",
       "      <td>No</td>\n",
       "      <td>No</td>\n",
       "      <td>No</td>\n",
       "      <td>Interested in other courses</td>\n",
       "      <td>Low in Relevance</td>\n",
       "      <td>No</td>\n",
       "      <td>No</td>\n",
       "      <td>Select</td>\n",
       "      <td>Select</td>\n",
       "      <td>02.Medium</td>\n",
       "      <td>02.Medium</td>\n",
       "      <td>15.0</td>\n",
       "      <td>15.0</td>\n",
       "      <td>No</td>\n",
       "      <td>No</td>\n",
       "      <td>Modified</td>\n",
       "    </tr>\n",
       "    <tr>\n",
       "      <th>1</th>\n",
       "      <td>2a272436-5132-4136-86fa-dcc88c88f482</td>\n",
       "      <td>660728</td>\n",
       "      <td>API</td>\n",
       "      <td>Organic Search</td>\n",
       "      <td>No</td>\n",
       "      <td>No</td>\n",
       "      <td>0</td>\n",
       "      <td>5.0</td>\n",
       "      <td>674</td>\n",
       "      <td>2.5</td>\n",
       "      <td>Email Opened</td>\n",
       "      <td>India</td>\n",
       "      <td>Select</td>\n",
       "      <td>Select</td>\n",
       "      <td>Unemployed</td>\n",
       "      <td>Better Career Prospects</td>\n",
       "      <td>No</td>\n",
       "      <td>No</td>\n",
       "      <td>No</td>\n",
       "      <td>No</td>\n",
       "      <td>No</td>\n",
       "      <td>No</td>\n",
       "      <td>No</td>\n",
       "      <td>No</td>\n",
       "      <td>Ringing</td>\n",
       "      <td>NaN</td>\n",
       "      <td>No</td>\n",
       "      <td>No</td>\n",
       "      <td>Select</td>\n",
       "      <td>Select</td>\n",
       "      <td>02.Medium</td>\n",
       "      <td>02.Medium</td>\n",
       "      <td>15.0</td>\n",
       "      <td>15.0</td>\n",
       "      <td>No</td>\n",
       "      <td>No</td>\n",
       "      <td>Email Opened</td>\n",
       "    </tr>\n",
       "    <tr>\n",
       "      <th>2</th>\n",
       "      <td>8cc8c611-a219-4f35-ad23-fdfd2656bd8a</td>\n",
       "      <td>660727</td>\n",
       "      <td>Landing Page Submission</td>\n",
       "      <td>Direct Traffic</td>\n",
       "      <td>No</td>\n",
       "      <td>No</td>\n",
       "      <td>1</td>\n",
       "      <td>2.0</td>\n",
       "      <td>1532</td>\n",
       "      <td>2.0</td>\n",
       "      <td>Email Opened</td>\n",
       "      <td>India</td>\n",
       "      <td>Business Administration</td>\n",
       "      <td>Select</td>\n",
       "      <td>Student</td>\n",
       "      <td>Better Career Prospects</td>\n",
       "      <td>No</td>\n",
       "      <td>No</td>\n",
       "      <td>No</td>\n",
       "      <td>No</td>\n",
       "      <td>No</td>\n",
       "      <td>No</td>\n",
       "      <td>No</td>\n",
       "      <td>No</td>\n",
       "      <td>Will revert after reading the email</td>\n",
       "      <td>Might be</td>\n",
       "      <td>No</td>\n",
       "      <td>No</td>\n",
       "      <td>Potential Lead</td>\n",
       "      <td>Mumbai</td>\n",
       "      <td>02.Medium</td>\n",
       "      <td>01.High</td>\n",
       "      <td>14.0</td>\n",
       "      <td>20.0</td>\n",
       "      <td>No</td>\n",
       "      <td>Yes</td>\n",
       "      <td>Email Opened</td>\n",
       "    </tr>\n",
       "    <tr>\n",
       "      <th>3</th>\n",
       "      <td>0cc2df48-7cf4-4e39-9de9-19797f9b38cc</td>\n",
       "      <td>660719</td>\n",
       "      <td>Landing Page Submission</td>\n",
       "      <td>Direct Traffic</td>\n",
       "      <td>No</td>\n",
       "      <td>No</td>\n",
       "      <td>0</td>\n",
       "      <td>1.0</td>\n",
       "      <td>305</td>\n",
       "      <td>1.0</td>\n",
       "      <td>Unreachable</td>\n",
       "      <td>India</td>\n",
       "      <td>Media and Advertising</td>\n",
       "      <td>Word Of Mouth</td>\n",
       "      <td>Unemployed</td>\n",
       "      <td>Better Career Prospects</td>\n",
       "      <td>No</td>\n",
       "      <td>No</td>\n",
       "      <td>No</td>\n",
       "      <td>No</td>\n",
       "      <td>No</td>\n",
       "      <td>No</td>\n",
       "      <td>No</td>\n",
       "      <td>No</td>\n",
       "      <td>Ringing</td>\n",
       "      <td>Not Sure</td>\n",
       "      <td>No</td>\n",
       "      <td>No</td>\n",
       "      <td>Select</td>\n",
       "      <td>Mumbai</td>\n",
       "      <td>02.Medium</td>\n",
       "      <td>01.High</td>\n",
       "      <td>13.0</td>\n",
       "      <td>17.0</td>\n",
       "      <td>No</td>\n",
       "      <td>No</td>\n",
       "      <td>Modified</td>\n",
       "    </tr>\n",
       "    <tr>\n",
       "      <th>4</th>\n",
       "      <td>3256f628-e534-4826-9d63-4a8b88782852</td>\n",
       "      <td>660681</td>\n",
       "      <td>Landing Page Submission</td>\n",
       "      <td>Google</td>\n",
       "      <td>No</td>\n",
       "      <td>No</td>\n",
       "      <td>1</td>\n",
       "      <td>2.0</td>\n",
       "      <td>1428</td>\n",
       "      <td>1.0</td>\n",
       "      <td>Converted to Lead</td>\n",
       "      <td>India</td>\n",
       "      <td>Select</td>\n",
       "      <td>Other</td>\n",
       "      <td>Unemployed</td>\n",
       "      <td>Better Career Prospects</td>\n",
       "      <td>No</td>\n",
       "      <td>No</td>\n",
       "      <td>No</td>\n",
       "      <td>No</td>\n",
       "      <td>No</td>\n",
       "      <td>No</td>\n",
       "      <td>No</td>\n",
       "      <td>No</td>\n",
       "      <td>Will revert after reading the email</td>\n",
       "      <td>Might be</td>\n",
       "      <td>No</td>\n",
       "      <td>No</td>\n",
       "      <td>Select</td>\n",
       "      <td>Mumbai</td>\n",
       "      <td>02.Medium</td>\n",
       "      <td>01.High</td>\n",
       "      <td>15.0</td>\n",
       "      <td>18.0</td>\n",
       "      <td>No</td>\n",
       "      <td>No</td>\n",
       "      <td>Modified</td>\n",
       "    </tr>\n",
       "  </tbody>\n",
       "</table>\n",
       "</div>"
      ],
      "text/plain": [
       "                            Prospect ID  Lead Number              Lead Origin  \\\n",
       "0  7927b2df-8bba-4d29-b9a2-b6e0beafe620       660737                      API   \n",
       "1  2a272436-5132-4136-86fa-dcc88c88f482       660728                      API   \n",
       "2  8cc8c611-a219-4f35-ad23-fdfd2656bd8a       660727  Landing Page Submission   \n",
       "3  0cc2df48-7cf4-4e39-9de9-19797f9b38cc       660719  Landing Page Submission   \n",
       "4  3256f628-e534-4826-9d63-4a8b88782852       660681  Landing Page Submission   \n",
       "\n",
       "      Lead Source Do Not Email Do Not Call  Converted  TotalVisits  \\\n",
       "0      Olark Chat           No          No          0          0.0   \n",
       "1  Organic Search           No          No          0          5.0   \n",
       "2  Direct Traffic           No          No          1          2.0   \n",
       "3  Direct Traffic           No          No          0          1.0   \n",
       "4          Google           No          No          1          2.0   \n",
       "\n",
       "   Total Time Spent on Website  Page Views Per Visit            Last Activity  \\\n",
       "0                            0                   0.0  Page Visited on Website   \n",
       "1                          674                   2.5             Email Opened   \n",
       "2                         1532                   2.0             Email Opened   \n",
       "3                          305                   1.0              Unreachable   \n",
       "4                         1428                   1.0        Converted to Lead   \n",
       "\n",
       "  Country           Specialization How did you hear about X Education  \\\n",
       "0     NaN                   Select                             Select   \n",
       "1   India                   Select                             Select   \n",
       "2   India  Business Administration                             Select   \n",
       "3   India    Media and Advertising                      Word Of Mouth   \n",
       "4   India                   Select                              Other   \n",
       "\n",
       "  What is your current occupation  \\\n",
       "0                      Unemployed   \n",
       "1                      Unemployed   \n",
       "2                         Student   \n",
       "3                      Unemployed   \n",
       "4                      Unemployed   \n",
       "\n",
       "  What matters most to you in choosing a course Search Magazine  \\\n",
       "0                       Better Career Prospects     No       No   \n",
       "1                       Better Career Prospects     No       No   \n",
       "2                       Better Career Prospects     No       No   \n",
       "3                       Better Career Prospects     No       No   \n",
       "4                       Better Career Prospects     No       No   \n",
       "\n",
       "  Newspaper Article X Education Forums Newspaper Digital Advertisement  \\\n",
       "0                No                 No        No                    No   \n",
       "1                No                 No        No                    No   \n",
       "2                No                 No        No                    No   \n",
       "3                No                 No        No                    No   \n",
       "4                No                 No        No                    No   \n",
       "\n",
       "  Through Recommendations Receive More Updates About Our Courses  \\\n",
       "0                      No                                     No   \n",
       "1                      No                                     No   \n",
       "2                      No                                     No   \n",
       "3                      No                                     No   \n",
       "4                      No                                     No   \n",
       "\n",
       "                                  Tags      Lead Quality  \\\n",
       "0          Interested in other courses  Low in Relevance   \n",
       "1                              Ringing               NaN   \n",
       "2  Will revert after reading the email          Might be   \n",
       "3                              Ringing          Not Sure   \n",
       "4  Will revert after reading the email          Might be   \n",
       "\n",
       "  Update me on Supply Chain Content Get updates on DM Content    Lead Profile  \\\n",
       "0                                No                        No          Select   \n",
       "1                                No                        No          Select   \n",
       "2                                No                        No  Potential Lead   \n",
       "3                                No                        No          Select   \n",
       "4                                No                        No          Select   \n",
       "\n",
       "     City Asymmetrique Activity Index Asymmetrique Profile Index  \\\n",
       "0  Select                   02.Medium                  02.Medium   \n",
       "1  Select                   02.Medium                  02.Medium   \n",
       "2  Mumbai                   02.Medium                    01.High   \n",
       "3  Mumbai                   02.Medium                    01.High   \n",
       "4  Mumbai                   02.Medium                    01.High   \n",
       "\n",
       "   Asymmetrique Activity Score  Asymmetrique Profile Score  \\\n",
       "0                         15.0                        15.0   \n",
       "1                         15.0                        15.0   \n",
       "2                         14.0                        20.0   \n",
       "3                         13.0                        17.0   \n",
       "4                         15.0                        18.0   \n",
       "\n",
       "  I agree to pay the amount through cheque  \\\n",
       "0                                       No   \n",
       "1                                       No   \n",
       "2                                       No   \n",
       "3                                       No   \n",
       "4                                       No   \n",
       "\n",
       "  A free copy of Mastering The Interview Last Notable Activity  \n",
       "0                                     No              Modified  \n",
       "1                                     No          Email Opened  \n",
       "2                                    Yes          Email Opened  \n",
       "3                                     No              Modified  \n",
       "4                                     No              Modified  "
      ]
     },
     "execution_count": 5,
     "metadata": {},
     "output_type": "execute_result"
    }
   ],
   "source": [
    "#Reading 'Leads.csv' file to pandas dataframe\n",
    "leads = pd.read_csv('D:\\\\Machine Learning\\\\ML Group Case Study\\\\2. Lead Scoring Case Study_Data.csv')\n",
    "\n",
    "# Displaying top 5 rows\n",
    "leads.head()"
   ]
  },
  {
   "cell_type": "markdown",
   "metadata": {},
   "source": [
    "####  1.2. Data Inspection"
   ]
  },
  {
   "cell_type": "code",
   "execution_count": 6,
   "metadata": {},
   "outputs": [
    {
     "data": {
      "text/plain": [
       "(9240, 37)"
      ]
     },
     "execution_count": 6,
     "metadata": {},
     "output_type": "execute_result"
    }
   ],
   "source": [
    "# Getting the number of rows and columns\n",
    "\n",
    "leads.shape"
   ]
  },
  {
   "cell_type": "markdown",
   "metadata": {},
   "source": [
    "**There are 9240 rows and 37 columns in the dataframe.** "
   ]
  },
  {
   "cell_type": "code",
   "execution_count": 7,
   "metadata": {},
   "outputs": [
    {
     "name": "stdout",
     "output_type": "stream",
     "text": [
      "<class 'pandas.core.frame.DataFrame'>\n",
      "RangeIndex: 9240 entries, 0 to 9239\n",
      "Data columns (total 37 columns):\n",
      " #   Column                                         Non-Null Count  Dtype  \n",
      "---  ------                                         --------------  -----  \n",
      " 0   Prospect ID                                    9240 non-null   object \n",
      " 1   Lead Number                                    9240 non-null   int64  \n",
      " 2   Lead Origin                                    9240 non-null   object \n",
      " 3   Lead Source                                    9204 non-null   object \n",
      " 4   Do Not Email                                   9240 non-null   object \n",
      " 5   Do Not Call                                    9240 non-null   object \n",
      " 6   Converted                                      9240 non-null   int64  \n",
      " 7   TotalVisits                                    9103 non-null   float64\n",
      " 8   Total Time Spent on Website                    9240 non-null   int64  \n",
      " 9   Page Views Per Visit                           9103 non-null   float64\n",
      " 10  Last Activity                                  9137 non-null   object \n",
      " 11  Country                                        6779 non-null   object \n",
      " 12  Specialization                                 7802 non-null   object \n",
      " 13  How did you hear about X Education             7033 non-null   object \n",
      " 14  What is your current occupation                6550 non-null   object \n",
      " 15  What matters most to you in choosing a course  6531 non-null   object \n",
      " 16  Search                                         9240 non-null   object \n",
      " 17  Magazine                                       9240 non-null   object \n",
      " 18  Newspaper Article                              9240 non-null   object \n",
      " 19  X Education Forums                             9240 non-null   object \n",
      " 20  Newspaper                                      9240 non-null   object \n",
      " 21  Digital Advertisement                          9240 non-null   object \n",
      " 22  Through Recommendations                        9240 non-null   object \n",
      " 23  Receive More Updates About Our Courses         9240 non-null   object \n",
      " 24  Tags                                           5887 non-null   object \n",
      " 25  Lead Quality                                   4473 non-null   object \n",
      " 26  Update me on Supply Chain Content              9240 non-null   object \n",
      " 27  Get updates on DM Content                      9240 non-null   object \n",
      " 28  Lead Profile                                   6531 non-null   object \n",
      " 29  City                                           7820 non-null   object \n",
      " 30  Asymmetrique Activity Index                    5022 non-null   object \n",
      " 31  Asymmetrique Profile Index                     5022 non-null   object \n",
      " 32  Asymmetrique Activity Score                    5022 non-null   float64\n",
      " 33  Asymmetrique Profile Score                     5022 non-null   float64\n",
      " 34  I agree to pay the amount through cheque       9240 non-null   object \n",
      " 35  A free copy of Mastering The Interview         9240 non-null   object \n",
      " 36  Last Notable Activity                          9240 non-null   object \n",
      "dtypes: float64(4), int64(3), object(30)\n",
      "memory usage: 2.6+ MB\n"
     ]
    }
   ],
   "source": [
    "# Getting the overall info about data types and not null values \n",
    "\n",
    "leads.info()\n"
   ]
  },
  {
   "cell_type": "markdown",
   "metadata": {},
   "source": [
    "**Here we observe that most of the features are categorical, so we need to create dummy variables for these features after analysing them.**\n",
    "\n",
    "**Also we observe that some columns have less than 9240 non null records, i.e. we have NULL values in the datarame.**\n",
    "\n",
    "**As notified we have some features which are manually fed by the Sales team.Each sales person feeds these features based on their experience from the interaction with the lead. For our model, we will keep only system generated features and drops sales  features:**\n",
    "\n",
    "- Tags\n",
    "- Lead Quality\n",
    "- Asymmetrique Activity Index\n",
    "- Asymmetrique Profile Index\n",
    "- Asymmetrique Activity Score\n",
    "- Asymmetrique Profile Score\n",
    "- Last Activity\n",
    "- Last Notable Activity \n",
    "- Lead Profile\n"
   ]
  },
  {
   "cell_type": "code",
   "execution_count": 8,
   "metadata": {},
   "outputs": [
    {
     "data": {
      "text/html": [
       "<div>\n",
       "<style scoped>\n",
       "    .dataframe tbody tr th:only-of-type {\n",
       "        vertical-align: middle;\n",
       "    }\n",
       "\n",
       "    .dataframe tbody tr th {\n",
       "        vertical-align: top;\n",
       "    }\n",
       "\n",
       "    .dataframe thead th {\n",
       "        text-align: right;\n",
       "    }\n",
       "</style>\n",
       "<table border=\"1\" class=\"dataframe\">\n",
       "  <thead>\n",
       "    <tr style=\"text-align: right;\">\n",
       "      <th></th>\n",
       "      <th>Lead Number</th>\n",
       "      <th>Converted</th>\n",
       "      <th>TotalVisits</th>\n",
       "      <th>Total Time Spent on Website</th>\n",
       "      <th>Page Views Per Visit</th>\n",
       "      <th>Asymmetrique Activity Score</th>\n",
       "      <th>Asymmetrique Profile Score</th>\n",
       "    </tr>\n",
       "  </thead>\n",
       "  <tbody>\n",
       "    <tr>\n",
       "      <th>count</th>\n",
       "      <td>9240.000000</td>\n",
       "      <td>9240.000000</td>\n",
       "      <td>9103.000000</td>\n",
       "      <td>9240.000000</td>\n",
       "      <td>9103.000000</td>\n",
       "      <td>5022.000000</td>\n",
       "      <td>5022.000000</td>\n",
       "    </tr>\n",
       "    <tr>\n",
       "      <th>mean</th>\n",
       "      <td>617188.435606</td>\n",
       "      <td>0.385390</td>\n",
       "      <td>3.445238</td>\n",
       "      <td>487.698268</td>\n",
       "      <td>2.362820</td>\n",
       "      <td>14.306252</td>\n",
       "      <td>16.344883</td>\n",
       "    </tr>\n",
       "    <tr>\n",
       "      <th>std</th>\n",
       "      <td>23405.995698</td>\n",
       "      <td>0.486714</td>\n",
       "      <td>4.854853</td>\n",
       "      <td>548.021466</td>\n",
       "      <td>2.161418</td>\n",
       "      <td>1.386694</td>\n",
       "      <td>1.811395</td>\n",
       "    </tr>\n",
       "    <tr>\n",
       "      <th>min</th>\n",
       "      <td>579533.000000</td>\n",
       "      <td>0.000000</td>\n",
       "      <td>0.000000</td>\n",
       "      <td>0.000000</td>\n",
       "      <td>0.000000</td>\n",
       "      <td>7.000000</td>\n",
       "      <td>11.000000</td>\n",
       "    </tr>\n",
       "    <tr>\n",
       "      <th>25%</th>\n",
       "      <td>596484.500000</td>\n",
       "      <td>0.000000</td>\n",
       "      <td>1.000000</td>\n",
       "      <td>12.000000</td>\n",
       "      <td>1.000000</td>\n",
       "      <td>14.000000</td>\n",
       "      <td>15.000000</td>\n",
       "    </tr>\n",
       "    <tr>\n",
       "      <th>50%</th>\n",
       "      <td>615479.000000</td>\n",
       "      <td>0.000000</td>\n",
       "      <td>3.000000</td>\n",
       "      <td>248.000000</td>\n",
       "      <td>2.000000</td>\n",
       "      <td>14.000000</td>\n",
       "      <td>16.000000</td>\n",
       "    </tr>\n",
       "    <tr>\n",
       "      <th>75%</th>\n",
       "      <td>637387.250000</td>\n",
       "      <td>1.000000</td>\n",
       "      <td>5.000000</td>\n",
       "      <td>936.000000</td>\n",
       "      <td>3.000000</td>\n",
       "      <td>15.000000</td>\n",
       "      <td>18.000000</td>\n",
       "    </tr>\n",
       "    <tr>\n",
       "      <th>max</th>\n",
       "      <td>660737.000000</td>\n",
       "      <td>1.000000</td>\n",
       "      <td>251.000000</td>\n",
       "      <td>2272.000000</td>\n",
       "      <td>55.000000</td>\n",
       "      <td>18.000000</td>\n",
       "      <td>20.000000</td>\n",
       "    </tr>\n",
       "  </tbody>\n",
       "</table>\n",
       "</div>"
      ],
      "text/plain": [
       "         Lead Number    Converted  TotalVisits  Total Time Spent on Website  \\\n",
       "count    9240.000000  9240.000000  9103.000000                  9240.000000   \n",
       "mean   617188.435606     0.385390     3.445238                   487.698268   \n",
       "std     23405.995698     0.486714     4.854853                   548.021466   \n",
       "min    579533.000000     0.000000     0.000000                     0.000000   \n",
       "25%    596484.500000     0.000000     1.000000                    12.000000   \n",
       "50%    615479.000000     0.000000     3.000000                   248.000000   \n",
       "75%    637387.250000     1.000000     5.000000                   936.000000   \n",
       "max    660737.000000     1.000000   251.000000                  2272.000000   \n",
       "\n",
       "       Page Views Per Visit  Asymmetrique Activity Score  \\\n",
       "count           9103.000000                  5022.000000   \n",
       "mean               2.362820                    14.306252   \n",
       "std                2.161418                     1.386694   \n",
       "min                0.000000                     7.000000   \n",
       "25%                1.000000                    14.000000   \n",
       "50%                2.000000                    14.000000   \n",
       "75%                3.000000                    15.000000   \n",
       "max               55.000000                    18.000000   \n",
       "\n",
       "       Asymmetrique Profile Score  \n",
       "count                 5022.000000  \n",
       "mean                    16.344883  \n",
       "std                      1.811395  \n",
       "min                     11.000000  \n",
       "25%                     15.000000  \n",
       "50%                     16.000000  \n",
       "75%                     18.000000  \n",
       "max                     20.000000  "
      ]
     },
     "execution_count": 8,
     "metadata": {},
     "output_type": "execute_result"
    }
   ],
   "source": [
    "# Getting the statistical information for continuous variables\n",
    "\n",
    "leads.describe()"
   ]
  },
  {
   "cell_type": "markdown",
   "metadata": {},
   "source": [
    "**We observe that 'TotalVisits','Total Time Spent on Website' and 'Page Views Per Visit' has some outliers as difference between 75% and max percentile seems too high.**"
   ]
  },
  {
   "cell_type": "markdown",
   "metadata": {},
   "source": [
    "#### 1.3 Duplicate Check"
   ]
  },
  {
   "cell_type": "code",
   "execution_count": 9,
   "metadata": {},
   "outputs": [
    {
     "data": {
      "text/html": [
       "<div>\n",
       "<style scoped>\n",
       "    .dataframe tbody tr th:only-of-type {\n",
       "        vertical-align: middle;\n",
       "    }\n",
       "\n",
       "    .dataframe tbody tr th {\n",
       "        vertical-align: top;\n",
       "    }\n",
       "\n",
       "    .dataframe thead th {\n",
       "        text-align: right;\n",
       "    }\n",
       "</style>\n",
       "<table border=\"1\" class=\"dataframe\">\n",
       "  <thead>\n",
       "    <tr style=\"text-align: right;\">\n",
       "      <th></th>\n",
       "      <th>Prospect ID</th>\n",
       "      <th>Lead Number</th>\n",
       "      <th>Lead Origin</th>\n",
       "      <th>Lead Source</th>\n",
       "      <th>Do Not Email</th>\n",
       "      <th>Do Not Call</th>\n",
       "      <th>Converted</th>\n",
       "      <th>TotalVisits</th>\n",
       "      <th>Total Time Spent on Website</th>\n",
       "      <th>Page Views Per Visit</th>\n",
       "      <th>Last Activity</th>\n",
       "      <th>Country</th>\n",
       "      <th>Specialization</th>\n",
       "      <th>How did you hear about X Education</th>\n",
       "      <th>What is your current occupation</th>\n",
       "      <th>What matters most to you in choosing a course</th>\n",
       "      <th>Search</th>\n",
       "      <th>Magazine</th>\n",
       "      <th>Newspaper Article</th>\n",
       "      <th>X Education Forums</th>\n",
       "      <th>Newspaper</th>\n",
       "      <th>Digital Advertisement</th>\n",
       "      <th>Through Recommendations</th>\n",
       "      <th>Receive More Updates About Our Courses</th>\n",
       "      <th>Tags</th>\n",
       "      <th>Lead Quality</th>\n",
       "      <th>Update me on Supply Chain Content</th>\n",
       "      <th>Get updates on DM Content</th>\n",
       "      <th>Lead Profile</th>\n",
       "      <th>City</th>\n",
       "      <th>Asymmetrique Activity Index</th>\n",
       "      <th>Asymmetrique Profile Index</th>\n",
       "      <th>Asymmetrique Activity Score</th>\n",
       "      <th>Asymmetrique Profile Score</th>\n",
       "      <th>I agree to pay the amount through cheque</th>\n",
       "      <th>A free copy of Mastering The Interview</th>\n",
       "      <th>Last Notable Activity</th>\n",
       "    </tr>\n",
       "  </thead>\n",
       "  <tbody>\n",
       "  </tbody>\n",
       "</table>\n",
       "</div>"
      ],
      "text/plain": [
       "Empty DataFrame\n",
       "Columns: [Prospect ID, Lead Number, Lead Origin, Lead Source, Do Not Email, Do Not Call, Converted, TotalVisits, Total Time Spent on Website, Page Views Per Visit, Last Activity, Country, Specialization, How did you hear about X Education, What is your current occupation, What matters most to you in choosing a course, Search, Magazine, Newspaper Article, X Education Forums, Newspaper, Digital Advertisement, Through Recommendations, Receive More Updates About Our Courses, Tags, Lead Quality, Update me on Supply Chain Content, Get updates on DM Content, Lead Profile, City, Asymmetrique Activity Index, Asymmetrique Profile Index, Asymmetrique Activity Score, Asymmetrique Profile Score, I agree to pay the amount through cheque, A free copy of Mastering The Interview, Last Notable Activity]\n",
       "Index: []"
      ]
     },
     "execution_count": 9,
     "metadata": {},
     "output_type": "execute_result"
    }
   ],
   "source": [
    "# Check if there are any duplicate values in the dataset\n",
    "leads[leads.duplicated(keep=False)]"
   ]
  },
  {
   "cell_type": "markdown",
   "metadata": {},
   "source": [
    "**There are no duplicate records in the dataframe.**"
   ]
  },
  {
   "cell_type": "markdown",
   "metadata": {},
   "source": [
    "#### 1.4 Class Imbalance Check"
   ]
  },
  {
   "cell_type": "code",
   "execution_count": 10,
   "metadata": {},
   "outputs": [
    {
     "data": {
      "text/plain": [
       "38.53896103896104"
      ]
     },
     "execution_count": 10,
     "metadata": {},
     "output_type": "execute_result"
    }
   ],
   "source": [
    "# Finding class imbalance\n",
    "conversion = (sum(leads['Converted'])/len(leads['Converted'].index))*100\n",
    "conversion"
   ]
  },
  {
   "cell_type": "markdown",
   "metadata": {},
   "source": [
    "**Here, we observe that there is 38% of conversion rate. This is neither exactly 'balanced' (which a 50-50 ratio would be called) nor heavily imbalanced. So we'll not have to do any special treatment for this dataset.**"
   ]
  },
  {
   "cell_type": "markdown",
   "metadata": {},
   "source": [
    "#### 1.5 Unique values check for all features"
   ]
  },
  {
   "cell_type": "code",
   "execution_count": 11,
   "metadata": {},
   "outputs": [],
   "source": [
    "# Defining function for getting the record count for each valuue for each feature\n",
    "def val_ct(X):\n",
    "    for i in X.columns:\n",
    "        print(i)\n",
    "        print('---------')\n",
    "        print(X[i].value_counts(normalize = True))"
   ]
  },
  {
   "cell_type": "code",
   "execution_count": 12,
   "metadata": {},
   "outputs": [
    {
     "name": "stdout",
     "output_type": "stream",
     "text": [
      "Prospect ID\n",
      "---------\n",
      "53dd16bd-8201-448d-8e20-97de1cf44a7f    0.000108\n",
      "f3af2d98-02db-45d7-bbf6-c641d6b4f4c3    0.000108\n",
      "910091d5-4092-4778-b9d9-d986ec8d9b17    0.000108\n",
      "68ce5663-48b6-4674-9b42-f5c7cd9079d0    0.000108\n",
      "9d92de15-a159-48f8-873d-03cc031d48d0    0.000108\n",
      "                                          ...   \n",
      "9766897f-42e0-4da5-ab63-d56914042e1e    0.000108\n",
      "11321b4c-8834-4415-8a7e-cff828709441    0.000108\n",
      "13f7d9cd-a47c-4024-944e-efaa1357c594    0.000108\n",
      "d02605ec-9edd-4bab-ad8f-452a7d8b4c2d    0.000108\n",
      "23f41d1f-986e-4513-94eb-1803cc88d399    0.000108\n",
      "Name: Prospect ID, Length: 9240, dtype: float64\n",
      "Lead Number\n",
      "---------\n",
      "608255    0.000108\n",
      "596233    0.000108\n",
      "656682    0.000108\n",
      "592824    0.000108\n",
      "652580    0.000108\n",
      "            ...   \n",
      "631489    0.000108\n",
      "600768    0.000108\n",
      "598556    0.000108\n",
      "616923    0.000108\n",
      "655360    0.000108\n",
      "Name: Lead Number, Length: 9240, dtype: float64\n",
      "Lead Origin\n",
      "---------\n",
      "Landing Page Submission    0.528788\n",
      "API                        0.387446\n",
      "Lead Add Form              0.077706\n",
      "Lead Import                0.005952\n",
      "Quick Add Form             0.000108\n",
      "Name: Lead Origin, dtype: float64\n",
      "Lead Source\n",
      "---------\n",
      "Google               0.311604\n",
      "Direct Traffic       0.276293\n",
      "Olark Chat           0.190678\n",
      "Organic Search       0.125380\n",
      "Reference            0.058018\n",
      "Welingak Website     0.015428\n",
      "Referral Sites       0.013581\n",
      "Facebook             0.005976\n",
      "bing                 0.000652\n",
      "google               0.000543\n",
      "Click2call           0.000435\n",
      "Press_Release        0.000217\n",
      "Social Media         0.000217\n",
      "Live Chat            0.000217\n",
      "blog                 0.000109\n",
      "testone              0.000109\n",
      "youtubechannel       0.000109\n",
      "NC_EDM               0.000109\n",
      "WeLearn              0.000109\n",
      "welearnblog_Home     0.000109\n",
      "Pay per Click Ads    0.000109\n",
      "Name: Lead Source, dtype: float64\n",
      "Do Not Email\n",
      "---------\n",
      "No     0.920563\n",
      "Yes    0.079437\n",
      "Name: Do Not Email, dtype: float64\n",
      "Do Not Call\n",
      "---------\n",
      "No     0.999784\n",
      "Yes    0.000216\n",
      "Name: Do Not Call, dtype: float64\n",
      "Converted\n",
      "---------\n",
      "0    0.61461\n",
      "1    0.38539\n",
      "Name: Converted, dtype: float64\n",
      "TotalVisits\n",
      "---------\n",
      "0.0      0.240470\n",
      "2.0      0.184555\n",
      "3.0      0.143469\n",
      "4.0      0.123036\n",
      "5.0      0.086016\n",
      "6.0      0.051192\n",
      "1.0      0.043392\n",
      "7.0      0.033945\n",
      "8.0      0.024607\n",
      "9.0      0.018016\n",
      "10.0     0.012523\n",
      "11.0     0.009447\n",
      "13.0     0.005273\n",
      "12.0     0.004943\n",
      "14.0     0.003955\n",
      "16.0     0.002307\n",
      "15.0     0.001977\n",
      "17.0     0.001758\n",
      "18.0     0.001648\n",
      "20.0     0.001318\n",
      "19.0     0.000989\n",
      "23.0     0.000659\n",
      "21.0     0.000659\n",
      "27.0     0.000549\n",
      "24.0     0.000549\n",
      "25.0     0.000549\n",
      "22.0     0.000330\n",
      "28.0     0.000220\n",
      "29.0     0.000220\n",
      "26.0     0.000220\n",
      "251.0    0.000110\n",
      "74.0     0.000110\n",
      "30.0     0.000110\n",
      "141.0    0.000110\n",
      "54.0     0.000110\n",
      "41.0     0.000110\n",
      "115.0    0.000110\n",
      "43.0     0.000110\n",
      "42.0     0.000110\n",
      "32.0     0.000110\n",
      "55.0     0.000110\n",
      "Name: TotalVisits, dtype: float64\n",
      "Total Time Spent on Website\n",
      "---------\n",
      "0       0.237338\n",
      "60      0.002056\n",
      "127     0.001948\n",
      "75      0.001948\n",
      "74      0.001948\n",
      "          ...   \n",
      "1235    0.000108\n",
      "1091    0.000108\n",
      "1043    0.000108\n",
      "1035    0.000108\n",
      "1915    0.000108\n",
      "Name: Total Time Spent on Website, Length: 1731, dtype: float64\n",
      "Page Views Per Visit\n",
      "---------\n",
      "0.00    0.240470\n",
      "2.00    0.197188\n",
      "3.00    0.131385\n",
      "4.00    0.098429\n",
      "1.00    0.071515\n",
      "          ...   \n",
      "1.27    0.000110\n",
      "8.21    0.000110\n",
      "2.14    0.000110\n",
      "2.63    0.000110\n",
      "2.45    0.000110\n",
      "Name: Page Views Per Visit, Length: 114, dtype: float64\n",
      "Last Activity\n",
      "---------\n",
      "Email Opened                    0.376163\n",
      "SMS Sent                        0.300427\n",
      "Olark Chat Conversation         0.106490\n",
      "Page Visited on Website         0.070045\n",
      "Converted to Lead               0.046843\n",
      "Email Bounced                   0.035679\n",
      "Email Link Clicked              0.029222\n",
      "Form Submitted on Website       0.012696\n",
      "Unreachable                     0.010178\n",
      "Unsubscribed                    0.006676\n",
      "Had a Phone Conversation        0.003283\n",
      "Approached upfront              0.000985\n",
      "View in browser link Clicked    0.000657\n",
      "Email Received                  0.000219\n",
      "Email Marked Spam               0.000219\n",
      "Visited Booth in Tradeshow      0.000109\n",
      "Resubscribed to emails          0.000109\n",
      "Name: Last Activity, dtype: float64\n",
      "Country\n",
      "---------\n",
      "India                   0.957663\n",
      "United States           0.010178\n",
      "United Arab Emirates    0.007818\n",
      "Singapore               0.003540\n",
      "Saudi Arabia            0.003098\n",
      "United Kingdom          0.002213\n",
      "Australia               0.001918\n",
      "Qatar                   0.001475\n",
      "Bahrain                 0.001033\n",
      "Hong Kong               0.001033\n",
      "Oman                    0.000885\n",
      "France                  0.000885\n",
      "unknown                 0.000738\n",
      "Nigeria                 0.000590\n",
      "Canada                  0.000590\n",
      "South Africa            0.000590\n",
      "Germany                 0.000590\n",
      "Kuwait                  0.000590\n",
      "Sweden                  0.000443\n",
      "Ghana                   0.000295\n",
      "Philippines             0.000295\n",
      "Belgium                 0.000295\n",
      "China                   0.000295\n",
      "Italy                   0.000295\n",
      "Netherlands             0.000295\n",
      "Uganda                  0.000295\n",
      "Bangladesh              0.000295\n",
      "Asia/Pacific Region     0.000295\n",
      "Tanzania                0.000148\n",
      "Switzerland             0.000148\n",
      "Liberia                 0.000148\n",
      "Denmark                 0.000148\n",
      "Indonesia               0.000148\n",
      "Malaysia                0.000148\n",
      "Vietnam                 0.000148\n",
      "Russia                  0.000148\n",
      "Sri Lanka               0.000148\n",
      "Kenya                   0.000148\n",
      "Name: Country, dtype: float64\n",
      "Specialization\n",
      "---------\n",
      "Select                               0.248911\n",
      "Finance Management                   0.125096\n",
      "Human Resource Management            0.108690\n",
      "Marketing Management                 0.107408\n",
      "Operations Management                0.064471\n",
      "Business Administration              0.051653\n",
      "IT Projects Management               0.046911\n",
      "Supply Chain Management              0.044732\n",
      "Banking, Investment And Insurance    0.043322\n",
      "Media and Advertising                0.026019\n",
      "Travel and Tourism                   0.026019\n",
      "International Business               0.022815\n",
      "Healthcare Management                0.020379\n",
      "Hospitality Management               0.014612\n",
      "E-COMMERCE                           0.014355\n",
      "Retail Management                    0.012817\n",
      "Rural and Agribusiness               0.009357\n",
      "E-Business                           0.007306\n",
      "Services Excellence                  0.005127\n",
      "Name: Specialization, dtype: float64\n",
      "How did you hear about X Education\n",
      "---------\n",
      "Select                   0.717048\n",
      "Online Search            0.114887\n",
      "Word Of Mouth            0.049481\n",
      "Student of SomeSchool    0.044078\n",
      "Other                    0.026447\n",
      "Multiple Sources         0.021612\n",
      "Advertisements           0.009953\n",
      "Social Media             0.009527\n",
      "Email                    0.003697\n",
      "SMS                      0.003270\n",
      "Name: How did you hear about X Education, dtype: float64\n",
      "What is your current occupation\n",
      "---------\n",
      "Unemployed              0.854962\n",
      "Working Professional    0.107786\n",
      "Student                 0.032061\n",
      "Other                   0.002443\n",
      "Housewife               0.001527\n",
      "Businessman             0.001221\n",
      "Name: What is your current occupation, dtype: float64\n",
      "What matters most to you in choosing a course\n",
      "---------\n",
      "Better Career Prospects      0.999541\n",
      "Flexibility & Convenience    0.000306\n",
      "Other                        0.000153\n",
      "Name: What matters most to you in choosing a course, dtype: float64\n",
      "Search\n",
      "---------\n",
      "No     0.998485\n",
      "Yes    0.001515\n",
      "Name: Search, dtype: float64\n",
      "Magazine\n",
      "---------\n",
      "No    1.0\n",
      "Name: Magazine, dtype: float64\n",
      "Newspaper Article\n",
      "---------\n",
      "No     0.999784\n",
      "Yes    0.000216\n",
      "Name: Newspaper Article, dtype: float64\n",
      "X Education Forums\n",
      "---------\n",
      "No     0.999892\n",
      "Yes    0.000108\n",
      "Name: X Education Forums, dtype: float64\n",
      "Newspaper\n",
      "---------\n",
      "No     0.999892\n",
      "Yes    0.000108\n",
      "Name: Newspaper, dtype: float64\n",
      "Digital Advertisement\n",
      "---------\n",
      "No     0.999567\n",
      "Yes    0.000433\n",
      "Name: Digital Advertisement, dtype: float64\n",
      "Through Recommendations\n",
      "---------\n",
      "No     0.999242\n",
      "Yes    0.000758\n",
      "Name: Through Recommendations, dtype: float64\n",
      "Receive More Updates About Our Courses\n",
      "---------\n",
      "No    1.0\n",
      "Name: Receive More Updates About Our Courses, dtype: float64\n",
      "Tags\n",
      "---------\n",
      "Will revert after reading the email                  0.351962\n",
      "Ringing                                              0.204349\n",
      "Interested in other courses                          0.087141\n",
      "Already a student                                    0.078988\n",
      "Closed by Horizzon                                   0.060812\n",
      "switched off                                         0.040768\n",
      "Busy                                                 0.031595\n",
      "Lost to EINS                                         0.029727\n",
      "Not doing further education                          0.024631\n",
      "Interested  in full time MBA                         0.019874\n",
      "Graduation in progress                               0.018855\n",
      "invalid number                                       0.014099\n",
      "Diploma holder (Not Eligible)                        0.010702\n",
      "wrong number given                                   0.007984\n",
      "opp hangup                                           0.005606\n",
      "number not provided                                  0.004586\n",
      "in touch with EINS                                   0.002038\n",
      "Lost to Others                                       0.001189\n",
      "Still Thinking                                       0.001019\n",
      "Want to take admission but has financial problems    0.001019\n",
      "Interested in Next batch                             0.000849\n",
      "In confusion whether part time or DLP                0.000849\n",
      "Lateral student                                      0.000510\n",
      "University not recognized                            0.000340\n",
      "Shall take in the next coming month                  0.000340\n",
      "Recognition issue (DEC approval)                     0.000170\n",
      "Name: Tags, dtype: float64\n",
      "Lead Quality\n",
      "---------\n",
      "Might be             0.348759\n",
      "Not Sure             0.244131\n",
      "High in Relevance    0.142410\n",
      "Worst                0.134362\n",
      "Low in Relevance     0.130338\n",
      "Name: Lead Quality, dtype: float64\n",
      "Update me on Supply Chain Content\n",
      "---------\n",
      "No    1.0\n",
      "Name: Update me on Supply Chain Content, dtype: float64\n",
      "Get updates on DM Content\n",
      "---------\n",
      "No    1.0\n",
      "Name: Get updates on DM Content, dtype: float64\n",
      "Lead Profile\n",
      "---------\n",
      "Select                         0.634819\n",
      "Potential Lead                 0.246976\n",
      "Other Leads                    0.074567\n",
      "Student of SomeSchool          0.036901\n",
      "Lateral Student                0.003675\n",
      "Dual Specialization Student    0.003062\n",
      "Name: Lead Profile, dtype: float64\n",
      "City\n",
      "---------\n",
      "Mumbai                         0.412020\n",
      "Select                         0.287596\n",
      "Thane & Outskirts              0.096164\n",
      "Other Cities                   0.087724\n",
      "Other Cities of Maharashtra    0.058440\n",
      "Other Metro Cities             0.048593\n",
      "Tier II Cities                 0.009463\n",
      "Name: City, dtype: float64\n",
      "Asymmetrique Activity Index\n",
      "---------\n",
      "02.Medium    0.764436\n",
      "01.High      0.163481\n",
      "03.Low       0.072083\n",
      "Name: Asymmetrique Activity Index, dtype: float64\n",
      "Asymmetrique Profile Index\n",
      "---------\n",
      "02.Medium    0.555157\n",
      "01.High      0.438670\n",
      "03.Low       0.006173\n",
      "Name: Asymmetrique Profile Index, dtype: float64\n",
      "Asymmetrique Activity Score\n",
      "---------\n",
      "14.0    0.352648\n",
      "15.0    0.257467\n",
      "13.0    0.154321\n",
      "16.0    0.092991\n",
      "17.0    0.069494\n",
      "12.0    0.039028\n",
      "11.0    0.018917\n",
      "10.0    0.011350\n",
      "9.0     0.001792\n",
      "18.0    0.000996\n",
      "8.0     0.000796\n",
      "7.0     0.000199\n",
      "Name: Asymmetrique Activity Score, dtype: float64\n",
      "Asymmetrique Profile Score\n",
      "---------\n",
      "15.0    0.350259\n",
      "18.0    0.213262\n",
      "16.0    0.119275\n",
      "17.0    0.115293\n",
      "20.0    0.061330\n",
      "19.0    0.048785\n",
      "14.0    0.045002\n",
      "13.0    0.040621\n",
      "12.0    0.004381\n",
      "11.0    0.001792\n",
      "Name: Asymmetrique Profile Score, dtype: float64\n",
      "I agree to pay the amount through cheque\n",
      "---------\n",
      "No    1.0\n",
      "Name: I agree to pay the amount through cheque, dtype: float64\n",
      "A free copy of Mastering The Interview\n",
      "---------\n",
      "No     0.687446\n",
      "Yes    0.312554\n",
      "Name: A free copy of Mastering The Interview, dtype: float64\n",
      "Last Notable Activity\n",
      "---------\n",
      "Modified                        0.368723\n",
      "Email Opened                    0.305952\n",
      "SMS Sent                        0.235065\n",
      "Page Visited on Website         0.034416\n",
      "Olark Chat Conversation         0.019805\n",
      "Email Link Clicked              0.018723\n",
      "Email Bounced                   0.006494\n",
      "Unsubscribed                    0.005087\n",
      "Unreachable                     0.003463\n",
      "Had a Phone Conversation        0.001515\n",
      "Email Marked Spam               0.000216\n",
      "Approached upfront              0.000108\n",
      "View in browser link Clicked    0.000108\n",
      "Resubscribed to emails          0.000108\n",
      "Email Received                  0.000108\n",
      "Form Submitted on Website       0.000108\n",
      "Name: Last Notable Activity, dtype: float64\n"
     ]
    }
   ],
   "source": [
    "val_ct(leads)"
   ]
  },
  {
   "cell_type": "markdown",
   "metadata": {},
   "source": [
    "**1. Prospect Id and Lead Number features are unique, so they are not needed while model building.So we will drop 'Lead Number' for now and keep Prospect ID for uniquely identifing the records.**"
   ]
  },
  {
   "cell_type": "code",
   "execution_count": 13,
   "metadata": {},
   "outputs": [],
   "source": [
    "# Dropping unique features 'Prospect ID' and 'Lead Number' \n",
    "\n",
    "leads2 = leads.drop(['Lead Number'],axis = 1)"
   ]
  },
  {
   "cell_type": "markdown",
   "metadata": {},
   "source": [
    "**2. We observe that below categorical features have 'Select' as one of the levels.**\n",
    "\n",
    "- 'How did you hear about X Education'\n",
    "\n",
    "- 'Specialization'\n",
    "\n",
    "- 'Lead Profile'\n",
    "\n",
    "- 'City'\n",
    "\n",
    "**This means that the lead has not entered any data.So its better to convert them to NaN values or some other category.**\n",
    "\n",
    "**Lets check each feature with level as 'Select' and decide the imputation technique.**"
   ]
  },
  {
   "cell_type": "code",
   "execution_count": 14,
   "metadata": {
    "scrolled": true
   },
   "outputs": [
    {
     "data": {
      "text/plain": [
       "Select                   5043\n",
       "Online Search             808\n",
       "Word Of Mouth             348\n",
       "Student of SomeSchool     310\n",
       "Other                     186\n",
       "Multiple Sources          152\n",
       "Advertisements             70\n",
       "Social Media               67\n",
       "Email                      26\n",
       "SMS                        23\n",
       "Name: How did you hear about X Education, dtype: int64"
      ]
     },
     "execution_count": 14,
     "metadata": {},
     "output_type": "execute_result"
    }
   ],
   "source": [
    "# Checking feature - 'How did you hear about X Education'\n",
    "\n",
    "leads2['How did you hear about X Education'].value_counts()"
   ]
  },
  {
   "cell_type": "markdown",
   "metadata": {},
   "source": [
    "**We dont see any level like 'Not Provided', so its better to replace 'Select' with NaN value. Later we can use NULL imputation technique.**"
   ]
  },
  {
   "cell_type": "code",
   "execution_count": 15,
   "metadata": {},
   "outputs": [
    {
     "data": {
      "text/plain": [
       "Select                               1942\n",
       "Finance Management                    976\n",
       "Human Resource Management             848\n",
       "Marketing Management                  838\n",
       "Operations Management                 503\n",
       "Business Administration               403\n",
       "IT Projects Management                366\n",
       "Supply Chain Management               349\n",
       "Banking, Investment And Insurance     338\n",
       "Media and Advertising                 203\n",
       "Travel and Tourism                    203\n",
       "International Business                178\n",
       "Healthcare Management                 159\n",
       "Hospitality Management                114\n",
       "E-COMMERCE                            112\n",
       "Retail Management                     100\n",
       "Rural and Agribusiness                 73\n",
       "E-Business                             57\n",
       "Services Excellence                    40\n",
       "Name: Specialization, dtype: int64"
      ]
     },
     "execution_count": 15,
     "metadata": {},
     "output_type": "execute_result"
    }
   ],
   "source": [
    "leads2['Specialization'].value_counts()"
   ]
  },
  {
   "cell_type": "markdown",
   "metadata": {},
   "source": [
    "**We dont see any level like 'Not Provided', so its better to replace 'Select' with NaN value. Later we can use NULL imputation technique.**"
   ]
  },
  {
   "cell_type": "code",
   "execution_count": 16,
   "metadata": {},
   "outputs": [
    {
     "data": {
      "text/plain": [
       "Select                         4146\n",
       "Potential Lead                 1613\n",
       "Other Leads                     487\n",
       "Student of SomeSchool           241\n",
       "Lateral Student                  24\n",
       "Dual Specialization Student      20\n",
       "Name: Lead Profile, dtype: int64"
      ]
     },
     "execution_count": 16,
     "metadata": {},
     "output_type": "execute_result"
    }
   ],
   "source": [
    "# Checking feature -  'Lead Profile'\n",
    "\n",
    "leads2['Lead Profile'].value_counts()"
   ]
  },
  {
   "cell_type": "markdown",
   "metadata": {},
   "source": [
    "**We dont see any level like 'Not Provided', so its better to replace 'Select' with NaN value. Later we can use NULL imputation technique.**"
   ]
  },
  {
   "cell_type": "code",
   "execution_count": 17,
   "metadata": {},
   "outputs": [
    {
     "data": {
      "text/plain": [
       "Mumbai                         3222\n",
       "Select                         2249\n",
       "Thane & Outskirts               752\n",
       "Other Cities                    686\n",
       "Other Cities of Maharashtra     457\n",
       "Other Metro Cities              380\n",
       "Tier II Cities                   74\n",
       "Name: City, dtype: int64"
      ]
     },
     "execution_count": 17,
     "metadata": {},
     "output_type": "execute_result"
    }
   ],
   "source": [
    "# Checking feature - 'City'\n",
    "leads2['City'].value_counts()"
   ]
  },
  {
   "cell_type": "markdown",
   "metadata": {},
   "source": [
    "**We dont see any level like 'Not Provided', so its better to replace 'Select' with NaN value. Later we can use NULL imputation technique.**"
   ]
  },
  {
   "cell_type": "code",
   "execution_count": 18,
   "metadata": {},
   "outputs": [],
   "source": [
    "# Replacing 'Select' with NaN \n",
    "leads2 = leads2.replace('Select',np.nan)"
   ]
  },
  {
   "cell_type": "markdown",
   "metadata": {},
   "source": [
    "**3. For Lead source , we have 'Google' and 'google' as different levels. So we will merge 'google' data to 'Google'**"
   ]
  },
  {
   "cell_type": "code",
   "execution_count": 19,
   "metadata": {},
   "outputs": [],
   "source": [
    "# Converting google to Google category\n",
    "leads2 = leads2.replace('google','Google')"
   ]
  },
  {
   "cell_type": "markdown",
   "metadata": {},
   "source": [
    "**4. Below features have skewed data , that means either only one level is available or has more than 95% of data as one level.**. \n",
    "\n",
    "- 'Do Not Call'\n",
    "\n",
    "- 'Country'\n",
    "\n",
    "- 'What matters most to you in choosing a course'\n",
    "\n",
    "- 'Search'\n",
    "\n",
    "- 'Magazine'\n",
    "\n",
    "- 'Newspaper Article'\n",
    "\n",
    "- 'X Education Forums'\n",
    "\n",
    "- 'Newspaper'\n",
    "\n",
    "- 'Digital Advertisement'\n",
    "\n",
    "- 'Through Recommendations'\n",
    "\n",
    "- 'Receive More Updates About Our Courses'\n",
    "\n",
    "- 'Update me on Supply Chain Content'\n",
    "\n",
    "- 'Get updates on DM Content'\n",
    "\n",
    "- 'I agree to pay the amount through cheque'\n",
    "\n",
    "\n",
    "**Better We can drop these features after analysing as they mostly have unique values**.  "
   ]
  },
  {
   "cell_type": "code",
   "execution_count": 20,
   "metadata": {},
   "outputs": [
    {
     "name": "stdout",
     "output_type": "stream",
     "text": [
      "Magazine\n",
      "-----------------\n",
      "No    1.0\n",
      "Name: Magazine, dtype: float64\n",
      "Receive More Updates About Our Courses\n",
      "-----------------\n",
      "No    1.0\n",
      "Name: Receive More Updates About Our Courses, dtype: float64\n",
      "Update me on Supply Chain Content\n",
      "-----------------\n",
      "No    1.0\n",
      "Name: Update me on Supply Chain Content, dtype: float64\n",
      "Get updates on DM Content\n",
      "-----------------\n",
      "No    1.0\n",
      "Name: Get updates on DM Content, dtype: float64\n",
      "I agree to pay the amount through cheque\n",
      "-----------------\n",
      "No    1.0\n",
      "Name: I agree to pay the amount through cheque, dtype: float64\n"
     ]
    }
   ],
   "source": [
    "# Veryfying columns with just one value,before dropping\n",
    "cols = ['Magazine','Receive More Updates About Our Courses','Update me on Supply Chain Content','Get updates on DM Content','I agree to pay the amount through cheque']\n",
    "for i in cols:\n",
    "    print(i)\n",
    "    print('-----------------')\n",
    "    print(leads2[i].value_counts(normalize=True))"
   ]
  },
  {
   "cell_type": "code",
   "execution_count": 21,
   "metadata": {},
   "outputs": [],
   "source": [
    "#Dropping columns with just one value, as they won't be significant for further analysis.\n",
    "\n",
    "leads2 = leads2.drop(['Magazine','Receive More Updates About Our Courses','Update me on Supply Chain Content','Get updates on DM Content','I agree to pay the amount through cheque'],axis =1)"
   ]
  },
  {
   "cell_type": "code",
   "execution_count": 22,
   "metadata": {},
   "outputs": [
    {
     "name": "stdout",
     "output_type": "stream",
     "text": [
      "Do Not Call\n",
      "-----------------\n",
      "No     0.999784\n",
      "Yes    0.000216\n",
      "Name: Do Not Call, dtype: float64\n",
      "Country\n",
      "-----------------\n",
      "India                   0.957663\n",
      "United States           0.010178\n",
      "United Arab Emirates    0.007818\n",
      "Singapore               0.003540\n",
      "Saudi Arabia            0.003098\n",
      "United Kingdom          0.002213\n",
      "Australia               0.001918\n",
      "Qatar                   0.001475\n",
      "Bahrain                 0.001033\n",
      "Hong Kong               0.001033\n",
      "Oman                    0.000885\n",
      "France                  0.000885\n",
      "unknown                 0.000738\n",
      "Nigeria                 0.000590\n",
      "Canada                  0.000590\n",
      "South Africa            0.000590\n",
      "Germany                 0.000590\n",
      "Kuwait                  0.000590\n",
      "Sweden                  0.000443\n",
      "Ghana                   0.000295\n",
      "Philippines             0.000295\n",
      "Belgium                 0.000295\n",
      "China                   0.000295\n",
      "Italy                   0.000295\n",
      "Netherlands             0.000295\n",
      "Uganda                  0.000295\n",
      "Bangladesh              0.000295\n",
      "Asia/Pacific Region     0.000295\n",
      "Tanzania                0.000148\n",
      "Switzerland             0.000148\n",
      "Liberia                 0.000148\n",
      "Denmark                 0.000148\n",
      "Indonesia               0.000148\n",
      "Malaysia                0.000148\n",
      "Vietnam                 0.000148\n",
      "Russia                  0.000148\n",
      "Sri Lanka               0.000148\n",
      "Kenya                   0.000148\n",
      "Name: Country, dtype: float64\n",
      "What matters most to you in choosing a course\n",
      "-----------------\n",
      "Better Career Prospects      0.999541\n",
      "Flexibility & Convenience    0.000306\n",
      "Other                        0.000153\n",
      "Name: What matters most to you in choosing a course, dtype: float64\n",
      "Search\n",
      "-----------------\n",
      "No     0.998485\n",
      "Yes    0.001515\n",
      "Name: Search, dtype: float64\n",
      "Newspaper Article\n",
      "-----------------\n",
      "No     0.999784\n",
      "Yes    0.000216\n",
      "Name: Newspaper Article, dtype: float64\n",
      "X Education Forums\n",
      "-----------------\n",
      "No     0.999892\n",
      "Yes    0.000108\n",
      "Name: X Education Forums, dtype: float64\n",
      "Newspaper\n",
      "-----------------\n",
      "No     0.999892\n",
      "Yes    0.000108\n",
      "Name: Newspaper, dtype: float64\n",
      "Digital Advertisement\n",
      "-----------------\n",
      "No     0.999567\n",
      "Yes    0.000433\n",
      "Name: Digital Advertisement, dtype: float64\n",
      "Through Recommendations\n",
      "-----------------\n",
      "No     0.999242\n",
      "Yes    0.000758\n",
      "Name: Through Recommendations, dtype: float64\n"
     ]
    }
   ],
   "source": [
    "# Veryfying columns with skewed data ,before dropping\n",
    "cols = ['Do Not Call','Country','What matters most to you in choosing a course','Search','Newspaper Article','X Education Forums','Newspaper','Digital Advertisement','Through Recommendations']\n",
    "\n",
    "for i in cols:\n",
    "    print(i)\n",
    "    print('-----------------')\n",
    "    print(leads2[i].value_counts(normalize=True))"
   ]
  },
  {
   "cell_type": "code",
   "execution_count": 23,
   "metadata": {},
   "outputs": [],
   "source": [
    "# Dropping features with skewed data i.e. having some category for more than 95% of values\n",
    "\n",
    "leads2 = leads2.drop(['Do Not Call','Country','What matters most to you in choosing a course','Search','Newspaper Article','X Education Forums','Newspaper','Digital Advertisement','Through Recommendations'],axis=1)"
   ]
  },
  {
   "cell_type": "code",
   "execution_count": 24,
   "metadata": {},
   "outputs": [
    {
     "data": {
      "text/plain": [
       "(9240, 22)"
      ]
     },
     "execution_count": 24,
     "metadata": {},
     "output_type": "execute_result"
    }
   ],
   "source": [
    "# Lets again check the shape of the dataframe.\n",
    "leads2.shape"
   ]
  },
  {
   "cell_type": "markdown",
   "metadata": {},
   "source": [
    "**Earlier we had 37 features , now we have 22 features , after removing redundant ones.**"
   ]
  },
  {
   "cell_type": "markdown",
   "metadata": {},
   "source": [
    "#### 1.6 NULL values treatment"
   ]
  },
  {
   "cell_type": "code",
   "execution_count": 25,
   "metadata": {},
   "outputs": [
    {
     "data": {
      "text/plain": [
       "Prospect ID                                0.000000\n",
       "Lead Origin                                0.000000\n",
       "Lead Source                                0.389610\n",
       "Do Not Email                               0.000000\n",
       "Converted                                  0.000000\n",
       "TotalVisits                                1.482684\n",
       "Total Time Spent on Website                0.000000\n",
       "Page Views Per Visit                       1.482684\n",
       "Last Activity                              1.114719\n",
       "Specialization                            36.580087\n",
       "How did you hear about X Education        78.463203\n",
       "What is your current occupation           29.112554\n",
       "Tags                                      36.287879\n",
       "Lead Quality                              51.590909\n",
       "Lead Profile                              74.188312\n",
       "City                                      39.707792\n",
       "Asymmetrique Activity Index               45.649351\n",
       "Asymmetrique Profile Index                45.649351\n",
       "Asymmetrique Activity Score               45.649351\n",
       "Asymmetrique Profile Score                45.649351\n",
       "A free copy of Mastering The Interview     0.000000\n",
       "Last Notable Activity                      0.000000\n",
       "dtype: float64"
      ]
     },
     "execution_count": 25,
     "metadata": {},
     "output_type": "execute_result"
    }
   ],
   "source": [
    "# getting percentage of null values in each column for leads2 dataframe\n",
    "leads_null_count = (100*leads2.isnull().sum()/len(leads2))\n",
    "leads_null_count"
   ]
  },
  {
   "cell_type": "markdown",
   "metadata": {},
   "source": [
    "**Here we have some features that have very high percenatge of Null values.\n",
    "Before Dropping these features, we will individally analyse each one.**"
   ]
  },
  {
   "cell_type": "code",
   "execution_count": 26,
   "metadata": {},
   "outputs": [
    {
     "data": {
      "text/plain": [
       "Lead Source                            0.389610\n",
       "TotalVisits                            1.482684\n",
       "Page Views Per Visit                   1.482684\n",
       "Last Activity                          1.114719\n",
       "Specialization                        36.580087\n",
       "How did you hear about X Education    78.463203\n",
       "What is your current occupation       29.112554\n",
       "Tags                                  36.287879\n",
       "Lead Quality                          51.590909\n",
       "Lead Profile                          74.188312\n",
       "City                                  39.707792\n",
       "Asymmetrique Activity Index           45.649351\n",
       "Asymmetrique Profile Index            45.649351\n",
       "Asymmetrique Activity Score           45.649351\n",
       "Asymmetrique Profile Score            45.649351\n",
       "dtype: float64"
      ]
     },
     "execution_count": 26,
     "metadata": {},
     "output_type": "execute_result"
    }
   ],
   "source": [
    "# Fetching columns having null values.\n",
    "null_columns = leads_null_count[leads_null_count > 0]\n",
    "null_columns"
   ]
  },
  {
   "cell_type": "markdown",
   "metadata": {},
   "source": [
    "**Now we can see that there are some features which have null values , ranging between (0,78).** \n",
    "\n",
    "**Our next step would be to drop these features which have high percentage of NULL values ( more than 40 % ) and Impute other features which have less percentage of NULL values, with best possible means.**\n"
   ]
  },
  {
   "cell_type": "code",
   "execution_count": 27,
   "metadata": {},
   "outputs": [
    {
     "data": {
      "text/plain": [
       "How did you hear about X Education    78.463203\n",
       "Lead Quality                          51.590909\n",
       "Lead Profile                          74.188312\n",
       "Asymmetrique Activity Index           45.649351\n",
       "Asymmetrique Profile Index            45.649351\n",
       "Asymmetrique Activity Score           45.649351\n",
       "Asymmetrique Profile Score            45.649351\n",
       "dtype: float64"
      ]
     },
     "execution_count": 27,
     "metadata": {},
     "output_type": "execute_result"
    }
   ],
   "source": [
    "# getting percentage of null values in each column for leads2 dataframe\n",
    "leads_null_count = (100*leads2.isnull().sum()/len(leads2))\n",
    "leads_null_count\n",
    "\n",
    "# Fetching columns having null values.\n",
    "null_columns = leads_null_count[leads_null_count >= 45]\n",
    "null_columns"
   ]
  },
  {
   "cell_type": "markdown",
   "metadata": {},
   "source": [
    "**We will drop these features as these have high percentage of NULL values.**"
   ]
  },
  {
   "cell_type": "code",
   "execution_count": 28,
   "metadata": {},
   "outputs": [],
   "source": [
    "# Dropping these featuures with more than 45 % of values\n",
    "leads2 = leads2.drop(['How did you hear about X Education','Lead Profile','Lead Quality','Asymmetrique Activity Index','Asymmetrique Profile Index','Asymmetrique Activity Score','Asymmetrique Profile Score'],axis = 1)"
   ]
  },
  {
   "cell_type": "code",
   "execution_count": 29,
   "metadata": {},
   "outputs": [
    {
     "data": {
      "text/plain": [
       "Lead Source                         0.389610\n",
       "TotalVisits                         1.482684\n",
       "Page Views Per Visit                1.482684\n",
       "Last Activity                       1.114719\n",
       "Specialization                     36.580087\n",
       "What is your current occupation    29.112554\n",
       "Tags                               36.287879\n",
       "City                               39.707792\n",
       "dtype: float64"
      ]
     },
     "execution_count": 29,
     "metadata": {},
     "output_type": "execute_result"
    }
   ],
   "source": [
    "# getting percentage of null values in each column for leads2 dataframe\n",
    "leads2_null_count = (100*leads2.isnull().sum()/len(leads2))\n",
    "leads2_null_count[leads2_null_count > 0]"
   ]
  },
  {
   "cell_type": "markdown",
   "metadata": {},
   "source": [
    "**Dropping the features derived from Sales Team**"
   ]
  },
  {
   "cell_type": "code",
   "execution_count": 30,
   "metadata": {},
   "outputs": [],
   "source": [
    "# Dropping the features which are derived from Sales Team\n",
    "leads2 = leads2.drop(['Tags','Last Activity','Last Notable Activity'],axis = 1)"
   ]
  },
  {
   "cell_type": "code",
   "execution_count": 31,
   "metadata": {},
   "outputs": [
    {
     "data": {
      "text/plain": [
       "Lead Source                         0.389610\n",
       "TotalVisits                         1.482684\n",
       "Page Views Per Visit                1.482684\n",
       "Specialization                     36.580087\n",
       "What is your current occupation    29.112554\n",
       "City                               39.707792\n",
       "dtype: float64"
      ]
     },
     "execution_count": 31,
     "metadata": {},
     "output_type": "execute_result"
    }
   ],
   "source": [
    "# getting percentage of null values in each column for leads2 dataframe\n",
    "leads2_null_count = (100*leads2.isnull().sum()/len(leads2))\n",
    "leads2_null_count[leads2_null_count > 0]"
   ]
  },
  {
   "cell_type": "code",
   "execution_count": 32,
   "metadata": {},
   "outputs": [
    {
     "data": {
      "text/plain": [
       "Unemployed              0.854962\n",
       "Working Professional    0.107786\n",
       "Student                 0.032061\n",
       "Other                   0.002443\n",
       "Housewife               0.001527\n",
       "Businessman             0.001221\n",
       "Name: What is your current occupation, dtype: float64"
      ]
     },
     "execution_count": 32,
     "metadata": {},
     "output_type": "execute_result"
    }
   ],
   "source": [
    "# Analysing feature 'What is your current occupation' before imputing NULL values \n",
    "leads2['What is your current occupation'].value_counts(normalize=True)"
   ]
  },
  {
   "cell_type": "code",
   "execution_count": 33,
   "metadata": {},
   "outputs": [],
   "source": [
    "# Most of the values are unemployed so null values can be imputed with Unemployed or mode value\n",
    "\n",
    "leads2['What is your current occupation'] = leads2['What is your current occupation'].replace(np.nan, 'Unemployed')"
   ]
  },
  {
   "cell_type": "code",
   "execution_count": 34,
   "metadata": {},
   "outputs": [
    {
     "data": {
      "text/plain": [
       "NaN                                  0.365801\n",
       "Finance Management                   0.105628\n",
       "Human Resource Management            0.091775\n",
       "Marketing Management                 0.090693\n",
       "Operations Management                0.054437\n",
       "Business Administration              0.043615\n",
       "IT Projects Management               0.039610\n",
       "Supply Chain Management              0.037771\n",
       "Banking, Investment And Insurance    0.036580\n",
       "Media and Advertising                0.021970\n",
       "Travel and Tourism                   0.021970\n",
       "International Business               0.019264\n",
       "Healthcare Management                0.017208\n",
       "Hospitality Management               0.012338\n",
       "E-COMMERCE                           0.012121\n",
       "Retail Management                    0.010823\n",
       "Rural and Agribusiness               0.007900\n",
       "E-Business                           0.006169\n",
       "Services Excellence                  0.004329\n",
       "Name: Specialization, dtype: float64"
      ]
     },
     "execution_count": 34,
     "metadata": {},
     "output_type": "execute_result"
    }
   ],
   "source": [
    "# Analysing feature 'Specialization' before imputing NULL values \n",
    "leads2['Specialization'].value_counts(normalize=True,dropna= False)"
   ]
  },
  {
   "cell_type": "code",
   "execution_count": 35,
   "metadata": {},
   "outputs": [],
   "source": [
    "#Replacing NULL values with mode\n",
    "leads2['Specialization'] = leads2['Specialization'].replace(np.nan, 'Others')\n"
   ]
  },
  {
   "cell_type": "code",
   "execution_count": 36,
   "metadata": {},
   "outputs": [
    {
     "data": {
      "text/plain": [
       "Mumbai                         0.578352\n",
       "Thane & Outskirts              0.134985\n",
       "Other Cities                   0.123138\n",
       "Other Cities of Maharashtra    0.082032\n",
       "Other Metro Cities             0.068210\n",
       "Tier II Cities                 0.013283\n",
       "Name: City, dtype: float64"
      ]
     },
     "execution_count": 36,
     "metadata": {},
     "output_type": "execute_result"
    }
   ],
   "source": [
    "# Analysing feature 'City' before imputing NULL values \n",
    "leads2['City'].value_counts(normalize = True)"
   ]
  },
  {
   "cell_type": "code",
   "execution_count": 37,
   "metadata": {},
   "outputs": [],
   "source": [
    "# Replacing the NULL values with the mode value\n",
    "leads2['City'].fillna(leads2['City'].mode()[0], inplace=True)"
   ]
  },
  {
   "cell_type": "code",
   "execution_count": 38,
   "metadata": {},
   "outputs": [
    {
     "data": {
      "text/plain": [
       "Lead Source             0.389610\n",
       "TotalVisits             1.482684\n",
       "Page Views Per Visit    1.482684\n",
       "dtype: float64"
      ]
     },
     "execution_count": 38,
     "metadata": {},
     "output_type": "execute_result"
    }
   ],
   "source": [
    "# getting percentage of null values in each column for leads2 dataframe\n",
    "leads2_null_count = (100*leads2.isnull().sum()/len(leads2))\n",
    "leads2_null_count[leads2_null_count > 0]"
   ]
  },
  {
   "cell_type": "markdown",
   "metadata": {},
   "source": [
    "**Since these features have around 1 % Null values , we can impute these with mean/median/mode**"
   ]
  },
  {
   "cell_type": "code",
   "execution_count": 39,
   "metadata": {},
   "outputs": [
    {
     "data": {
      "text/plain": [
       "Google               0.310931\n",
       "Direct Traffic       0.275216\n",
       "Olark Chat           0.189935\n",
       "Organic Search       0.124892\n",
       "Reference            0.057792\n",
       "Welingak Website     0.015368\n",
       "Referral Sites       0.013528\n",
       "Facebook             0.005952\n",
       "NaN                  0.003896\n",
       "bing                 0.000649\n",
       "Click2call           0.000433\n",
       "Press_Release        0.000216\n",
       "Social Media         0.000216\n",
       "Live Chat            0.000216\n",
       "NC_EDM               0.000108\n",
       "WeLearn              0.000108\n",
       "testone              0.000108\n",
       "blog                 0.000108\n",
       "youtubechannel       0.000108\n",
       "welearnblog_Home     0.000108\n",
       "Pay per Click Ads    0.000108\n",
       "Name: Lead Source, dtype: float64"
      ]
     },
     "execution_count": 39,
     "metadata": {},
     "output_type": "execute_result"
    }
   ],
   "source": [
    "# Analysing feature 'Lead Source' before imputing NULL values \n",
    "leads2['Lead Source'].value_counts(normalize = True,dropna= False)"
   ]
  },
  {
   "cell_type": "code",
   "execution_count": 40,
   "metadata": {},
   "outputs": [],
   "source": [
    "# Replacing the NULL values with the mode value\n",
    "leads2['Lead Source'].fillna(leads2['Lead Source'].mode()[0], inplace=True)"
   ]
  },
  {
   "cell_type": "markdown",
   "metadata": {},
   "source": [
    "**'TotalVisits' and 'Page Views Per Visit' are numerical features. Before imputing with median/mode we need to check for outliers.If it has outliers then we need to impute with Median otherwise with Mean.**"
   ]
  },
  {
   "cell_type": "code",
   "execution_count": 41,
   "metadata": {},
   "outputs": [
    {
     "data": {
      "text/plain": [
       "<AxesSubplot:ylabel='TotalVisits'>"
      ]
     },
     "execution_count": 41,
     "metadata": {},
     "output_type": "execute_result"
    },
    {
     "data": {
      "image/png": "[encoded data removed]",
      "text/plain": [
       "<Figure size 432x288 with 1 Axes>"
      ]
     },
     "metadata": {
      "needs_background": "light"
     },
     "output_type": "display_data"
    }
   ],
   "source": [
    "# Checking for outliers for 'TotalVisits'\n",
    "sns.boxplot(y = 'TotalVisits', data = leads2)"
   ]
  },
  {
   "cell_type": "code",
   "execution_count": 42,
   "metadata": {},
   "outputs": [
    {
     "data": {
      "text/plain": [
       "<AxesSubplot:ylabel='Page Views Per Visit'>"
      ]
     },
     "execution_count": 42,
     "metadata": {},
     "output_type": "execute_result"
    },
    {
     "data": {
      "image/png": "[encoded data removed]",
      "text/plain": [
       "<Figure size 432x288 with 1 Axes>"
      ]
     },
     "metadata": {
      "needs_background": "light"
     },
     "output_type": "display_data"
    }
   ],
   "source": [
    "# Checking for outliers for 'Page Views Per Visit'\n",
    "sns.boxplot(y = 'Page Views Per Visit', data = leads2)"
   ]
  },
  {
   "cell_type": "markdown",
   "metadata": {},
   "source": [
    "**Both features have outliers , so we will impute them with median, instead of mean**"
   ]
  },
  {
   "cell_type": "code",
   "execution_count": 43,
   "metadata": {},
   "outputs": [],
   "source": [
    "# Imputing Null values of 'TotalVisits' with median\n",
    "leads2['TotalVisits'].fillna(leads2['TotalVisits'].median(), inplace=True)"
   ]
  },
  {
   "cell_type": "code",
   "execution_count": 44,
   "metadata": {},
   "outputs": [],
   "source": [
    "# Imputing Null values of 'Page Views Per Visit' with median\n",
    "leads2['Page Views Per Visit'].fillna(leads2['Page Views Per Visit'].median(), inplace=True)"
   ]
  },
  {
   "cell_type": "code",
   "execution_count": 45,
   "metadata": {},
   "outputs": [
    {
     "data": {
      "text/plain": [
       "Series([], dtype: float64)"
      ]
     },
     "execution_count": 45,
     "metadata": {},
     "output_type": "execute_result"
    }
   ],
   "source": [
    "# getting percentage of null values in each column for leads2 dataframe\n",
    "leads2_null_count = (100*leads2.isnull().sum()/len(leads2))\n",
    "leads2_null_count[leads2_null_count > 0]"
   ]
  },
  {
   "cell_type": "markdown",
   "metadata": {},
   "source": [
    "**So we have dealt with NULL values successfully. We will now do outlier treatment.**"
   ]
  },
  {
   "cell_type": "markdown",
   "metadata": {},
   "source": [
    "#### 1.7 Outlier Treatment"
   ]
  },
  {
   "cell_type": "code",
   "execution_count": 46,
   "metadata": {},
   "outputs": [
    {
     "data": {
      "image/png": "[encoded data removed]",
      "text/plain": [
       "<Figure size 1440x1800 with 3 Axes>"
      ]
     },
     "metadata": {
      "needs_background": "light"
     },
     "output_type": "display_data"
    }
   ],
   "source": [
    "# Checking for the outliers in all the numeric columns\n",
    "\n",
    "plt.figure(figsize=(20, 25))\n",
    "plt.subplot(4,3,1)\n",
    "sns.boxplot(y = 'TotalVisits',  data = leads2)\n",
    "plt.subplot(4,3,2)\n",
    "sns.boxplot(y = 'Total Time Spent on Website', data = leads2)\n",
    "plt.subplot(4,3,3)\n",
    "sns.boxplot(y = 'Page Views Per Visit', data = leads2)\n",
    "plt.show()"
   ]
  },
  {
   "cell_type": "markdown",
   "metadata": {},
   "source": [
    "**Here we observe that 'Total Visits' and 'Page Views per Visit' have outliers.So we will replace the outliers with IQR.**"
   ]
  },
  {
   "cell_type": "code",
   "execution_count": 47,
   "metadata": {},
   "outputs": [
    {
     "name": "stdout",
     "output_type": "stream",
     "text": [
      "(8973, 12)\n"
     ]
    }
   ],
   "source": [
    "#Removing outliers for'TotalVisits' \n",
    "\n",
    "Q1 = leads2['TotalVisits'].quantile(0.25)\n",
    "Q3 = leads2['TotalVisits'].quantile(0.75)\n",
    "IQR = Q3 - Q1\n",
    "leads2 = leads2[~((leads2['TotalVisits'] < (Q1 - 1.5 * IQR)) |(leads2['TotalVisits']> (Q3 + 1.5 * IQR)))]\n",
    "\n",
    "# Getting the number of rows after removing the outliers\n",
    "print(leads2.shape)"
   ]
  },
  {
   "cell_type": "code",
   "execution_count": 48,
   "metadata": {},
   "outputs": [
    {
     "name": "stdout",
     "output_type": "stream",
     "text": [
      "(8679, 12)\n"
     ]
    }
   ],
   "source": [
    "#Removing outliers for'Page Views Per Visit' \n",
    "\n",
    "Q1 = leads2['Page Views Per Visit'].quantile(0.25)\n",
    "Q3 = leads2['Page Views Per Visit'].quantile(0.75)\n",
    "IQR = Q3 - Q1\n",
    "leads2 = leads2[~((leads2['Page Views Per Visit'] < (Q1 - 1.5 * IQR)) |(leads2['Page Views Per Visit']> (Q3 + 1.5 * IQR)))]\n",
    "\n",
    "# Getting the number of rows after removing the outliers\n",
    "print(leads2.shape)"
   ]
  },
  {
   "cell_type": "markdown",
   "metadata": {},
   "source": [
    "#### 1.8 Checking the percenatge of rows retained after data cleaning process"
   ]
  },
  {
   "cell_type": "code",
   "execution_count": 49,
   "metadata": {},
   "outputs": [
    {
     "data": {
      "text/plain": [
       "93.92857142857143"
      ]
     },
     "execution_count": 49,
     "metadata": {},
     "output_type": "execute_result"
    }
   ],
   "source": [
    "#Checking the percenatge of rows retained after data cleaning process\n",
    "((leads2.shape[0])/leads.shape[0])*100"
   ]
  },
  {
   "cell_type": "markdown",
   "metadata": {},
   "source": [
    "**Around 94 % of rows have been retained, so its good to proceed further.**"
   ]
  },
  {
   "cell_type": "markdown",
   "metadata": {},
   "source": [
    "### 2. Data Visualisation"
   ]
  },
  {
   "cell_type": "markdown",
   "metadata": {},
   "source": [
    "#### 2.1 Univariate Analysis for Categorical Features"
   ]
  },
  {
   "cell_type": "code",
   "execution_count": 50,
   "metadata": {},
   "outputs": [],
   "source": [
    "# function to check the distribution of categorical variables\n",
    "def cat_plot(var):\n",
    "    plt.figure(figsize=(10,5))\n",
    "    plt.subplot(1, 2, 1)\n",
    "    sns.countplot(var, hue = leads2['Converted'],data=leads2)\n",
    "    plt.title('Distribution of '+ '%s' %var +' VS CONVERTED', fontsize=14)\n",
    "    plt.xlabel(var)\n",
    "    plt.xticks(rotation=90)\n",
    "    plt.ylabel('COUNT')"
   ]
  },
  {
   "cell_type": "code",
   "execution_count": 51,
   "metadata": {},
   "outputs": [
    {
     "data": {
      "image/png": "[encoded data removed]",
      "text/plain": [
       "<Figure size 720x360 with 1 Axes>"
      ]
     },
     "metadata": {
      "needs_background": "light"
     },
     "output_type": "display_data"
    }
   ],
   "source": [
    "#Plotting Lead Origin against target feature\n",
    "cat_plot('Lead Origin')"
   ]
  },
  {
   "cell_type": "markdown",
   "metadata": {},
   "source": [
    "**From the above graph,  we can observe that:** \n",
    "\n",
    "- The maximum conversion happened from the 'Landing Page Submission'. \n",
    "\n",
    "- API and Landing Page Submission bring higher number of leads as well as conversion.\n",
    "\n",
    "- Lead Add Form has a very high conversion rate but count of leads are not very high.\n",
    "\n",
    "- Lead Import and Quick Add Form get very few leads.\n",
    "\n",
    "**So, Business should focus on improving lead conversion of API and Landing Page Submission origin,as we get higher number of people from these origins. Also business can generate more leads from Lead Add Form.**"
   ]
  },
  {
   "cell_type": "code",
   "execution_count": 52,
   "metadata": {},
   "outputs": [
    {
     "data": {
      "image/png": "[encoded data removed]",
      "text/plain": [
       "<Figure size 720x360 with 1 Axes>"
      ]
     },
     "metadata": {
      "needs_background": "light"
     },
     "output_type": "display_data"
    }
   ],
   "source": [
    "#Plotting Lead Source against target feature\n",
    "cat_plot('Lead Source')"
   ]
  },
  {
   "cell_type": "markdown",
   "metadata": {},
   "source": [
    "**From the above graph,we can observe that :**\n",
    "\n",
    "- Major conversion of lead is from the Google source\n",
    "\n",
    "- Maximum number of leads are generated by 'Google' and 'Direct traffic','Organic Searc','Olark Chat'.\n",
    "\n",
    "- Conversion Rate of 'Reference' leads and 'Welingak Website' leads is high.\n",
    "\n",
    "**So Business should focus on improving overall lead conversion rate of leads from sources- olark chat, organic search, direct traffic, and google leads and generate more leads from Reference and Welingak Website.**"
   ]
  },
  {
   "cell_type": "code",
   "execution_count": 53,
   "metadata": {},
   "outputs": [
    {
     "data": {
      "image/png": "[encoded data removed]",
      "text/plain": [
       "<Figure size 720x360 with 1 Axes>"
      ]
     },
     "metadata": {
      "needs_background": "light"
     },
     "output_type": "display_data"
    }
   ],
   "source": [
    "#Plotting Do Not Email against target feature\n",
    "cat_plot('Do Not Email')"
   ]
  },
  {
   "cell_type": "markdown",
   "metadata": {},
   "source": [
    "**From the above graph, major conversion has happend  for the leads which agreed to receive emails.So Business should focus on improving leads conversion for leads which agree on getting emails.**"
   ]
  },
  {
   "cell_type": "code",
   "execution_count": 54,
   "metadata": {},
   "outputs": [
    {
     "data": {
      "image/png": "[encoded data removed]",
      "text/plain": [
       "<Figure size 720x360 with 1 Axes>"
      ]
     },
     "metadata": {
      "needs_background": "light"
     },
     "output_type": "display_data"
    }
   ],
   "source": [
    "#Plotting Specialization against target feature\n",
    "cat_plot('Specialization')"
   ]
  },
  {
   "cell_type": "markdown",
   "metadata": {},
   "source": [
    "**From the above graph we observe that:**\n",
    "\n",
    "- 'Others' Specialisation which was NULL initially, have more leads. This means that leads should be asked to enter          specialisation .\n",
    "    \n",
    "- 'Finance Management','Human Resource Management','Marketing Management','Operations Management' get maximum number of leads.And their conversion rate is also good.\n",
    "    \n",
    "- 'Operations Management also has good lead conversion rate.\n",
    "    \n",
    "- 'Healthcare Management also has good lead conversion rate.\n",
    "    \n",
    "    \n",
    "**So Business should focus on  gettimg more leads and good conversion rates for all kinds of 'Management Specialisation'**  "
   ]
  },
  {
   "cell_type": "code",
   "execution_count": 55,
   "metadata": {},
   "outputs": [
    {
     "data": {
      "image/png": "[encoded data removed]",
      "text/plain": [
       "<Figure size 720x360 with 1 Axes>"
      ]
     },
     "metadata": {
      "needs_background": "light"
     },
     "output_type": "display_data"
    }
   ],
   "source": [
    "#Plotting What is your current occupation against target feature\n",
    "cat_plot('What is your current occupation')"
   ]
  },
  {
   "cell_type": "markdown",
   "metadata": {},
   "source": [
    "**From the above graph , we can observe that :**\n",
    "\n",
    "- Unemployed section gets more leads and also as good lead conversion rate.\n",
    "\n",
    "- Working Professional has higher lead conversion rate.\n",
    "\n",
    "- Housewife also has good conversion rate.\n",
    "\n",
    "**So business should focus on getting more conversion of leads from 'Unemployed' section. And more number of leads should be generated  for 'Working Professional','Student' and 'Housewife'**\n"
   ]
  },
  {
   "cell_type": "code",
   "execution_count": 56,
   "metadata": {},
   "outputs": [
    {
     "data": {
      "image/png": "[encoded data removed]",
      "text/plain": [
       "<Figure size 720x360 with 1 Axes>"
      ]
     },
     "metadata": {
      "needs_background": "light"
     },
     "output_type": "display_data"
    }
   ],
   "source": [
    "#Plotting City against target feature\n",
    "cat_plot('City')"
   ]
  },
  {
   "cell_type": "markdown",
   "metadata": {},
   "source": [
    "**From the above graph we can observe that different cities of 'Maharashtra' gets the more leads and conversion rate is also high.**\n",
    "\n",
    "\n",
    "**So Business should focus on higher conversion rate for 'Mumbai' and  getting more leads from Thane and other cities of Maharashtra**\n"
   ]
  },
  {
   "cell_type": "code",
   "execution_count": 57,
   "metadata": {},
   "outputs": [
    {
     "data": {
      "image/png": "[encoded data removed]",
      "text/plain": [
       "<Figure size 720x360 with 1 Axes>"
      ]
     },
     "metadata": {
      "needs_background": "light"
     },
     "output_type": "display_data"
    }
   ],
   "source": [
    "#Plotting A free copy of Mastering The Interview against target feature\n",
    "cat_plot('A free copy of Mastering The Interview')"
   ]
  },
  {
   "cell_type": "markdown",
   "metadata": {},
   "source": [
    "**From the above graph we can observe that:**\n",
    "\n",
    "**Number of leads and lead conversion rate is high for leads who do not want a free copy of Mastering Interviews.**"
   ]
  },
  {
   "cell_type": "markdown",
   "metadata": {},
   "source": [
    "#### 2.2 Univariate Analysis for Numerical Features"
   ]
  },
  {
   "cell_type": "code",
   "execution_count": 58,
   "metadata": {},
   "outputs": [
    {
     "data": {
      "image/png": "[encoded data removed]",
      "text/plain": [
       "<Figure size 1440x1440 with 3 Axes>"
      ]
     },
     "metadata": {
      "needs_background": "light"
     },
     "output_type": "display_data"
    }
   ],
   "source": [
    "# Now check the conversions for all numeric values\n",
    "\n",
    "plt.figure(figsize=(20,20))\n",
    "plt.subplot(4,3,1)\n",
    "sns.barplot(y = 'TotalVisits', x='Converted', data = leads2)\n",
    "plt.subplot(4,3,2)\n",
    "sns.barplot(y = 'Total Time Spent on Website', x='Converted',  data = leads2)\n",
    "plt.subplot(4,3,3)\n",
    "sns.barplot(y = 'Page Views Per Visit', x='Converted', data = leads2)\n",
    "plt.show()"
   ]
  },
  {
   "cell_type": "markdown",
   "metadata": {},
   "source": [
    "**From the above graph we can observe that**\n",
    "\n",
    "- The conversion rate are high for leads with more number of 'Total Visits', and more amount of  'Total Time Spent on Website'. \n",
    "\n",
    "- 'Page Views Per Visit' seems to have same number of leads from converted and non converted leads.\n",
    "\n",
    "\n",
    "**So business should focus on getting the conversion of leads who spend more time on website and visit frequently.**\n",
    "\n",
    "**Website should be made more engaging to make leads spend more time.**"
   ]
  },
  {
   "cell_type": "markdown",
   "metadata": {},
   "source": [
    "#### 2.3 Finding Correlation between all features"
   ]
  },
  {
   "cell_type": "code",
   "execution_count": 59,
   "metadata": {},
   "outputs": [
    {
     "data": {
      "image/png": "[encoded data removed]",
      "text/plain": [
       "<Figure size 1440x720 with 2 Axes>"
      ]
     },
     "metadata": {
      "needs_background": "light"
     },
     "output_type": "display_data"
    }
   ],
   "source": [
    "# Let's see the correlation matrix \n",
    "plt.figure(figsize = (20,10))\n",
    "sns.heatmap(leads2.corr(),annot = True,cmap=\"YlGnBu\")\n",
    "plt.show()"
   ]
  },
  {
   "cell_type": "code",
   "execution_count": 60,
   "metadata": {},
   "outputs": [
    {
     "data": {
      "text/html": [
       "<div>\n",
       "<style scoped>\n",
       "    .dataframe tbody tr th:only-of-type {\n",
       "        vertical-align: middle;\n",
       "    }\n",
       "\n",
       "    .dataframe tbody tr th {\n",
       "        vertical-align: top;\n",
       "    }\n",
       "\n",
       "    .dataframe thead th {\n",
       "        text-align: right;\n",
       "    }\n",
       "</style>\n",
       "<table border=\"1\" class=\"dataframe\">\n",
       "  <thead>\n",
       "    <tr style=\"text-align: right;\">\n",
       "      <th></th>\n",
       "      <th>Converted</th>\n",
       "      <th>TotalVisits</th>\n",
       "      <th>Total Time Spent on Website</th>\n",
       "      <th>Page Views Per Visit</th>\n",
       "    </tr>\n",
       "  </thead>\n",
       "  <tbody>\n",
       "    <tr>\n",
       "      <th>Converted</th>\n",
       "      <td>1.000000</td>\n",
       "      <td>0.046652</td>\n",
       "      <td>0.350731</td>\n",
       "      <td>-0.005632</td>\n",
       "    </tr>\n",
       "    <tr>\n",
       "      <th>TotalVisits</th>\n",
       "      <td>0.046652</td>\n",
       "      <td>1.000000</td>\n",
       "      <td>0.383841</td>\n",
       "      <td>0.753189</td>\n",
       "    </tr>\n",
       "    <tr>\n",
       "      <th>Total Time Spent on Website</th>\n",
       "      <td>0.350731</td>\n",
       "      <td>0.383841</td>\n",
       "      <td>1.000000</td>\n",
       "      <td>0.386161</td>\n",
       "    </tr>\n",
       "    <tr>\n",
       "      <th>Page Views Per Visit</th>\n",
       "      <td>-0.005632</td>\n",
       "      <td>0.753189</td>\n",
       "      <td>0.386161</td>\n",
       "      <td>1.000000</td>\n",
       "    </tr>\n",
       "  </tbody>\n",
       "</table>\n",
       "</div>"
      ],
      "text/plain": [
       "                             Converted  TotalVisits  \\\n",
       "Converted                     1.000000     0.046652   \n",
       "TotalVisits                   0.046652     1.000000   \n",
       "Total Time Spent on Website   0.350731     0.383841   \n",
       "Page Views Per Visit         -0.005632     0.753189   \n",
       "\n",
       "                             Total Time Spent on Website  Page Views Per Visit  \n",
       "Converted                                       0.350731             -0.005632  \n",
       "TotalVisits                                     0.383841              0.753189  \n",
       "Total Time Spent on Website                     1.000000              0.386161  \n",
       "Page Views Per Visit                            0.386161              1.000000  "
      ]
     },
     "execution_count": 60,
     "metadata": {},
     "output_type": "execute_result"
    }
   ],
   "source": [
    "# Getting the correlation table\n",
    "leads2.corr()"
   ]
  },
  {
   "cell_type": "markdown",
   "metadata": {},
   "source": [
    "**'TotalVisits' is having high positive correlation with 'Page Views Per Visit'**\n",
    "\n",
    "**'Page Views Per Visit' is having high negative correlation with the target variable**"
   ]
  },
  {
   "cell_type": "markdown",
   "metadata": {},
   "source": [
    "### 3. Data Preparation"
   ]
  },
  {
   "cell_type": "markdown",
   "metadata": {},
   "source": [
    "#### 3.1 Mapping of Binary columns"
   ]
  },
  {
   "cell_type": "markdown",
   "metadata": {},
   "source": [
    "**We have two features which have binary levels:**\n",
    "\n",
    "- Do Not Email\n",
    "- A free copy of Mastering The Interview"
   ]
  },
  {
   "cell_type": "code",
   "execution_count": 61,
   "metadata": {},
   "outputs": [],
   "source": [
    "# Mapping 'Yes' to 1 and 'No' to 0\n",
    "\n",
    "binary_columns = ['Do Not Email',  'A free copy of Mastering The Interview']\n",
    "                                \n",
    "\n",
    "# Defining the map function\n",
    "def binary_map(x):\n",
    "    return x.map({'Yes': 1, \"No\": 0})\n",
    "\n",
    "# Applying the function to the columns\n",
    "leads2[binary_columns] = leads2[binary_columns].apply(binary_map)"
   ]
  },
  {
   "cell_type": "code",
   "execution_count": 62,
   "metadata": {},
   "outputs": [
    {
     "data": {
      "text/html": [
       "<div>\n",
       "<style scoped>\n",
       "    .dataframe tbody tr th:only-of-type {\n",
       "        vertical-align: middle;\n",
       "    }\n",
       "\n",
       "    .dataframe tbody tr th {\n",
       "        vertical-align: top;\n",
       "    }\n",
       "\n",
       "    .dataframe thead th {\n",
       "        text-align: right;\n",
       "    }\n",
       "</style>\n",
       "<table border=\"1\" class=\"dataframe\">\n",
       "  <thead>\n",
       "    <tr style=\"text-align: right;\">\n",
       "      <th></th>\n",
       "      <th>Prospect ID</th>\n",
       "      <th>Lead Origin</th>\n",
       "      <th>Lead Source</th>\n",
       "      <th>Do Not Email</th>\n",
       "      <th>Converted</th>\n",
       "      <th>TotalVisits</th>\n",
       "      <th>Total Time Spent on Website</th>\n",
       "      <th>Page Views Per Visit</th>\n",
       "      <th>Specialization</th>\n",
       "      <th>What is your current occupation</th>\n",
       "      <th>City</th>\n",
       "      <th>A free copy of Mastering The Interview</th>\n",
       "    </tr>\n",
       "  </thead>\n",
       "  <tbody>\n",
       "    <tr>\n",
       "      <th>0</th>\n",
       "      <td>7927b2df-8bba-4d29-b9a2-b6e0beafe620</td>\n",
       "      <td>API</td>\n",
       "      <td>Olark Chat</td>\n",
       "      <td>0</td>\n",
       "      <td>0</td>\n",
       "      <td>0.0</td>\n",
       "      <td>0</td>\n",
       "      <td>0.0</td>\n",
       "      <td>Others</td>\n",
       "      <td>Unemployed</td>\n",
       "      <td>Mumbai</td>\n",
       "      <td>0</td>\n",
       "    </tr>\n",
       "    <tr>\n",
       "      <th>1</th>\n",
       "      <td>2a272436-5132-4136-86fa-dcc88c88f482</td>\n",
       "      <td>API</td>\n",
       "      <td>Organic Search</td>\n",
       "      <td>0</td>\n",
       "      <td>0</td>\n",
       "      <td>5.0</td>\n",
       "      <td>674</td>\n",
       "      <td>2.5</td>\n",
       "      <td>Others</td>\n",
       "      <td>Unemployed</td>\n",
       "      <td>Mumbai</td>\n",
       "      <td>0</td>\n",
       "    </tr>\n",
       "    <tr>\n",
       "      <th>2</th>\n",
       "      <td>8cc8c611-a219-4f35-ad23-fdfd2656bd8a</td>\n",
       "      <td>Landing Page Submission</td>\n",
       "      <td>Direct Traffic</td>\n",
       "      <td>0</td>\n",
       "      <td>1</td>\n",
       "      <td>2.0</td>\n",
       "      <td>1532</td>\n",
       "      <td>2.0</td>\n",
       "      <td>Business Administration</td>\n",
       "      <td>Student</td>\n",
       "      <td>Mumbai</td>\n",
       "      <td>1</td>\n",
       "    </tr>\n",
       "    <tr>\n",
       "      <th>3</th>\n",
       "      <td>0cc2df48-7cf4-4e39-9de9-19797f9b38cc</td>\n",
       "      <td>Landing Page Submission</td>\n",
       "      <td>Direct Traffic</td>\n",
       "      <td>0</td>\n",
       "      <td>0</td>\n",
       "      <td>1.0</td>\n",
       "      <td>305</td>\n",
       "      <td>1.0</td>\n",
       "      <td>Media and Advertising</td>\n",
       "      <td>Unemployed</td>\n",
       "      <td>Mumbai</td>\n",
       "      <td>0</td>\n",
       "    </tr>\n",
       "    <tr>\n",
       "      <th>4</th>\n",
       "      <td>3256f628-e534-4826-9d63-4a8b88782852</td>\n",
       "      <td>Landing Page Submission</td>\n",
       "      <td>Google</td>\n",
       "      <td>0</td>\n",
       "      <td>1</td>\n",
       "      <td>2.0</td>\n",
       "      <td>1428</td>\n",
       "      <td>1.0</td>\n",
       "      <td>Others</td>\n",
       "      <td>Unemployed</td>\n",
       "      <td>Mumbai</td>\n",
       "      <td>0</td>\n",
       "    </tr>\n",
       "  </tbody>\n",
       "</table>\n",
       "</div>"
      ],
      "text/plain": [
       "                            Prospect ID              Lead Origin  \\\n",
       "0  7927b2df-8bba-4d29-b9a2-b6e0beafe620                      API   \n",
       "1  2a272436-5132-4136-86fa-dcc88c88f482                      API   \n",
       "2  8cc8c611-a219-4f35-ad23-fdfd2656bd8a  Landing Page Submission   \n",
       "3  0cc2df48-7cf4-4e39-9de9-19797f9b38cc  Landing Page Submission   \n",
       "4  3256f628-e534-4826-9d63-4a8b88782852  Landing Page Submission   \n",
       "\n",
       "      Lead Source  Do Not Email  Converted  TotalVisits  \\\n",
       "0      Olark Chat             0          0          0.0   \n",
       "1  Organic Search             0          0          5.0   \n",
       "2  Direct Traffic             0          1          2.0   \n",
       "3  Direct Traffic             0          0          1.0   \n",
       "4          Google             0          1          2.0   \n",
       "\n",
       "   Total Time Spent on Website  Page Views Per Visit           Specialization  \\\n",
       "0                            0                   0.0                   Others   \n",
       "1                          674                   2.5                   Others   \n",
       "2                         1532                   2.0  Business Administration   \n",
       "3                          305                   1.0    Media and Advertising   \n",
       "4                         1428                   1.0                   Others   \n",
       "\n",
       "  What is your current occupation    City  \\\n",
       "0                      Unemployed  Mumbai   \n",
       "1                      Unemployed  Mumbai   \n",
       "2                         Student  Mumbai   \n",
       "3                      Unemployed  Mumbai   \n",
       "4                      Unemployed  Mumbai   \n",
       "\n",
       "   A free copy of Mastering The Interview  \n",
       "0                                       0  \n",
       "1                                       0  \n",
       "2                                       1  \n",
       "3                                       0  \n",
       "4                                       0  "
      ]
     },
     "execution_count": 62,
     "metadata": {},
     "output_type": "execute_result"
    }
   ],
   "source": [
    "#Getting the top 5 rows\n",
    "\n",
    "leads2.head()"
   ]
  },
  {
   "cell_type": "markdown",
   "metadata": {},
   "source": [
    "#### 3.2 Dummy variables creation for categorical features"
   ]
  },
  {
   "cell_type": "markdown",
   "metadata": {},
   "source": [
    "**Lets look at the categorical features again , before creating dummies.**"
   ]
  },
  {
   "cell_type": "code",
   "execution_count": 63,
   "metadata": {},
   "outputs": [
    {
     "data": {
      "text/plain": [
       "Landing Page Submission    0.513078\n",
       "API                        0.398433\n",
       "Lead Add Form              0.082152\n",
       "Lead Import                0.006222\n",
       "Quick Add Form             0.000115\n",
       "Name: Lead Origin, dtype: float64"
      ]
     },
     "execution_count": 63,
     "metadata": {},
     "output_type": "execute_result"
    }
   ],
   "source": [
    "# Analysing the 'Lead Origin' feature\n",
    "leads2['Lead Origin'].value_counts(normalize = True)"
   ]
  },
  {
   "cell_type": "code",
   "execution_count": 64,
   "metadata": {},
   "outputs": [
    {
     "data": {
      "text/plain": [
       "Google               0.319507\n",
       "Direct Traffic       0.272842\n",
       "Olark Chat           0.201406\n",
       "Organic Search       0.107962\n",
       "Reference            0.061182\n",
       "Welingak Website     0.016246\n",
       "Referral Sites       0.012213\n",
       "Facebook             0.006222\n",
       "bing                 0.000691\n",
       "Click2call           0.000346\n",
       "Social Media         0.000230\n",
       "Live Chat            0.000230\n",
       "testone              0.000115\n",
       "Press_Release        0.000115\n",
       "blog                 0.000115\n",
       "youtubechannel       0.000115\n",
       "NC_EDM               0.000115\n",
       "WeLearn              0.000115\n",
       "welearnblog_Home     0.000115\n",
       "Pay per Click Ads    0.000115\n",
       "Name: Lead Source, dtype: float64"
      ]
     },
     "execution_count": 64,
     "metadata": {},
     "output_type": "execute_result"
    }
   ],
   "source": [
    "# Analysing the 'Lead Source' feature\n",
    "leads2['Lead Source'].value_counts(normalize = True)"
   ]
  },
  {
   "cell_type": "code",
   "execution_count": 65,
   "metadata": {},
   "outputs": [
    {
     "data": {
      "image/png": "[encoded data removed]",
      "text/plain": [
       "<Figure size 720x360 with 1 Axes>"
      ]
     },
     "metadata": {
      "needs_background": "light"
     },
     "output_type": "display_data"
    }
   ],
   "source": [
    "#Plotting distribution for 'Lead Source' with target variable.\n",
    "cat_plot('Lead Source')"
   ]
  },
  {
   "cell_type": "markdown",
   "metadata": {},
   "source": [
    "**We observe that the contribution of some levels are very less, we can convert them to one another level as 'Others'**"
   ]
  },
  {
   "cell_type": "code",
   "execution_count": 66,
   "metadata": {},
   "outputs": [],
   "source": [
    "# Replacing low significant categories of 'Lead Source' with another category as 'Others'\n",
    "leads2['Lead Source'] = leads2['Lead Source'].replace(['Pay per Click Ads','bing','blog','Social Media','WeLearn','Click2call','Live Chat','welearnblog_Home',\n",
    "                                               'youtubechannel','testone','Press_Release','NC_EDM'], 'Others')"
   ]
  },
  {
   "cell_type": "code",
   "execution_count": 67,
   "metadata": {},
   "outputs": [
    {
     "data": {
      "text/plain": [
       "Unemployed              0.896762\n",
       "Working Professional    0.076852\n",
       "Student                 0.023159\n",
       "Other                   0.001498\n",
       "Housewife               0.001152\n",
       "Businessman             0.000576\n",
       "Name: What is your current occupation, dtype: float64"
      ]
     },
     "execution_count": 67,
     "metadata": {},
     "output_type": "execute_result"
    }
   ],
   "source": [
    "# getting value counts for 'What is your current occupation'\n",
    "leads2['What is your current occupation'].value_counts(normalize = True)"
   ]
  },
  {
   "cell_type": "code",
   "execution_count": 68,
   "metadata": {},
   "outputs": [
    {
     "data": {
      "text/plain": [
       "(array([0, 1, 2, 3, 4, 5]),\n",
       " [Text(0, 0, 'Unemployed'),\n",
       "  Text(1, 0, 'Student'),\n",
       "  Text(2, 0, 'Working Professional'),\n",
       "  Text(3, 0, 'Businessman'),\n",
       "  Text(4, 0, 'Other'),\n",
       "  Text(5, 0, 'Housewife')])"
      ]
     },
     "execution_count": 68,
     "metadata": {},
     "output_type": "execute_result"
    },
    {
     "data": {
      "image/png": "[encoded data removed]",
      "text/plain": [
       "<Figure size 432x288 with 1 Axes>"
      ]
     },
     "metadata": {
      "needs_background": "light"
     },
     "output_type": "display_data"
    }
   ],
   "source": [
    "#Plotting distribution for \"What is your current occupation\" with target variable.\n",
    "sns.countplot(x = \"What is your current occupation\", hue = \"Converted\", data = leads2)\n",
    "xticks(rotation = 90)"
   ]
  },
  {
   "cell_type": "code",
   "execution_count": 69,
   "metadata": {},
   "outputs": [
    {
     "data": {
      "text/plain": [
       "Others                               0.380113\n",
       "Finance Management                   0.105542\n",
       "Marketing Management                 0.090909\n",
       "Human Resource Management            0.089872\n",
       "Operations Management                0.054960\n",
       "Business Administration              0.042747\n",
       "IT Projects Management               0.039060\n",
       "Supply Chain Management              0.036525\n",
       "Banking, Investment And Insurance    0.034105\n",
       "Media and Advertising                0.021201\n",
       "Travel and Tourism                   0.019127\n",
       "International Business               0.018896\n",
       "Healthcare Management                0.016016\n",
       "Hospitality Management               0.012213\n",
       "E-COMMERCE                           0.011292\n",
       "Retail Management                    0.010139\n",
       "Rural and Agribusiness               0.007144\n",
       "E-Business                           0.005991\n",
       "Services Excellence                  0.004148\n",
       "Name: Specialization, dtype: float64"
      ]
     },
     "execution_count": 69,
     "metadata": {},
     "output_type": "execute_result"
    }
   ],
   "source": [
    "# getting value counts for 'Specialization'\n",
    "leads2['Specialization'].value_counts(normalize = True)"
   ]
  },
  {
   "cell_type": "code",
   "execution_count": 70,
   "metadata": {},
   "outputs": [
    {
     "data": {
      "image/png": "[encoded data removed]",
      "text/plain": [
       "<Figure size 720x360 with 1 Axes>"
      ]
     },
     "metadata": {
      "needs_background": "light"
     },
     "output_type": "display_data"
    }
   ],
   "source": [
    "#Plotting distribution for 'Specialization' with target variable.\n",
    "cat_plot('Specialization')"
   ]
  },
  {
   "cell_type": "code",
   "execution_count": 71,
   "metadata": {},
   "outputs": [],
   "source": [
    "# Replacing low significant categories of 'Specialization' with another category as 'Others'\n",
    "leads2['Specialization'] = leads2['Specialization'].replace(['Services Excellence','Retail Management',\n",
    "                                                   'Hospitality Management','Rural and Agrbusiness','E-Business'], 'Others')"
   ]
  },
  {
   "cell_type": "code",
   "execution_count": 72,
   "metadata": {},
   "outputs": [],
   "source": [
    "# Creating a dummy variable for some of the categorical variables and dropping the first one.\n",
    "dummy = pd.get_dummies(leads2[['Lead Origin', 'Lead Source',\n",
    "        'What is your current occupation','City','Specialization',\n",
    "       'A free copy of Mastering The Interview']], drop_first=True)"
   ]
  },
  {
   "cell_type": "code",
   "execution_count": 73,
   "metadata": {},
   "outputs": [
    {
     "data": {
      "text/html": [
       "<div>\n",
       "<style scoped>\n",
       "    .dataframe tbody tr th:only-of-type {\n",
       "        vertical-align: middle;\n",
       "    }\n",
       "\n",
       "    .dataframe tbody tr th {\n",
       "        vertical-align: top;\n",
       "    }\n",
       "\n",
       "    .dataframe thead th {\n",
       "        text-align: right;\n",
       "    }\n",
       "</style>\n",
       "<table border=\"1\" class=\"dataframe\">\n",
       "  <thead>\n",
       "    <tr style=\"text-align: right;\">\n",
       "      <th></th>\n",
       "      <th>Prospect ID</th>\n",
       "      <th>Lead Origin</th>\n",
       "      <th>Lead Source</th>\n",
       "      <th>Do Not Email</th>\n",
       "      <th>Converted</th>\n",
       "      <th>TotalVisits</th>\n",
       "      <th>Total Time Spent on Website</th>\n",
       "      <th>Page Views Per Visit</th>\n",
       "      <th>Specialization</th>\n",
       "      <th>What is your current occupation</th>\n",
       "      <th>City</th>\n",
       "      <th>A free copy of Mastering The Interview</th>\n",
       "      <th>A free copy of Mastering The Interview</th>\n",
       "      <th>Lead Origin_Landing Page Submission</th>\n",
       "      <th>Lead Origin_Lead Add Form</th>\n",
       "      <th>Lead Origin_Lead Import</th>\n",
       "      <th>Lead Origin_Quick Add Form</th>\n",
       "      <th>Lead Source_Facebook</th>\n",
       "      <th>Lead Source_Google</th>\n",
       "      <th>Lead Source_Olark Chat</th>\n",
       "      <th>Lead Source_Organic Search</th>\n",
       "      <th>Lead Source_Others</th>\n",
       "      <th>Lead Source_Reference</th>\n",
       "      <th>Lead Source_Referral Sites</th>\n",
       "      <th>Lead Source_Welingak Website</th>\n",
       "      <th>What is your current occupation_Housewife</th>\n",
       "      <th>What is your current occupation_Other</th>\n",
       "      <th>What is your current occupation_Student</th>\n",
       "      <th>What is your current occupation_Unemployed</th>\n",
       "      <th>What is your current occupation_Working Professional</th>\n",
       "      <th>City_Other Cities</th>\n",
       "      <th>City_Other Cities of Maharashtra</th>\n",
       "      <th>City_Other Metro Cities</th>\n",
       "      <th>City_Thane &amp; Outskirts</th>\n",
       "      <th>City_Tier II Cities</th>\n",
       "      <th>Specialization_Business Administration</th>\n",
       "      <th>Specialization_E-COMMERCE</th>\n",
       "      <th>Specialization_Finance Management</th>\n",
       "      <th>Specialization_Healthcare Management</th>\n",
       "      <th>Specialization_Human Resource Management</th>\n",
       "      <th>Specialization_IT Projects Management</th>\n",
       "      <th>Specialization_International Business</th>\n",
       "      <th>Specialization_Marketing Management</th>\n",
       "      <th>Specialization_Media and Advertising</th>\n",
       "      <th>Specialization_Operations Management</th>\n",
       "      <th>Specialization_Others</th>\n",
       "      <th>Specialization_Rural and Agribusiness</th>\n",
       "      <th>Specialization_Supply Chain Management</th>\n",
       "      <th>Specialization_Travel and Tourism</th>\n",
       "    </tr>\n",
       "  </thead>\n",
       "  <tbody>\n",
       "    <tr>\n",
       "      <th>0</th>\n",
       "      <td>7927b2df-8bba-4d29-b9a2-b6e0beafe620</td>\n",
       "      <td>API</td>\n",
       "      <td>Olark Chat</td>\n",
       "      <td>0</td>\n",
       "      <td>0</td>\n",
       "      <td>0.0</td>\n",
       "      <td>0</td>\n",
       "      <td>0.0</td>\n",
       "      <td>Others</td>\n",
       "      <td>Unemployed</td>\n",
       "      <td>Mumbai</td>\n",
       "      <td>0</td>\n",
       "      <td>0</td>\n",
       "      <td>0</td>\n",
       "      <td>0</td>\n",
       "      <td>0</td>\n",
       "      <td>0</td>\n",
       "      <td>0</td>\n",
       "      <td>0</td>\n",
       "      <td>1</td>\n",
       "      <td>0</td>\n",
       "      <td>0</td>\n",
       "      <td>0</td>\n",
       "      <td>0</td>\n",
       "      <td>0</td>\n",
       "      <td>0</td>\n",
       "      <td>0</td>\n",
       "      <td>0</td>\n",
       "      <td>1</td>\n",
       "      <td>0</td>\n",
       "      <td>0</td>\n",
       "      <td>0</td>\n",
       "      <td>0</td>\n",
       "      <td>0</td>\n",
       "      <td>0</td>\n",
       "      <td>0</td>\n",
       "      <td>0</td>\n",
       "      <td>0</td>\n",
       "      <td>0</td>\n",
       "      <td>0</td>\n",
       "      <td>0</td>\n",
       "      <td>0</td>\n",
       "      <td>0</td>\n",
       "      <td>0</td>\n",
       "      <td>0</td>\n",
       "      <td>1</td>\n",
       "      <td>0</td>\n",
       "      <td>0</td>\n",
       "      <td>0</td>\n",
       "    </tr>\n",
       "    <tr>\n",
       "      <th>1</th>\n",
       "      <td>2a272436-5132-4136-86fa-dcc88c88f482</td>\n",
       "      <td>API</td>\n",
       "      <td>Organic Search</td>\n",
       "      <td>0</td>\n",
       "      <td>0</td>\n",
       "      <td>5.0</td>\n",
       "      <td>674</td>\n",
       "      <td>2.5</td>\n",
       "      <td>Others</td>\n",
       "      <td>Unemployed</td>\n",
       "      <td>Mumbai</td>\n",
       "      <td>0</td>\n",
       "      <td>0</td>\n",
       "      <td>0</td>\n",
       "      <td>0</td>\n",
       "      <td>0</td>\n",
       "      <td>0</td>\n",
       "      <td>0</td>\n",
       "      <td>0</td>\n",
       "      <td>0</td>\n",
       "      <td>1</td>\n",
       "      <td>0</td>\n",
       "      <td>0</td>\n",
       "      <td>0</td>\n",
       "      <td>0</td>\n",
       "      <td>0</td>\n",
       "      <td>0</td>\n",
       "      <td>0</td>\n",
       "      <td>1</td>\n",
       "      <td>0</td>\n",
       "      <td>0</td>\n",
       "      <td>0</td>\n",
       "      <td>0</td>\n",
       "      <td>0</td>\n",
       "      <td>0</td>\n",
       "      <td>0</td>\n",
       "      <td>0</td>\n",
       "      <td>0</td>\n",
       "      <td>0</td>\n",
       "      <td>0</td>\n",
       "      <td>0</td>\n",
       "      <td>0</td>\n",
       "      <td>0</td>\n",
       "      <td>0</td>\n",
       "      <td>0</td>\n",
       "      <td>1</td>\n",
       "      <td>0</td>\n",
       "      <td>0</td>\n",
       "      <td>0</td>\n",
       "    </tr>\n",
       "    <tr>\n",
       "      <th>2</th>\n",
       "      <td>8cc8c611-a219-4f35-ad23-fdfd2656bd8a</td>\n",
       "      <td>Landing Page Submission</td>\n",
       "      <td>Direct Traffic</td>\n",
       "      <td>0</td>\n",
       "      <td>1</td>\n",
       "      <td>2.0</td>\n",
       "      <td>1532</td>\n",
       "      <td>2.0</td>\n",
       "      <td>Business Administration</td>\n",
       "      <td>Student</td>\n",
       "      <td>Mumbai</td>\n",
       "      <td>1</td>\n",
       "      <td>1</td>\n",
       "      <td>1</td>\n",
       "      <td>0</td>\n",
       "      <td>0</td>\n",
       "      <td>0</td>\n",
       "      <td>0</td>\n",
       "      <td>0</td>\n",
       "      <td>0</td>\n",
       "      <td>0</td>\n",
       "      <td>0</td>\n",
       "      <td>0</td>\n",
       "      <td>0</td>\n",
       "      <td>0</td>\n",
       "      <td>0</td>\n",
       "      <td>0</td>\n",
       "      <td>1</td>\n",
       "      <td>0</td>\n",
       "      <td>0</td>\n",
       "      <td>0</td>\n",
       "      <td>0</td>\n",
       "      <td>0</td>\n",
       "      <td>0</td>\n",
       "      <td>0</td>\n",
       "      <td>1</td>\n",
       "      <td>0</td>\n",
       "      <td>0</td>\n",
       "      <td>0</td>\n",
       "      <td>0</td>\n",
       "      <td>0</td>\n",
       "      <td>0</td>\n",
       "      <td>0</td>\n",
       "      <td>0</td>\n",
       "      <td>0</td>\n",
       "      <td>0</td>\n",
       "      <td>0</td>\n",
       "      <td>0</td>\n",
       "      <td>0</td>\n",
       "    </tr>\n",
       "    <tr>\n",
       "      <th>3</th>\n",
       "      <td>0cc2df48-7cf4-4e39-9de9-19797f9b38cc</td>\n",
       "      <td>Landing Page Submission</td>\n",
       "      <td>Direct Traffic</td>\n",
       "      <td>0</td>\n",
       "      <td>0</td>\n",
       "      <td>1.0</td>\n",
       "      <td>305</td>\n",
       "      <td>1.0</td>\n",
       "      <td>Media and Advertising</td>\n",
       "      <td>Unemployed</td>\n",
       "      <td>Mumbai</td>\n",
       "      <td>0</td>\n",
       "      <td>0</td>\n",
       "      <td>1</td>\n",
       "      <td>0</td>\n",
       "      <td>0</td>\n",
       "      <td>0</td>\n",
       "      <td>0</td>\n",
       "      <td>0</td>\n",
       "      <td>0</td>\n",
       "      <td>0</td>\n",
       "      <td>0</td>\n",
       "      <td>0</td>\n",
       "      <td>0</td>\n",
       "      <td>0</td>\n",
       "      <td>0</td>\n",
       "      <td>0</td>\n",
       "      <td>0</td>\n",
       "      <td>1</td>\n",
       "      <td>0</td>\n",
       "      <td>0</td>\n",
       "      <td>0</td>\n",
       "      <td>0</td>\n",
       "      <td>0</td>\n",
       "      <td>0</td>\n",
       "      <td>0</td>\n",
       "      <td>0</td>\n",
       "      <td>0</td>\n",
       "      <td>0</td>\n",
       "      <td>0</td>\n",
       "      <td>0</td>\n",
       "      <td>0</td>\n",
       "      <td>0</td>\n",
       "      <td>1</td>\n",
       "      <td>0</td>\n",
       "      <td>0</td>\n",
       "      <td>0</td>\n",
       "      <td>0</td>\n",
       "      <td>0</td>\n",
       "    </tr>\n",
       "    <tr>\n",
       "      <th>4</th>\n",
       "      <td>3256f628-e534-4826-9d63-4a8b88782852</td>\n",
       "      <td>Landing Page Submission</td>\n",
       "      <td>Google</td>\n",
       "      <td>0</td>\n",
       "      <td>1</td>\n",
       "      <td>2.0</td>\n",
       "      <td>1428</td>\n",
       "      <td>1.0</td>\n",
       "      <td>Others</td>\n",
       "      <td>Unemployed</td>\n",
       "      <td>Mumbai</td>\n",
       "      <td>0</td>\n",
       "      <td>0</td>\n",
       "      <td>1</td>\n",
       "      <td>0</td>\n",
       "      <td>0</td>\n",
       "      <td>0</td>\n",
       "      <td>0</td>\n",
       "      <td>1</td>\n",
       "      <td>0</td>\n",
       "      <td>0</td>\n",
       "      <td>0</td>\n",
       "      <td>0</td>\n",
       "      <td>0</td>\n",
       "      <td>0</td>\n",
       "      <td>0</td>\n",
       "      <td>0</td>\n",
       "      <td>0</td>\n",
       "      <td>1</td>\n",
       "      <td>0</td>\n",
       "      <td>0</td>\n",
       "      <td>0</td>\n",
       "      <td>0</td>\n",
       "      <td>0</td>\n",
       "      <td>0</td>\n",
       "      <td>0</td>\n",
       "      <td>0</td>\n",
       "      <td>0</td>\n",
       "      <td>0</td>\n",
       "      <td>0</td>\n",
       "      <td>0</td>\n",
       "      <td>0</td>\n",
       "      <td>0</td>\n",
       "      <td>0</td>\n",
       "      <td>0</td>\n",
       "      <td>1</td>\n",
       "      <td>0</td>\n",
       "      <td>0</td>\n",
       "      <td>0</td>\n",
       "    </tr>\n",
       "  </tbody>\n",
       "</table>\n",
       "</div>"
      ],
      "text/plain": [
       "                            Prospect ID              Lead Origin  \\\n",
       "0  7927b2df-8bba-4d29-b9a2-b6e0beafe620                      API   \n",
       "1  2a272436-5132-4136-86fa-dcc88c88f482                      API   \n",
       "2  8cc8c611-a219-4f35-ad23-fdfd2656bd8a  Landing Page Submission   \n",
       "3  0cc2df48-7cf4-4e39-9de9-19797f9b38cc  Landing Page Submission   \n",
       "4  3256f628-e534-4826-9d63-4a8b88782852  Landing Page Submission   \n",
       "\n",
       "      Lead Source  Do Not Email  Converted  TotalVisits  \\\n",
       "0      Olark Chat             0          0          0.0   \n",
       "1  Organic Search             0          0          5.0   \n",
       "2  Direct Traffic             0          1          2.0   \n",
       "3  Direct Traffic             0          0          1.0   \n",
       "4          Google             0          1          2.0   \n",
       "\n",
       "   Total Time Spent on Website  Page Views Per Visit           Specialization  \\\n",
       "0                            0                   0.0                   Others   \n",
       "1                          674                   2.5                   Others   \n",
       "2                         1532                   2.0  Business Administration   \n",
       "3                          305                   1.0    Media and Advertising   \n",
       "4                         1428                   1.0                   Others   \n",
       "\n",
       "  What is your current occupation    City  \\\n",
       "0                      Unemployed  Mumbai   \n",
       "1                      Unemployed  Mumbai   \n",
       "2                         Student  Mumbai   \n",
       "3                      Unemployed  Mumbai   \n",
       "4                      Unemployed  Mumbai   \n",
       "\n",
       "   A free copy of Mastering The Interview  \\\n",
       "0                                       0   \n",
       "1                                       0   \n",
       "2                                       1   \n",
       "3                                       0   \n",
       "4                                       0   \n",
       "\n",
       "   A free copy of Mastering The Interview  \\\n",
       "0                                       0   \n",
       "1                                       0   \n",
       "2                                       1   \n",
       "3                                       0   \n",
       "4                                       0   \n",
       "\n",
       "   Lead Origin_Landing Page Submission  Lead Origin_Lead Add Form  \\\n",
       "0                                    0                          0   \n",
       "1                                    0                          0   \n",
       "2                                    1                          0   \n",
       "3                                    1                          0   \n",
       "4                                    1                          0   \n",
       "\n",
       "   Lead Origin_Lead Import  Lead Origin_Quick Add Form  Lead Source_Facebook  \\\n",
       "0                        0                           0                     0   \n",
       "1                        0                           0                     0   \n",
       "2                        0                           0                     0   \n",
       "3                        0                           0                     0   \n",
       "4                        0                           0                     0   \n",
       "\n",
       "   Lead Source_Google  Lead Source_Olark Chat  Lead Source_Organic Search  \\\n",
       "0                   0                       1                           0   \n",
       "1                   0                       0                           1   \n",
       "2                   0                       0                           0   \n",
       "3                   0                       0                           0   \n",
       "4                   1                       0                           0   \n",
       "\n",
       "   Lead Source_Others  Lead Source_Reference  Lead Source_Referral Sites  \\\n",
       "0                   0                      0                           0   \n",
       "1                   0                      0                           0   \n",
       "2                   0                      0                           0   \n",
       "3                   0                      0                           0   \n",
       "4                   0                      0                           0   \n",
       "\n",
       "   Lead Source_Welingak Website  What is your current occupation_Housewife  \\\n",
       "0                             0                                          0   \n",
       "1                             0                                          0   \n",
       "2                             0                                          0   \n",
       "3                             0                                          0   \n",
       "4                             0                                          0   \n",
       "\n",
       "   What is your current occupation_Other  \\\n",
       "0                                      0   \n",
       "1                                      0   \n",
       "2                                      0   \n",
       "3                                      0   \n",
       "4                                      0   \n",
       "\n",
       "   What is your current occupation_Student  \\\n",
       "0                                        0   \n",
       "1                                        0   \n",
       "2                                        1   \n",
       "3                                        0   \n",
       "4                                        0   \n",
       "\n",
       "   What is your current occupation_Unemployed  \\\n",
       "0                                           1   \n",
       "1                                           1   \n",
       "2                                           0   \n",
       "3                                           1   \n",
       "4                                           1   \n",
       "\n",
       "   What is your current occupation_Working Professional  City_Other Cities  \\\n",
       "0                                                  0                     0   \n",
       "1                                                  0                     0   \n",
       "2                                                  0                     0   \n",
       "3                                                  0                     0   \n",
       "4                                                  0                     0   \n",
       "\n",
       "   City_Other Cities of Maharashtra  City_Other Metro Cities  \\\n",
       "0                                 0                        0   \n",
       "1                                 0                        0   \n",
       "2                                 0                        0   \n",
       "3                                 0                        0   \n",
       "4                                 0                        0   \n",
       "\n",
       "   City_Thane & Outskirts  City_Tier II Cities  \\\n",
       "0                       0                    0   \n",
       "1                       0                    0   \n",
       "2                       0                    0   \n",
       "3                       0                    0   \n",
       "4                       0                    0   \n",
       "\n",
       "   Specialization_Business Administration  Specialization_E-COMMERCE  \\\n",
       "0                                       0                          0   \n",
       "1                                       0                          0   \n",
       "2                                       1                          0   \n",
       "3                                       0                          0   \n",
       "4                                       0                          0   \n",
       "\n",
       "   Specialization_Finance Management  Specialization_Healthcare Management  \\\n",
       "0                                  0                                     0   \n",
       "1                                  0                                     0   \n",
       "2                                  0                                     0   \n",
       "3                                  0                                     0   \n",
       "4                                  0                                     0   \n",
       "\n",
       "   Specialization_Human Resource Management  \\\n",
       "0                                         0   \n",
       "1                                         0   \n",
       "2                                         0   \n",
       "3                                         0   \n",
       "4                                         0   \n",
       "\n",
       "   Specialization_IT Projects Management  \\\n",
       "0                                      0   \n",
       "1                                      0   \n",
       "2                                      0   \n",
       "3                                      0   \n",
       "4                                      0   \n",
       "\n",
       "   Specialization_International Business  Specialization_Marketing Management  \\\n",
       "0                                      0                                    0   \n",
       "1                                      0                                    0   \n",
       "2                                      0                                    0   \n",
       "3                                      0                                    0   \n",
       "4                                      0                                    0   \n",
       "\n",
       "   Specialization_Media and Advertising  Specialization_Operations Management  \\\n",
       "0                                     0                                     0   \n",
       "1                                     0                                     0   \n",
       "2                                     0                                     0   \n",
       "3                                     1                                     0   \n",
       "4                                     0                                     0   \n",
       "\n",
       "   Specialization_Others  Specialization_Rural and Agribusiness  \\\n",
       "0                      1                                      0   \n",
       "1                      1                                      0   \n",
       "2                      0                                      0   \n",
       "3                      0                                      0   \n",
       "4                      1                                      0   \n",
       "\n",
       "   Specialization_Supply Chain Management  Specialization_Travel and Tourism  \n",
       "0                                       0                                  0  \n",
       "1                                       0                                  0  \n",
       "2                                       0                                  0  \n",
       "3                                       0                                  0  \n",
       "4                                       0                                  0  "
      ]
     },
     "execution_count": 73,
     "metadata": {},
     "output_type": "execute_result"
    }
   ],
   "source": [
    "# Adding the results to the original dataset\n",
    "leads3 = pd.concat([leads2, dummy], axis=1)\n",
    "\n",
    "# Getting the top 5 rows\n",
    "leads3.head()"
   ]
  },
  {
   "cell_type": "code",
   "execution_count": 74,
   "metadata": {},
   "outputs": [],
   "source": [
    "# Dropping the repeated variables\n",
    "# We have created dummies for the below variables, so we can drop them\n",
    "\n",
    "leads3 = leads3.drop(['Lead Origin', 'Lead Source',\n",
    "        'What is your current occupation','City','Specialization',\n",
    "       'A free copy of Mastering The Interview'],axis=1)"
   ]
  },
  {
   "cell_type": "code",
   "execution_count": 75,
   "metadata": {},
   "outputs": [
    {
     "data": {
      "text/plain": [
       "(8679, 42)"
      ]
     },
     "execution_count": 75,
     "metadata": {},
     "output_type": "execute_result"
    }
   ],
   "source": [
    "# Checking the number of rows and columns again after dummifying the columns\n",
    "leads3.shape"
   ]
  },
  {
   "cell_type": "markdown",
   "metadata": {},
   "source": [
    "**After creating dummies, we have 42 features.**"
   ]
  },
  {
   "cell_type": "markdown",
   "metadata": {},
   "source": [
    "### 4. Model Preparation"
   ]
  },
  {
   "cell_type": "markdown",
   "metadata": {},
   "source": [
    "#### 4.1 Train-Test Split"
   ]
  },
  {
   "cell_type": "code",
   "execution_count": 76,
   "metadata": {},
   "outputs": [],
   "source": [
    "# Storing the target variable to Y\n",
    "Y = leads3['Converted']"
   ]
  },
  {
   "cell_type": "code",
   "execution_count": 77,
   "metadata": {},
   "outputs": [],
   "source": [
    "# Dropping the target variable from dataframe\n",
    "X = leads3.drop(['Converted'],axis = 1)"
   ]
  },
  {
   "cell_type": "code",
   "execution_count": 78,
   "metadata": {},
   "outputs": [],
   "source": [
    "# Splitting the data into train and test\n",
    "X_train, X_test, Y_train, Y_test = train_test_split(X, Y, train_size=0.7, test_size=0.3, random_state=100)"
   ]
  },
  {
   "cell_type": "code",
   "execution_count": 79,
   "metadata": {},
   "outputs": [],
   "source": [
    "# Storing Prospect ID to a new variable\n",
    "Train_leads_Prospect_Id = X_train['Prospect ID']\n",
    "\n",
    "Test_leads_Prospect_Id = X_test['Prospect ID']\n",
    "\n",
    "# Dropping Prospect ID from the dataframe\n",
    "\n",
    "X_train = X_train.drop('Prospect ID',axis = 1)\n",
    "\n",
    "X_test = X_test.drop('Prospect ID',axis = 1)"
   ]
  },
  {
   "cell_type": "markdown",
   "metadata": {},
   "source": [
    "#### 4.2 Scaling the Numerical features"
   ]
  },
  {
   "cell_type": "code",
   "execution_count": 80,
   "metadata": {},
   "outputs": [],
   "source": [
    "#Scaling numerical features, applying fit transform\n",
    "scaler = StandardScaler()\n",
    "X_train[['TotalVisits','Total Time Spent on Website','Page Views Per Visit']] = scaler.fit_transform(X_train[['TotalVisits','Total Time Spent on Website','Page Views Per Visit']])"
   ]
  },
  {
   "cell_type": "code",
   "execution_count": 81,
   "metadata": {},
   "outputs": [
    {
     "data": {
      "text/html": [
       "<div>\n",
       "<style scoped>\n",
       "    .dataframe tbody tr th:only-of-type {\n",
       "        vertical-align: middle;\n",
       "    }\n",
       "\n",
       "    .dataframe tbody tr th {\n",
       "        vertical-align: top;\n",
       "    }\n",
       "\n",
       "    .dataframe thead th {\n",
       "        text-align: right;\n",
       "    }\n",
       "</style>\n",
       "<table border=\"1\" class=\"dataframe\">\n",
       "  <thead>\n",
       "    <tr style=\"text-align: right;\">\n",
       "      <th></th>\n",
       "      <th>Do Not Email</th>\n",
       "      <th>TotalVisits</th>\n",
       "      <th>Total Time Spent on Website</th>\n",
       "      <th>Page Views Per Visit</th>\n",
       "      <th>Lead Origin_Landing Page Submission</th>\n",
       "      <th>Lead Origin_Lead Add Form</th>\n",
       "      <th>Lead Origin_Lead Import</th>\n",
       "      <th>Lead Origin_Quick Add Form</th>\n",
       "      <th>Lead Source_Facebook</th>\n",
       "      <th>Lead Source_Google</th>\n",
       "      <th>Lead Source_Olark Chat</th>\n",
       "      <th>Lead Source_Organic Search</th>\n",
       "      <th>Lead Source_Others</th>\n",
       "      <th>Lead Source_Reference</th>\n",
       "      <th>Lead Source_Referral Sites</th>\n",
       "      <th>Lead Source_Welingak Website</th>\n",
       "      <th>What is your current occupation_Housewife</th>\n",
       "      <th>What is your current occupation_Other</th>\n",
       "      <th>What is your current occupation_Student</th>\n",
       "      <th>What is your current occupation_Unemployed</th>\n",
       "      <th>What is your current occupation_Working Professional</th>\n",
       "      <th>City_Other Cities</th>\n",
       "      <th>City_Other Cities of Maharashtra</th>\n",
       "      <th>City_Other Metro Cities</th>\n",
       "      <th>City_Thane &amp; Outskirts</th>\n",
       "      <th>City_Tier II Cities</th>\n",
       "      <th>Specialization_Business Administration</th>\n",
       "      <th>Specialization_E-COMMERCE</th>\n",
       "      <th>Specialization_Finance Management</th>\n",
       "      <th>Specialization_Healthcare Management</th>\n",
       "      <th>Specialization_Human Resource Management</th>\n",
       "      <th>Specialization_IT Projects Management</th>\n",
       "      <th>Specialization_International Business</th>\n",
       "      <th>Specialization_Marketing Management</th>\n",
       "      <th>Specialization_Media and Advertising</th>\n",
       "      <th>Specialization_Operations Management</th>\n",
       "      <th>Specialization_Others</th>\n",
       "      <th>Specialization_Rural and Agribusiness</th>\n",
       "      <th>Specialization_Supply Chain Management</th>\n",
       "      <th>Specialization_Travel and Tourism</th>\n",
       "    </tr>\n",
       "  </thead>\n",
       "  <tbody>\n",
       "    <tr>\n",
       "      <th>5182</th>\n",
       "      <td>0</td>\n",
       "      <td>-0.744673</td>\n",
       "      <td>-0.770602</td>\n",
       "      <td>-0.650023</td>\n",
       "      <td>0</td>\n",
       "      <td>0</td>\n",
       "      <td>0</td>\n",
       "      <td>0</td>\n",
       "      <td>0</td>\n",
       "      <td>1</td>\n",
       "      <td>0</td>\n",
       "      <td>0</td>\n",
       "      <td>0</td>\n",
       "      <td>0</td>\n",
       "      <td>0</td>\n",
       "      <td>0</td>\n",
       "      <td>0</td>\n",
       "      <td>0</td>\n",
       "      <td>0</td>\n",
       "      <td>1</td>\n",
       "      <td>0</td>\n",
       "      <td>0</td>\n",
       "      <td>0</td>\n",
       "      <td>0</td>\n",
       "      <td>0</td>\n",
       "      <td>0</td>\n",
       "      <td>0</td>\n",
       "      <td>0</td>\n",
       "      <td>0</td>\n",
       "      <td>0</td>\n",
       "      <td>0</td>\n",
       "      <td>0</td>\n",
       "      <td>0</td>\n",
       "      <td>0</td>\n",
       "      <td>0</td>\n",
       "      <td>0</td>\n",
       "      <td>1</td>\n",
       "      <td>0</td>\n",
       "      <td>0</td>\n",
       "      <td>0</td>\n",
       "    </tr>\n",
       "    <tr>\n",
       "      <th>8469</th>\n",
       "      <td>1</td>\n",
       "      <td>-0.332511</td>\n",
       "      <td>-0.532344</td>\n",
       "      <td>-0.045307</td>\n",
       "      <td>1</td>\n",
       "      <td>0</td>\n",
       "      <td>0</td>\n",
       "      <td>0</td>\n",
       "      <td>0</td>\n",
       "      <td>0</td>\n",
       "      <td>0</td>\n",
       "      <td>0</td>\n",
       "      <td>0</td>\n",
       "      <td>0</td>\n",
       "      <td>0</td>\n",
       "      <td>0</td>\n",
       "      <td>0</td>\n",
       "      <td>0</td>\n",
       "      <td>0</td>\n",
       "      <td>1</td>\n",
       "      <td>0</td>\n",
       "      <td>0</td>\n",
       "      <td>0</td>\n",
       "      <td>0</td>\n",
       "      <td>1</td>\n",
       "      <td>0</td>\n",
       "      <td>0</td>\n",
       "      <td>0</td>\n",
       "      <td>1</td>\n",
       "      <td>0</td>\n",
       "      <td>0</td>\n",
       "      <td>0</td>\n",
       "      <td>0</td>\n",
       "      <td>0</td>\n",
       "      <td>0</td>\n",
       "      <td>0</td>\n",
       "      <td>0</td>\n",
       "      <td>0</td>\n",
       "      <td>0</td>\n",
       "      <td>0</td>\n",
       "    </tr>\n",
       "    <tr>\n",
       "      <th>8382</th>\n",
       "      <td>0</td>\n",
       "      <td>0.079651</td>\n",
       "      <td>1.685292</td>\n",
       "      <td>-0.347665</td>\n",
       "      <td>0</td>\n",
       "      <td>0</td>\n",
       "      <td>0</td>\n",
       "      <td>0</td>\n",
       "      <td>0</td>\n",
       "      <td>1</td>\n",
       "      <td>0</td>\n",
       "      <td>0</td>\n",
       "      <td>0</td>\n",
       "      <td>0</td>\n",
       "      <td>0</td>\n",
       "      <td>0</td>\n",
       "      <td>0</td>\n",
       "      <td>0</td>\n",
       "      <td>0</td>\n",
       "      <td>1</td>\n",
       "      <td>0</td>\n",
       "      <td>0</td>\n",
       "      <td>0</td>\n",
       "      <td>0</td>\n",
       "      <td>0</td>\n",
       "      <td>0</td>\n",
       "      <td>0</td>\n",
       "      <td>0</td>\n",
       "      <td>0</td>\n",
       "      <td>0</td>\n",
       "      <td>0</td>\n",
       "      <td>0</td>\n",
       "      <td>0</td>\n",
       "      <td>0</td>\n",
       "      <td>0</td>\n",
       "      <td>0</td>\n",
       "      <td>1</td>\n",
       "      <td>0</td>\n",
       "      <td>0</td>\n",
       "      <td>0</td>\n",
       "    </tr>\n",
       "    <tr>\n",
       "      <th>8031</th>\n",
       "      <td>0</td>\n",
       "      <td>0.079651</td>\n",
       "      <td>-0.081485</td>\n",
       "      <td>0.559408</td>\n",
       "      <td>1</td>\n",
       "      <td>0</td>\n",
       "      <td>0</td>\n",
       "      <td>0</td>\n",
       "      <td>0</td>\n",
       "      <td>0</td>\n",
       "      <td>0</td>\n",
       "      <td>0</td>\n",
       "      <td>0</td>\n",
       "      <td>0</td>\n",
       "      <td>0</td>\n",
       "      <td>0</td>\n",
       "      <td>0</td>\n",
       "      <td>0</td>\n",
       "      <td>0</td>\n",
       "      <td>1</td>\n",
       "      <td>0</td>\n",
       "      <td>1</td>\n",
       "      <td>0</td>\n",
       "      <td>0</td>\n",
       "      <td>0</td>\n",
       "      <td>0</td>\n",
       "      <td>0</td>\n",
       "      <td>0</td>\n",
       "      <td>0</td>\n",
       "      <td>0</td>\n",
       "      <td>0</td>\n",
       "      <td>0</td>\n",
       "      <td>0</td>\n",
       "      <td>0</td>\n",
       "      <td>0</td>\n",
       "      <td>0</td>\n",
       "      <td>0</td>\n",
       "      <td>0</td>\n",
       "      <td>1</td>\n",
       "      <td>0</td>\n",
       "    </tr>\n",
       "    <tr>\n",
       "      <th>6712</th>\n",
       "      <td>0</td>\n",
       "      <td>0.079651</td>\n",
       "      <td>2.942563</td>\n",
       "      <td>-0.045307</td>\n",
       "      <td>0</td>\n",
       "      <td>1</td>\n",
       "      <td>0</td>\n",
       "      <td>0</td>\n",
       "      <td>0</td>\n",
       "      <td>0</td>\n",
       "      <td>0</td>\n",
       "      <td>0</td>\n",
       "      <td>0</td>\n",
       "      <td>1</td>\n",
       "      <td>0</td>\n",
       "      <td>0</td>\n",
       "      <td>0</td>\n",
       "      <td>0</td>\n",
       "      <td>0</td>\n",
       "      <td>1</td>\n",
       "      <td>0</td>\n",
       "      <td>0</td>\n",
       "      <td>0</td>\n",
       "      <td>0</td>\n",
       "      <td>0</td>\n",
       "      <td>0</td>\n",
       "      <td>0</td>\n",
       "      <td>0</td>\n",
       "      <td>0</td>\n",
       "      <td>0</td>\n",
       "      <td>0</td>\n",
       "      <td>0</td>\n",
       "      <td>0</td>\n",
       "      <td>0</td>\n",
       "      <td>0</td>\n",
       "      <td>0</td>\n",
       "      <td>1</td>\n",
       "      <td>0</td>\n",
       "      <td>0</td>\n",
       "      <td>0</td>\n",
       "    </tr>\n",
       "  </tbody>\n",
       "</table>\n",
       "</div>"
      ],
      "text/plain": [
       "      Do Not Email  TotalVisits  Total Time Spent on Website  \\\n",
       "5182             0    -0.744673                    -0.770602   \n",
       "8469             1    -0.332511                    -0.532344   \n",
       "8382             0     0.079651                     1.685292   \n",
       "8031             0     0.079651                    -0.081485   \n",
       "6712             0     0.079651                     2.942563   \n",
       "\n",
       "      Page Views Per Visit  Lead Origin_Landing Page Submission  \\\n",
       "5182             -0.650023                                    0   \n",
       "8469             -0.045307                                    1   \n",
       "8382             -0.347665                                    0   \n",
       "8031              0.559408                                    1   \n",
       "6712             -0.045307                                    0   \n",
       "\n",
       "      Lead Origin_Lead Add Form  Lead Origin_Lead Import  \\\n",
       "5182                          0                        0   \n",
       "8469                          0                        0   \n",
       "8382                          0                        0   \n",
       "8031                          0                        0   \n",
       "6712                          1                        0   \n",
       "\n",
       "      Lead Origin_Quick Add Form  Lead Source_Facebook  Lead Source_Google  \\\n",
       "5182                           0                     0                   1   \n",
       "8469                           0                     0                   0   \n",
       "8382                           0                     0                   1   \n",
       "8031                           0                     0                   0   \n",
       "6712                           0                     0                   0   \n",
       "\n",
       "      Lead Source_Olark Chat  Lead Source_Organic Search  Lead Source_Others  \\\n",
       "5182                       0                           0                   0   \n",
       "8469                       0                           0                   0   \n",
       "8382                       0                           0                   0   \n",
       "8031                       0                           0                   0   \n",
       "6712                       0                           0                   0   \n",
       "\n",
       "      Lead Source_Reference  Lead Source_Referral Sites  \\\n",
       "5182                      0                           0   \n",
       "8469                      0                           0   \n",
       "8382                      0                           0   \n",
       "8031                      0                           0   \n",
       "6712                      1                           0   \n",
       "\n",
       "      Lead Source_Welingak Website  What is your current occupation_Housewife  \\\n",
       "5182                             0                                          0   \n",
       "8469                             0                                          0   \n",
       "8382                             0                                          0   \n",
       "8031                             0                                          0   \n",
       "6712                             0                                          0   \n",
       "\n",
       "      What is your current occupation_Other  \\\n",
       "5182                                      0   \n",
       "8469                                      0   \n",
       "8382                                      0   \n",
       "8031                                      0   \n",
       "6712                                      0   \n",
       "\n",
       "      What is your current occupation_Student  \\\n",
       "5182                                        0   \n",
       "8469                                        0   \n",
       "8382                                        0   \n",
       "8031                                        0   \n",
       "6712                                        0   \n",
       "\n",
       "      What is your current occupation_Unemployed  \\\n",
       "5182                                           1   \n",
       "8469                                           1   \n",
       "8382                                           1   \n",
       "8031                                           1   \n",
       "6712                                           1   \n",
       "\n",
       "      What is your current occupation_Working Professional  City_Other Cities  \\\n",
       "5182                                                  0                     0   \n",
       "8469                                                  0                     0   \n",
       "8382                                                  0                     0   \n",
       "8031                                                  0                     1   \n",
       "6712                                                  0                     0   \n",
       "\n",
       "      City_Other Cities of Maharashtra  City_Other Metro Cities  \\\n",
       "5182                                 0                        0   \n",
       "8469                                 0                        0   \n",
       "8382                                 0                        0   \n",
       "8031                                 0                        0   \n",
       "6712                                 0                        0   \n",
       "\n",
       "      City_Thane & Outskirts  City_Tier II Cities  \\\n",
       "5182                       0                    0   \n",
       "8469                       1                    0   \n",
       "8382                       0                    0   \n",
       "8031                       0                    0   \n",
       "6712                       0                    0   \n",
       "\n",
       "      Specialization_Business Administration  Specialization_E-COMMERCE  \\\n",
       "5182                                       0                          0   \n",
       "8469                                       0                          0   \n",
       "8382                                       0                          0   \n",
       "8031                                       0                          0   \n",
       "6712                                       0                          0   \n",
       "\n",
       "      Specialization_Finance Management  Specialization_Healthcare Management  \\\n",
       "5182                                  0                                     0   \n",
       "8469                                  1                                     0   \n",
       "8382                                  0                                     0   \n",
       "8031                                  0                                     0   \n",
       "6712                                  0                                     0   \n",
       "\n",
       "      Specialization_Human Resource Management  \\\n",
       "5182                                         0   \n",
       "8469                                         0   \n",
       "8382                                         0   \n",
       "8031                                         0   \n",
       "6712                                         0   \n",
       "\n",
       "      Specialization_IT Projects Management  \\\n",
       "5182                                      0   \n",
       "8469                                      0   \n",
       "8382                                      0   \n",
       "8031                                      0   \n",
       "6712                                      0   \n",
       "\n",
       "      Specialization_International Business  \\\n",
       "5182                                      0   \n",
       "8469                                      0   \n",
       "8382                                      0   \n",
       "8031                                      0   \n",
       "6712                                      0   \n",
       "\n",
       "      Specialization_Marketing Management  \\\n",
       "5182                                    0   \n",
       "8469                                    0   \n",
       "8382                                    0   \n",
       "8031                                    0   \n",
       "6712                                    0   \n",
       "\n",
       "      Specialization_Media and Advertising  \\\n",
       "5182                                     0   \n",
       "8469                                     0   \n",
       "8382                                     0   \n",
       "8031                                     0   \n",
       "6712                                     0   \n",
       "\n",
       "      Specialization_Operations Management  Specialization_Others  \\\n",
       "5182                                     0                      1   \n",
       "8469                                     0                      0   \n",
       "8382                                     0                      1   \n",
       "8031                                     0                      0   \n",
       "6712                                     0                      1   \n",
       "\n",
       "      Specialization_Rural and Agribusiness  \\\n",
       "5182                                      0   \n",
       "8469                                      0   \n",
       "8382                                      0   \n",
       "8031                                      0   \n",
       "6712                                      0   \n",
       "\n",
       "      Specialization_Supply Chain Management  \\\n",
       "5182                                       0   \n",
       "8469                                       0   \n",
       "8382                                       0   \n",
       "8031                                       1   \n",
       "6712                                       0   \n",
       "\n",
       "      Specialization_Travel and Tourism  \n",
       "5182                                  0  \n",
       "8469                                  0  \n",
       "8382                                  0  \n",
       "8031                                  0  \n",
       "6712                                  0  "
      ]
     },
     "execution_count": 81,
     "metadata": {},
     "output_type": "execute_result"
    }
   ],
   "source": [
    "# Getting training dataset\n",
    "X_train.head()"
   ]
  },
  {
   "cell_type": "markdown",
   "metadata": {},
   "source": [
    "### 5. Model Building"
   ]
  },
  {
   "cell_type": "markdown",
   "metadata": {},
   "source": [
    "#### 5.1 Building Logisitc Regression model"
   ]
  },
  {
   "cell_type": "code",
   "execution_count": 82,
   "metadata": {},
   "outputs": [
    {
     "data": {
      "text/html": [
       "<table class=\"simpletable\">\n",
       "<caption>Generalized Linear Model Regression Results</caption>\n",
       "<tr>\n",
       "  <th>Dep. Variable:</th>       <td>Converted</td>    <th>  No. Observations:  </th>  <td>  6075</td> \n",
       "</tr>\n",
       "<tr>\n",
       "  <th>Model:</th>                  <td>GLM</td>       <th>  Df Residuals:      </th>  <td>  6034</td> \n",
       "</tr>\n",
       "<tr>\n",
       "  <th>Model Family:</th>        <td>Binomial</td>     <th>  Df Model:          </th>  <td>    40</td> \n",
       "</tr>\n",
       "<tr>\n",
       "  <th>Link Function:</th>         <td>logit</td>      <th>  Scale:             </th> <td>  1.0000</td>\n",
       "</tr>\n",
       "<tr>\n",
       "  <th>Method:</th>                <td>IRLS</td>       <th>  Log-Likelihood:    </th> <td> -2762.6</td>\n",
       "</tr>\n",
       "<tr>\n",
       "  <th>Date:</th>            <td>Mon, 17 May 2021</td> <th>  Deviance:          </th> <td>  5525.2</td>\n",
       "</tr>\n",
       "<tr>\n",
       "  <th>Time:</th>                <td>20:43:52</td>     <th>  Pearson chi2:      </th> <td>7.42e+03</td>\n",
       "</tr>\n",
       "<tr>\n",
       "  <th>No. Iterations:</th>         <td>21</td>        <th>                     </th>     <td> </td>   \n",
       "</tr>\n",
       "<tr>\n",
       "  <th>Covariance Type:</th>     <td>nonrobust</td>    <th>                     </th>     <td> </td>   \n",
       "</tr>\n",
       "</table>\n",
       "<table class=\"simpletable\">\n",
       "<tr>\n",
       "                            <td></td>                              <th>coef</th>     <th>std err</th>      <th>z</th>      <th>P>|z|</th>  <th>[0.025</th>    <th>0.975]</th>  \n",
       "</tr>\n",
       "<tr>\n",
       "  <th>const</th>                                                <td>   -0.7392</td> <td>    1.263</td> <td>   -0.585</td> <td> 0.558</td> <td>   -3.214</td> <td>    1.735</td>\n",
       "</tr>\n",
       "<tr>\n",
       "  <th>Do Not Email</th>                                         <td>   -1.2933</td> <td>    0.169</td> <td>   -7.631</td> <td> 0.000</td> <td>   -1.625</td> <td>   -0.961</td>\n",
       "</tr>\n",
       "<tr>\n",
       "  <th>TotalVisits</th>                                          <td>    0.1629</td> <td>    0.050</td> <td>    3.237</td> <td> 0.001</td> <td>    0.064</td> <td>    0.262</td>\n",
       "</tr>\n",
       "<tr>\n",
       "  <th>Total Time Spent on Website</th>                          <td>    1.0514</td> <td>    0.039</td> <td>   26.810</td> <td> 0.000</td> <td>    0.975</td> <td>    1.128</td>\n",
       "</tr>\n",
       "<tr>\n",
       "  <th>Page Views Per Visit</th>                                 <td>   -0.0827</td> <td>    0.058</td> <td>   -1.425</td> <td> 0.154</td> <td>   -0.196</td> <td>    0.031</td>\n",
       "</tr>\n",
       "<tr>\n",
       "  <th>Lead Origin_Landing Page Submission</th>                  <td>   -0.7040</td> <td>    0.126</td> <td>   -5.608</td> <td> 0.000</td> <td>   -0.950</td> <td>   -0.458</td>\n",
       "</tr>\n",
       "<tr>\n",
       "  <th>Lead Origin_Lead Add Form</th>                            <td>    3.6686</td> <td>    0.489</td> <td>    7.498</td> <td> 0.000</td> <td>    2.710</td> <td>    4.628</td>\n",
       "</tr>\n",
       "<tr>\n",
       "  <th>Lead Origin_Lead Import</th>                              <td>    0.2016</td> <td>    2.264</td> <td>    0.089</td> <td> 0.929</td> <td>   -4.236</td> <td>    4.639</td>\n",
       "</tr>\n",
       "<tr>\n",
       "  <th>Lead Origin_Quick Add Form</th>                           <td>   20.4908</td> <td> 4.82e+04</td> <td>    0.000</td> <td> 1.000</td> <td>-9.44e+04</td> <td> 9.45e+04</td>\n",
       "</tr>\n",
       "<tr>\n",
       "  <th>Lead Source_Facebook</th>                                 <td>    0.0906</td> <td>    2.264</td> <td>    0.040</td> <td> 0.968</td> <td>   -4.347</td> <td>    4.528</td>\n",
       "</tr>\n",
       "<tr>\n",
       "  <th>Lead Source_Google</th>                                   <td>    0.3123</td> <td>    0.095</td> <td>    3.276</td> <td> 0.001</td> <td>    0.125</td> <td>    0.499</td>\n",
       "</tr>\n",
       "<tr>\n",
       "  <th>Lead Source_Olark Chat</th>                               <td>    1.0421</td> <td>    0.152</td> <td>    6.851</td> <td> 0.000</td> <td>    0.744</td> <td>    1.340</td>\n",
       "</tr>\n",
       "<tr>\n",
       "  <th>Lead Source_Organic Search</th>                           <td>    0.3119</td> <td>    0.131</td> <td>    2.381</td> <td> 0.017</td> <td>    0.055</td> <td>    0.569</td>\n",
       "</tr>\n",
       "<tr>\n",
       "  <th>Lead Source_Others</th>                                   <td>   -0.3965</td> <td>    0.773</td> <td>   -0.513</td> <td> 0.608</td> <td>   -1.913</td> <td>    1.120</td>\n",
       "</tr>\n",
       "<tr>\n",
       "  <th>Lead Source_Reference</th>                                <td>    0.3268</td> <td>    0.528</td> <td>    0.618</td> <td> 0.536</td> <td>   -0.709</td> <td>    1.362</td>\n",
       "</tr>\n",
       "<tr>\n",
       "  <th>Lead Source_Referral Sites</th>                           <td>   -0.2722</td> <td>    0.346</td> <td>   -0.787</td> <td> 0.431</td> <td>   -0.950</td> <td>    0.406</td>\n",
       "</tr>\n",
       "<tr>\n",
       "  <th>Lead Source_Welingak Website</th>                         <td>    3.5806</td> <td>    1.117</td> <td>    3.207</td> <td> 0.001</td> <td>    1.392</td> <td>    5.769</td>\n",
       "</tr>\n",
       "<tr>\n",
       "  <th>What is your current occupation_Housewife</th>            <td>   22.3191</td> <td> 1.66e+04</td> <td>    0.001</td> <td> 0.999</td> <td>-3.26e+04</td> <td> 3.26e+04</td>\n",
       "</tr>\n",
       "<tr>\n",
       "  <th>What is your current occupation_Other</th>                <td>    0.3335</td> <td>    1.425</td> <td>    0.234</td> <td> 0.815</td> <td>   -2.459</td> <td>    3.125</td>\n",
       "</tr>\n",
       "<tr>\n",
       "  <th>What is your current occupation_Student</th>              <td>    0.4243</td> <td>    1.262</td> <td>    0.336</td> <td> 0.737</td> <td>   -2.050</td> <td>    2.898</td>\n",
       "</tr>\n",
       "<tr>\n",
       "  <th>What is your current occupation_Unemployed</th>           <td>    0.3026</td> <td>    1.243</td> <td>    0.243</td> <td> 0.808</td> <td>   -2.134</td> <td>    2.740</td>\n",
       "</tr>\n",
       "<tr>\n",
       "  <th>What is your current occupation_Working Professional</th> <td>    3.0116</td> <td>    1.256</td> <td>    2.397</td> <td> 0.017</td> <td>    0.549</td> <td>    5.474</td>\n",
       "</tr>\n",
       "<tr>\n",
       "  <th>City_Other Cities</th>                                    <td>    0.1050</td> <td>    0.130</td> <td>    0.805</td> <td> 0.421</td> <td>   -0.151</td> <td>    0.361</td>\n",
       "</tr>\n",
       "<tr>\n",
       "  <th>City_Other Cities of Maharashtra</th>                     <td>    0.1894</td> <td>    0.160</td> <td>    1.181</td> <td> 0.237</td> <td>   -0.125</td> <td>    0.503</td>\n",
       "</tr>\n",
       "<tr>\n",
       "  <th>City_Other Metro Cities</th>                              <td>    0.1524</td> <td>    0.176</td> <td>    0.865</td> <td> 0.387</td> <td>   -0.193</td> <td>    0.498</td>\n",
       "</tr>\n",
       "<tr>\n",
       "  <th>City_Thane & Outskirts</th>                               <td>    0.1108</td> <td>    0.129</td> <td>    0.860</td> <td> 0.390</td> <td>   -0.142</td> <td>    0.363</td>\n",
       "</tr>\n",
       "<tr>\n",
       "  <th>City_Tier II Cities</th>                                  <td>    0.2129</td> <td>    0.405</td> <td>    0.526</td> <td> 0.599</td> <td>   -0.581</td> <td>    1.007</td>\n",
       "</tr>\n",
       "<tr>\n",
       "  <th>Specialization_Business Administration</th>               <td>   -0.0929</td> <td>    0.245</td> <td>   -0.379</td> <td> 0.704</td> <td>   -0.573</td> <td>    0.387</td>\n",
       "</tr>\n",
       "<tr>\n",
       "  <th>Specialization_E-COMMERCE</th>                            <td>   -0.0321</td> <td>    0.360</td> <td>   -0.089</td> <td> 0.929</td> <td>   -0.738</td> <td>    0.674</td>\n",
       "</tr>\n",
       "<tr>\n",
       "  <th>Specialization_Finance Management</th>                    <td>   -0.2154</td> <td>    0.210</td> <td>   -1.026</td> <td> 0.305</td> <td>   -0.627</td> <td>    0.196</td>\n",
       "</tr>\n",
       "<tr>\n",
       "  <th>Specialization_Healthcare Management</th>                 <td>    0.0136</td> <td>    0.326</td> <td>    0.042</td> <td> 0.967</td> <td>   -0.625</td> <td>    0.652</td>\n",
       "</tr>\n",
       "<tr>\n",
       "  <th>Specialization_Human Resource Management</th>             <td>   -0.1886</td> <td>    0.214</td> <td>   -0.883</td> <td> 0.377</td> <td>   -0.607</td> <td>    0.230</td>\n",
       "</tr>\n",
       "<tr>\n",
       "  <th>Specialization_IT Projects Management</th>                <td>    0.0075</td> <td>    0.248</td> <td>    0.030</td> <td> 0.976</td> <td>   -0.478</td> <td>    0.493</td>\n",
       "</tr>\n",
       "<tr>\n",
       "  <th>Specialization_International Business</th>                <td>   -0.0624</td> <td>    0.293</td> <td>   -0.213</td> <td> 0.831</td> <td>   -0.636</td> <td>    0.511</td>\n",
       "</tr>\n",
       "<tr>\n",
       "  <th>Specialization_Marketing Management</th>                  <td>    0.0064</td> <td>    0.212</td> <td>    0.030</td> <td> 0.976</td> <td>   -0.410</td> <td>    0.423</td>\n",
       "</tr>\n",
       "<tr>\n",
       "  <th>Specialization_Media and Advertising</th>                 <td>   -0.3314</td> <td>    0.297</td> <td>   -1.115</td> <td> 0.265</td> <td>   -0.914</td> <td>    0.251</td>\n",
       "</tr>\n",
       "<tr>\n",
       "  <th>Specialization_Operations Management</th>                 <td>   -0.1153</td> <td>    0.232</td> <td>   -0.498</td> <td> 0.619</td> <td>   -0.569</td> <td>    0.339</td>\n",
       "</tr>\n",
       "<tr>\n",
       "  <th>Specialization_Others</th>                                <td>   -1.1511</td> <td>    0.208</td> <td>   -5.545</td> <td> 0.000</td> <td>   -1.558</td> <td>   -0.744</td>\n",
       "</tr>\n",
       "<tr>\n",
       "  <th>Specialization_Rural and Agribusiness</th>                <td>   -0.1239</td> <td>    0.417</td> <td>   -0.297</td> <td> 0.766</td> <td>   -0.941</td> <td>    0.693</td>\n",
       "</tr>\n",
       "<tr>\n",
       "  <th>Specialization_Supply Chain Management</th>               <td>   -0.1708</td> <td>    0.248</td> <td>   -0.688</td> <td> 0.492</td> <td>   -0.658</td> <td>    0.316</td>\n",
       "</tr>\n",
       "<tr>\n",
       "  <th>Specialization_Travel and Tourism</th>                    <td>   -0.0552</td> <td>    0.293</td> <td>   -0.188</td> <td> 0.851</td> <td>   -0.630</td> <td>    0.519</td>\n",
       "</tr>\n",
       "</table>"
      ],
      "text/plain": [
       "<class 'statsmodels.iolib.summary.Summary'>\n",
       "\"\"\"\n",
       "                 Generalized Linear Model Regression Results                  \n",
       "==============================================================================\n",
       "Dep. Variable:              Converted   No. Observations:                 6075\n",
       "Model:                            GLM   Df Residuals:                     6034\n",
       "Model Family:                Binomial   Df Model:                           40\n",
       "Link Function:                  logit   Scale:                          1.0000\n",
       "Method:                          IRLS   Log-Likelihood:                -2762.6\n",
       "Date:                Mon, 17 May 2021   Deviance:                       5525.2\n",
       "Time:                        20:43:52   Pearson chi2:                 7.42e+03\n",
       "No. Iterations:                    21                                         \n",
       "Covariance Type:            nonrobust                                         \n",
       "========================================================================================================================\n",
       "                                                           coef    std err          z      P>|z|      [0.025      0.975]\n",
       "------------------------------------------------------------------------------------------------------------------------\n",
       "const                                                   -0.7392      1.263     -0.585      0.558      -3.214       1.735\n",
       "Do Not Email                                            -1.2933      0.169     -7.631      0.000      -1.625      -0.961\n",
       "TotalVisits                                              0.1629      0.050      3.237      0.001       0.064       0.262\n",
       "Total Time Spent on Website                              1.0514      0.039     26.810      0.000       0.975       1.128\n",
       "Page Views Per Visit                                    -0.0827      0.058     -1.425      0.154      -0.196       0.031\n",
       "Lead Origin_Landing Page Submission                     -0.7040      0.126     -5.608      0.000      -0.950      -0.458\n",
       "Lead Origin_Lead Add Form                                3.6686      0.489      7.498      0.000       2.710       4.628\n",
       "Lead Origin_Lead Import                                  0.2016      2.264      0.089      0.929      -4.236       4.639\n",
       "Lead Origin_Quick Add Form                              20.4908   4.82e+04      0.000      1.000   -9.44e+04    9.45e+04\n",
       "Lead Source_Facebook                                     0.0906      2.264      0.040      0.968      -4.347       4.528\n",
       "Lead Source_Google                                       0.3123      0.095      3.276      0.001       0.125       0.499\n",
       "Lead Source_Olark Chat                                   1.0421      0.152      6.851      0.000       0.744       1.340\n",
       "Lead Source_Organic Search                               0.3119      0.131      2.381      0.017       0.055       0.569\n",
       "Lead Source_Others                                      -0.3965      0.773     -0.513      0.608      -1.913       1.120\n",
       "Lead Source_Reference                                    0.3268      0.528      0.618      0.536      -0.709       1.362\n",
       "Lead Source_Referral Sites                              -0.2722      0.346     -0.787      0.431      -0.950       0.406\n",
       "Lead Source_Welingak Website                             3.5806      1.117      3.207      0.001       1.392       5.769\n",
       "What is your current occupation_Housewife               22.3191   1.66e+04      0.001      0.999   -3.26e+04    3.26e+04\n",
       "What is your current occupation_Other                    0.3335      1.425      0.234      0.815      -2.459       3.125\n",
       "What is your current occupation_Student                  0.4243      1.262      0.336      0.737      -2.050       2.898\n",
       "What is your current occupation_Unemployed               0.3026      1.243      0.243      0.808      -2.134       2.740\n",
       "What is your current occupation_Working Professional     3.0116      1.256      2.397      0.017       0.549       5.474\n",
       "City_Other Cities                                        0.1050      0.130      0.805      0.421      -0.151       0.361\n",
       "City_Other Cities of Maharashtra                         0.1894      0.160      1.181      0.237      -0.125       0.503\n",
       "City_Other Metro Cities                                  0.1524      0.176      0.865      0.387      -0.193       0.498\n",
       "City_Thane & Outskirts                                   0.1108      0.129      0.860      0.390      -0.142       0.363\n",
       "City_Tier II Cities                                      0.2129      0.405      0.526      0.599      -0.581       1.007\n",
       "Specialization_Business Administration                  -0.0929      0.245     -0.379      0.704      -0.573       0.387\n",
       "Specialization_E-COMMERCE                               -0.0321      0.360     -0.089      0.929      -0.738       0.674\n",
       "Specialization_Finance Management                       -0.2154      0.210     -1.026      0.305      -0.627       0.196\n",
       "Specialization_Healthcare Management                     0.0136      0.326      0.042      0.967      -0.625       0.652\n",
       "Specialization_Human Resource Management                -0.1886      0.214     -0.883      0.377      -0.607       0.230\n",
       "Specialization_IT Projects Management                    0.0075      0.248      0.030      0.976      -0.478       0.493\n",
       "Specialization_International Business                   -0.0624      0.293     -0.213      0.831      -0.636       0.511\n",
       "Specialization_Marketing Management                      0.0064      0.212      0.030      0.976      -0.410       0.423\n",
       "Specialization_Media and Advertising                    -0.3314      0.297     -1.115      0.265      -0.914       0.251\n",
       "Specialization_Operations Management                    -0.1153      0.232     -0.498      0.619      -0.569       0.339\n",
       "Specialization_Others                                   -1.1511      0.208     -5.545      0.000      -1.558      -0.744\n",
       "Specialization_Rural and Agribusiness                   -0.1239      0.417     -0.297      0.766      -0.941       0.693\n",
       "Specialization_Supply Chain Management                  -0.1708      0.248     -0.688      0.492      -0.658       0.316\n",
       "Specialization_Travel and Tourism                       -0.0552      0.293     -0.188      0.851      -0.630       0.519\n",
       "========================================================================================================================\n",
       "\"\"\""
      ]
     },
     "execution_count": 82,
     "metadata": {},
     "output_type": "execute_result"
    }
   ],
   "source": [
    "# Logistic regression model\n",
    "logm1 = sm.GLM(Y_train,(sm.add_constant(X_train.astype(float))), family = sm.families.Binomial())\n",
    "logm1.fit().summary()"
   ]
  },
  {
   "cell_type": "markdown",
   "metadata": {},
   "source": [
    "#### 5.2 Feature Selection Using RFE"
   ]
  },
  {
   "cell_type": "code",
   "execution_count": 83,
   "metadata": {},
   "outputs": [],
   "source": [
    "# initialising logistic regression model\n",
    "logreg = LogisticRegression()"
   ]
  },
  {
   "cell_type": "code",
   "execution_count": 84,
   "metadata": {},
   "outputs": [],
   "source": [
    "# running RFE with 15 variables as output\n",
    "rfe = RFE(logreg, 15)            \n",
    "rfe = rfe.fit(X_train, Y_train)"
   ]
  },
  {
   "cell_type": "code",
   "execution_count": 85,
   "metadata": {},
   "outputs": [
    {
     "data": {
      "text/plain": [
       "array([ True, False,  True, False,  True,  True, False, False, False,\n",
       "        True,  True,  True, False,  True, False,  True,  True,  True,\n",
       "        True,  True,  True, False, False, False, False, False, False,\n",
       "       False, False, False, False, False, False, False, False, False,\n",
       "        True, False, False, False])"
      ]
     },
     "execution_count": 85,
     "metadata": {},
     "output_type": "execute_result"
    }
   ],
   "source": [
    "# Getting the True/False depending on RFE support\n",
    "rfe.support_"
   ]
  },
  {
   "cell_type": "code",
   "execution_count": 86,
   "metadata": {},
   "outputs": [
    {
     "data": {
      "text/plain": [
       "[('Do Not Email', True, 1),\n",
       " ('TotalVisits', False, 11),\n",
       " ('Total Time Spent on Website', True, 1),\n",
       " ('Page Views Per Visit', False, 17),\n",
       " ('Lead Origin_Landing Page Submission', True, 1),\n",
       " ('Lead Origin_Lead Add Form', True, 1),\n",
       " ('Lead Origin_Lead Import', False, 4),\n",
       " ('Lead Origin_Quick Add Form', False, 15),\n",
       " ('Lead Source_Facebook', False, 12),\n",
       " ('Lead Source_Google', True, 1),\n",
       " ('Lead Source_Olark Chat', True, 1),\n",
       " ('Lead Source_Organic Search', True, 1),\n",
       " ('Lead Source_Others', False, 2),\n",
       " ('Lead Source_Reference', True, 1),\n",
       " ('Lead Source_Referral Sites', False, 3),\n",
       " ('Lead Source_Welingak Website', True, 1),\n",
       " ('What is your current occupation_Housewife', True, 1),\n",
       " ('What is your current occupation_Other', True, 1),\n",
       " ('What is your current occupation_Student', True, 1),\n",
       " ('What is your current occupation_Unemployed', True, 1),\n",
       " ('What is your current occupation_Working Professional', True, 1),\n",
       " ('City_Other Cities', False, 16),\n",
       " ('City_Other Cities of Maharashtra', False, 6),\n",
       " ('City_Other Metro Cities', False, 13),\n",
       " ('City_Thane & Outskirts', False, 14),\n",
       " ('City_Tier II Cities', False, 10),\n",
       " ('Specialization_Business Administration', False, 23),\n",
       " ('Specialization_E-COMMERCE', False, 24),\n",
       " ('Specialization_Finance Management', False, 7),\n",
       " ('Specialization_Healthcare Management', False, 18),\n",
       " ('Specialization_Human Resource Management', False, 8),\n",
       " ('Specialization_IT Projects Management', False, 20),\n",
       " ('Specialization_International Business', False, 25),\n",
       " ('Specialization_Marketing Management', False, 19),\n",
       " ('Specialization_Media and Advertising', False, 5),\n",
       " ('Specialization_Operations Management', False, 22),\n",
       " ('Specialization_Others', True, 1),\n",
       " ('Specialization_Rural and Agribusiness', False, 21),\n",
       " ('Specialization_Supply Chain Management', False, 9),\n",
       " ('Specialization_Travel and Tourism', False, 26)]"
      ]
     },
     "execution_count": 86,
     "metadata": {},
     "output_type": "execute_result"
    }
   ],
   "source": [
    "# Getting the columns with rfe support and ranking\n",
    "list(zip(X_train.columns, rfe.support_, rfe.ranking_))"
   ]
  },
  {
   "cell_type": "code",
   "execution_count": 87,
   "metadata": {},
   "outputs": [
    {
     "data": {
      "text/plain": [
       "Index(['Do Not Email', 'Total Time Spent on Website',\n",
       "       'Lead Origin_Landing Page Submission', 'Lead Origin_Lead Add Form',\n",
       "       'Lead Source_Google', 'Lead Source_Olark Chat',\n",
       "       'Lead Source_Organic Search', 'Lead Source_Reference',\n",
       "       'Lead Source_Welingak Website',\n",
       "       'What is your current occupation_Housewife',\n",
       "       'What is your current occupation_Other',\n",
       "       'What is your current occupation_Student',\n",
       "       'What is your current occupation_Unemployed',\n",
       "       'What is your current occupation_Working Professional',\n",
       "       'Specialization_Others'],\n",
       "      dtype='object')"
      ]
     },
     "execution_count": 87,
     "metadata": {},
     "output_type": "execute_result"
    }
   ],
   "source": [
    "# Getting the list of columns with RFE support\n",
    "col = X_train.columns[rfe.support_]\n",
    "col"
   ]
  },
  {
   "cell_type": "markdown",
   "metadata": {},
   "source": [
    "#### 5.3 Rebuilding the Model with 15 features -  Model 2"
   ]
  },
  {
   "cell_type": "code",
   "execution_count": 88,
   "metadata": {},
   "outputs": [
    {
     "data": {
      "text/html": [
       "<table class=\"simpletable\">\n",
       "<caption>Generalized Linear Model Regression Results</caption>\n",
       "<tr>\n",
       "  <th>Dep. Variable:</th>       <td>Converted</td>    <th>  No. Observations:  </th>  <td>  6075</td> \n",
       "</tr>\n",
       "<tr>\n",
       "  <th>Model:</th>                  <td>GLM</td>       <th>  Df Residuals:      </th>  <td>  6059</td> \n",
       "</tr>\n",
       "<tr>\n",
       "  <th>Model Family:</th>        <td>Binomial</td>     <th>  Df Model:          </th>  <td>    15</td> \n",
       "</tr>\n",
       "<tr>\n",
       "  <th>Link Function:</th>         <td>logit</td>      <th>  Scale:             </th> <td>  1.0000</td>\n",
       "</tr>\n",
       "<tr>\n",
       "  <th>Method:</th>                <td>IRLS</td>       <th>  Log-Likelihood:    </th> <td> -2772.4</td>\n",
       "</tr>\n",
       "<tr>\n",
       "  <th>Date:</th>            <td>Mon, 17 May 2021</td> <th>  Deviance:          </th> <td>  5544.9</td>\n",
       "</tr>\n",
       "<tr>\n",
       "  <th>Time:</th>                <td>20:43:57</td>     <th>  Pearson chi2:      </th> <td>7.31e+03</td>\n",
       "</tr>\n",
       "<tr>\n",
       "  <th>No. Iterations:</th>         <td>21</td>        <th>                     </th>     <td> </td>   \n",
       "</tr>\n",
       "<tr>\n",
       "  <th>Covariance Type:</th>     <td>nonrobust</td>    <th>                     </th>     <td> </td>   \n",
       "</tr>\n",
       "</table>\n",
       "<table class=\"simpletable\">\n",
       "<tr>\n",
       "                            <td></td>                              <th>coef</th>     <th>std err</th>      <th>z</th>      <th>P>|z|</th>  <th>[0.025</th>    <th>0.975]</th>  \n",
       "</tr>\n",
       "<tr>\n",
       "  <th>const</th>                                                <td>   -0.7545</td> <td>    1.265</td> <td>   -0.597</td> <td> 0.551</td> <td>   -3.233</td> <td>    1.724</td>\n",
       "</tr>\n",
       "<tr>\n",
       "  <th>Do Not Email</th>                                         <td>   -1.3011</td> <td>    0.168</td> <td>   -7.757</td> <td> 0.000</td> <td>   -1.630</td> <td>   -0.972</td>\n",
       "</tr>\n",
       "<tr>\n",
       "  <th>Total Time Spent on Website</th>                          <td>    1.0580</td> <td>    0.039</td> <td>   27.226</td> <td> 0.000</td> <td>    0.982</td> <td>    1.134</td>\n",
       "</tr>\n",
       "<tr>\n",
       "  <th>Lead Origin_Landing Page Submission</th>                  <td>   -0.6901</td> <td>    0.119</td> <td>   -5.803</td> <td> 0.000</td> <td>   -0.923</td> <td>   -0.457</td>\n",
       "</tr>\n",
       "<tr>\n",
       "  <th>Lead Origin_Lead Add Form</th>                            <td>    3.5535</td> <td>    0.480</td> <td>    7.396</td> <td> 0.000</td> <td>    2.612</td> <td>    4.495</td>\n",
       "</tr>\n",
       "<tr>\n",
       "  <th>Lead Source_Google</th>                                   <td>    0.3175</td> <td>    0.088</td> <td>    3.591</td> <td> 0.000</td> <td>    0.144</td> <td>    0.491</td>\n",
       "</tr>\n",
       "<tr>\n",
       "  <th>Lead Source_Olark Chat</th>                               <td>    0.9711</td> <td>    0.136</td> <td>    7.165</td> <td> 0.000</td> <td>    0.705</td> <td>    1.237</td>\n",
       "</tr>\n",
       "<tr>\n",
       "  <th>Lead Source_Organic Search</th>                           <td>    0.3631</td> <td>    0.120</td> <td>    3.018</td> <td> 0.003</td> <td>    0.127</td> <td>    0.599</td>\n",
       "</tr>\n",
       "<tr>\n",
       "  <th>Lead Source_Reference</th>                                <td>    0.3636</td> <td>    0.522</td> <td>    0.697</td> <td> 0.486</td> <td>   -0.659</td> <td>    1.386</td>\n",
       "</tr>\n",
       "<tr>\n",
       "  <th>Lead Source_Welingak Website</th>                         <td>    3.6210</td> <td>    1.114</td> <td>    3.251</td> <td> 0.001</td> <td>    1.438</td> <td>    5.804</td>\n",
       "</tr>\n",
       "<tr>\n",
       "  <th>What is your current occupation_Housewife</th>            <td>   22.1934</td> <td> 1.65e+04</td> <td>    0.001</td> <td> 0.999</td> <td>-3.23e+04</td> <td> 3.24e+04</td>\n",
       "</tr>\n",
       "<tr>\n",
       "  <th>What is your current occupation_Other</th>                <td>    0.3979</td> <td>    1.435</td> <td>    0.277</td> <td> 0.782</td> <td>   -2.415</td> <td>    3.210</td>\n",
       "</tr>\n",
       "<tr>\n",
       "  <th>What is your current occupation_Student</th>              <td>    0.3936</td> <td>    1.278</td> <td>    0.308</td> <td> 0.758</td> <td>   -2.112</td> <td>    2.899</td>\n",
       "</tr>\n",
       "<tr>\n",
       "  <th>What is your current occupation_Unemployed</th>           <td>    0.2744</td> <td>    1.260</td> <td>    0.218</td> <td> 0.828</td> <td>   -2.195</td> <td>    2.744</td>\n",
       "</tr>\n",
       "<tr>\n",
       "  <th>What is your current occupation_Working Professional</th> <td>    2.9787</td> <td>    1.273</td> <td>    2.340</td> <td> 0.019</td> <td>    0.484</td> <td>    5.474</td>\n",
       "</tr>\n",
       "<tr>\n",
       "  <th>Specialization_Others</th>                                <td>   -1.1046</td> <td>    0.105</td> <td>  -10.476</td> <td> 0.000</td> <td>   -1.311</td> <td>   -0.898</td>\n",
       "</tr>\n",
       "</table>"
      ],
      "text/plain": [
       "<class 'statsmodels.iolib.summary.Summary'>\n",
       "\"\"\"\n",
       "                 Generalized Linear Model Regression Results                  \n",
       "==============================================================================\n",
       "Dep. Variable:              Converted   No. Observations:                 6075\n",
       "Model:                            GLM   Df Residuals:                     6059\n",
       "Model Family:                Binomial   Df Model:                           15\n",
       "Link Function:                  logit   Scale:                          1.0000\n",
       "Method:                          IRLS   Log-Likelihood:                -2772.4\n",
       "Date:                Mon, 17 May 2021   Deviance:                       5544.9\n",
       "Time:                        20:43:57   Pearson chi2:                 7.31e+03\n",
       "No. Iterations:                    21                                         \n",
       "Covariance Type:            nonrobust                                         \n",
       "========================================================================================================================\n",
       "                                                           coef    std err          z      P>|z|      [0.025      0.975]\n",
       "------------------------------------------------------------------------------------------------------------------------\n",
       "const                                                   -0.7545      1.265     -0.597      0.551      -3.233       1.724\n",
       "Do Not Email                                            -1.3011      0.168     -7.757      0.000      -1.630      -0.972\n",
       "Total Time Spent on Website                              1.0580      0.039     27.226      0.000       0.982       1.134\n",
       "Lead Origin_Landing Page Submission                     -0.6901      0.119     -5.803      0.000      -0.923      -0.457\n",
       "Lead Origin_Lead Add Form                                3.5535      0.480      7.396      0.000       2.612       4.495\n",
       "Lead Source_Google                                       0.3175      0.088      3.591      0.000       0.144       0.491\n",
       "Lead Source_Olark Chat                                   0.9711      0.136      7.165      0.000       0.705       1.237\n",
       "Lead Source_Organic Search                               0.3631      0.120      3.018      0.003       0.127       0.599\n",
       "Lead Source_Reference                                    0.3636      0.522      0.697      0.486      -0.659       1.386\n",
       "Lead Source_Welingak Website                             3.6210      1.114      3.251      0.001       1.438       5.804\n",
       "What is your current occupation_Housewife               22.1934   1.65e+04      0.001      0.999   -3.23e+04    3.24e+04\n",
       "What is your current occupation_Other                    0.3979      1.435      0.277      0.782      -2.415       3.210\n",
       "What is your current occupation_Student                  0.3936      1.278      0.308      0.758      -2.112       2.899\n",
       "What is your current occupation_Unemployed               0.2744      1.260      0.218      0.828      -2.195       2.744\n",
       "What is your current occupation_Working Professional     2.9787      1.273      2.340      0.019       0.484       5.474\n",
       "Specialization_Others                                   -1.1046      0.105    -10.476      0.000      -1.311      -0.898\n",
       "========================================================================================================================\n",
       "\"\"\""
      ]
     },
     "execution_count": 88,
     "metadata": {},
     "output_type": "execute_result"
    }
   ],
   "source": [
    "# Rebuilding Logisitc Regression model\n",
    "X_train_sm = sm.add_constant(X_train[col])\n",
    "logm2 = sm.GLM(Y_train,X_train_sm, family = sm.families.Binomial())\n",
    "res = logm2.fit()\n",
    "res.summary()"
   ]
  },
  {
   "cell_type": "code",
   "execution_count": 89,
   "metadata": {},
   "outputs": [
    {
     "data": {
      "text/html": [
       "<div>\n",
       "<style scoped>\n",
       "    .dataframe tbody tr th:only-of-type {\n",
       "        vertical-align: middle;\n",
       "    }\n",
       "\n",
       "    .dataframe tbody tr th {\n",
       "        vertical-align: top;\n",
       "    }\n",
       "\n",
       "    .dataframe thead th {\n",
       "        text-align: right;\n",
       "    }\n",
       "</style>\n",
       "<table border=\"1\" class=\"dataframe\">\n",
       "  <thead>\n",
       "    <tr style=\"text-align: right;\">\n",
       "      <th></th>\n",
       "      <th>Features</th>\n",
       "      <th>VIF</th>\n",
       "    </tr>\n",
       "  </thead>\n",
       "  <tbody>\n",
       "    <tr>\n",
       "      <th>3</th>\n",
       "      <td>Lead Origin_Lead Add Form</td>\n",
       "      <td>16.88</td>\n",
       "    </tr>\n",
       "    <tr>\n",
       "      <th>12</th>\n",
       "      <td>What is your current occupation_Unemployed</td>\n",
       "      <td>14.53</td>\n",
       "    </tr>\n",
       "    <tr>\n",
       "      <th>7</th>\n",
       "      <td>Lead Source_Reference</td>\n",
       "      <td>13.42</td>\n",
       "    </tr>\n",
       "    <tr>\n",
       "      <th>2</th>\n",
       "      <td>Lead Origin_Landing Page Submission</td>\n",
       "      <td>6.36</td>\n",
       "    </tr>\n",
       "    <tr>\n",
       "      <th>8</th>\n",
       "      <td>Lead Source_Welingak Website</td>\n",
       "      <td>4.57</td>\n",
       "    </tr>\n",
       "    <tr>\n",
       "      <th>14</th>\n",
       "      <td>Specialization_Others</td>\n",
       "      <td>3.92</td>\n",
       "    </tr>\n",
       "    <tr>\n",
       "      <th>5</th>\n",
       "      <td>Lead Source_Olark Chat</td>\n",
       "      <td>3.24</td>\n",
       "    </tr>\n",
       "    <tr>\n",
       "      <th>4</th>\n",
       "      <td>Lead Source_Google</td>\n",
       "      <td>2.35</td>\n",
       "    </tr>\n",
       "    <tr>\n",
       "      <th>13</th>\n",
       "      <td>What is your current occupation_Working Profes...</td>\n",
       "      <td>2.08</td>\n",
       "    </tr>\n",
       "    <tr>\n",
       "      <th>6</th>\n",
       "      <td>Lead Source_Organic Search</td>\n",
       "      <td>1.46</td>\n",
       "    </tr>\n",
       "    <tr>\n",
       "      <th>11</th>\n",
       "      <td>What is your current occupation_Student</td>\n",
       "      <td>1.36</td>\n",
       "    </tr>\n",
       "    <tr>\n",
       "      <th>1</th>\n",
       "      <td>Total Time Spent on Website</td>\n",
       "      <td>1.27</td>\n",
       "    </tr>\n",
       "    <tr>\n",
       "      <th>0</th>\n",
       "      <td>Do Not Email</td>\n",
       "      <td>1.12</td>\n",
       "    </tr>\n",
       "    <tr>\n",
       "      <th>9</th>\n",
       "      <td>What is your current occupation_Housewife</td>\n",
       "      <td>1.02</td>\n",
       "    </tr>\n",
       "    <tr>\n",
       "      <th>10</th>\n",
       "      <td>What is your current occupation_Other</td>\n",
       "      <td>1.02</td>\n",
       "    </tr>\n",
       "  </tbody>\n",
       "</table>\n",
       "</div>"
      ],
      "text/plain": [
       "                                             Features    VIF\n",
       "3                           Lead Origin_Lead Add Form  16.88\n",
       "12         What is your current occupation_Unemployed  14.53\n",
       "7                               Lead Source_Reference  13.42\n",
       "2                 Lead Origin_Landing Page Submission   6.36\n",
       "8                        Lead Source_Welingak Website   4.57\n",
       "14                              Specialization_Others   3.92\n",
       "5                              Lead Source_Olark Chat   3.24\n",
       "4                                  Lead Source_Google   2.35\n",
       "13  What is your current occupation_Working Profes...   2.08\n",
       "6                          Lead Source_Organic Search   1.46\n",
       "11            What is your current occupation_Student   1.36\n",
       "1                         Total Time Spent on Website   1.27\n",
       "0                                        Do Not Email   1.12\n",
       "9           What is your current occupation_Housewife   1.02\n",
       "10              What is your current occupation_Other   1.02"
      ]
     },
     "execution_count": 89,
     "metadata": {},
     "output_type": "execute_result"
    }
   ],
   "source": [
    "# Creating a dataframe that will contain the names of all the feature variables and their respective VIFs\n",
    "vif = pd.DataFrame()\n",
    "vif['Features'] = X_train[col].columns\n",
    "vif['VIF'] = [variance_inflation_factor(X_train[col].values, i) for i in range(X_train[col].shape[1])]\n",
    "vif['VIF'] = round(vif['VIF'], 2)\n",
    "vif = vif.sort_values(by = \"VIF\", ascending = False)\n",
    "vif"
   ]
  },
  {
   "cell_type": "markdown",
   "metadata": {},
   "source": [
    "**Removing column 'Lead Origin_Lead Add Form' as it has high VPF and hence it's insignificant.**"
   ]
  },
  {
   "cell_type": "code",
   "execution_count": 90,
   "metadata": {},
   "outputs": [],
   "source": [
    "# Dropping column 'Lead Origin_Lead Add Form'\n",
    "col = col.drop('Lead Origin_Lead Add Form',1)"
   ]
  },
  {
   "cell_type": "markdown",
   "metadata": {},
   "source": [
    "#### 5.4 Rebuilding the Model with 14 features -  Model 3"
   ]
  },
  {
   "cell_type": "code",
   "execution_count": 91,
   "metadata": {},
   "outputs": [
    {
     "data": {
      "text/html": [
       "<table class=\"simpletable\">\n",
       "<caption>Generalized Linear Model Regression Results</caption>\n",
       "<tr>\n",
       "  <th>Dep. Variable:</th>       <td>Converted</td>    <th>  No. Observations:  </th>  <td>  6075</td> \n",
       "</tr>\n",
       "<tr>\n",
       "  <th>Model:</th>                  <td>GLM</td>       <th>  Df Residuals:      </th>  <td>  6060</td> \n",
       "</tr>\n",
       "<tr>\n",
       "  <th>Model Family:</th>        <td>Binomial</td>     <th>  Df Model:          </th>  <td>    14</td> \n",
       "</tr>\n",
       "<tr>\n",
       "  <th>Link Function:</th>         <td>logit</td>      <th>  Scale:             </th> <td>  1.0000</td>\n",
       "</tr>\n",
       "<tr>\n",
       "  <th>Method:</th>                <td>IRLS</td>       <th>  Log-Likelihood:    </th> <td> -2804.9</td>\n",
       "</tr>\n",
       "<tr>\n",
       "  <th>Date:</th>            <td>Mon, 17 May 2021</td> <th>  Deviance:          </th> <td>  5609.8</td>\n",
       "</tr>\n",
       "<tr>\n",
       "  <th>Time:</th>                <td>20:44:00</td>     <th>  Pearson chi2:      </th> <td>7.33e+03</td>\n",
       "</tr>\n",
       "<tr>\n",
       "  <th>No. Iterations:</th>         <td>21</td>        <th>                     </th>     <td> </td>   \n",
       "</tr>\n",
       "<tr>\n",
       "  <th>Covariance Type:</th>     <td>nonrobust</td>    <th>                     </th>     <td> </td>   \n",
       "</tr>\n",
       "</table>\n",
       "<table class=\"simpletable\">\n",
       "<tr>\n",
       "                            <td></td>                              <th>coef</th>     <th>std err</th>      <th>z</th>      <th>P>|z|</th>  <th>[0.025</th>    <th>0.975]</th>  \n",
       "</tr>\n",
       "<tr>\n",
       "  <th>const</th>                                                <td>   -0.6579</td> <td>    1.264</td> <td>   -0.521</td> <td> 0.603</td> <td>   -3.135</td> <td>    1.819</td>\n",
       "</tr>\n",
       "<tr>\n",
       "  <th>Do Not Email</th>                                         <td>   -1.1654</td> <td>    0.163</td> <td>   -7.171</td> <td> 0.000</td> <td>   -1.484</td> <td>   -0.847</td>\n",
       "</tr>\n",
       "<tr>\n",
       "  <th>Total Time Spent on Website</th>                          <td>    1.0304</td> <td>    0.038</td> <td>   26.907</td> <td> 0.000</td> <td>    0.955</td> <td>    1.105</td>\n",
       "</tr>\n",
       "<tr>\n",
       "  <th>Lead Origin_Landing Page Submission</th>                  <td>   -0.7779</td> <td>    0.118</td> <td>   -6.618</td> <td> 0.000</td> <td>   -1.008</td> <td>   -0.548</td>\n",
       "</tr>\n",
       "<tr>\n",
       "  <th>Lead Source_Google</th>                                   <td>    0.3301</td> <td>    0.088</td> <td>    3.769</td> <td> 0.000</td> <td>    0.158</td> <td>    0.502</td>\n",
       "</tr>\n",
       "<tr>\n",
       "  <th>Lead Source_Olark Chat</th>                               <td>    0.8500</td> <td>    0.133</td> <td>    6.390</td> <td> 0.000</td> <td>    0.589</td> <td>    1.111</td>\n",
       "</tr>\n",
       "<tr>\n",
       "  <th>Lead Source_Organic Search</th>                           <td>    0.3191</td> <td>    0.119</td> <td>    2.675</td> <td> 0.007</td> <td>    0.085</td> <td>    0.553</td>\n",
       "</tr>\n",
       "<tr>\n",
       "  <th>Lead Source_Reference</th>                                <td>    3.7883</td> <td>    0.236</td> <td>   16.041</td> <td> 0.000</td> <td>    3.325</td> <td>    4.251</td>\n",
       "</tr>\n",
       "<tr>\n",
       "  <th>Lead Source_Welingak Website</th>                         <td>    7.0180</td> <td>    1.014</td> <td>    6.921</td> <td> 0.000</td> <td>    5.030</td> <td>    9.006</td>\n",
       "</tr>\n",
       "<tr>\n",
       "  <th>What is your current occupation_Housewife</th>            <td>   22.1943</td> <td> 1.65e+04</td> <td>    0.001</td> <td> 0.999</td> <td>-3.24e+04</td> <td> 3.24e+04</td>\n",
       "</tr>\n",
       "<tr>\n",
       "  <th>What is your current occupation_Other</th>                <td>    0.3691</td> <td>    1.436</td> <td>    0.257</td> <td> 0.797</td> <td>   -2.445</td> <td>    3.183</td>\n",
       "</tr>\n",
       "<tr>\n",
       "  <th>What is your current occupation_Student</th>              <td>    0.3771</td> <td>    1.278</td> <td>    0.295</td> <td> 0.768</td> <td>   -2.127</td> <td>    2.881</td>\n",
       "</tr>\n",
       "<tr>\n",
       "  <th>What is your current occupation_Unemployed</th>           <td>    0.2719</td> <td>    1.260</td> <td>    0.216</td> <td> 0.829</td> <td>   -2.197</td> <td>    2.741</td>\n",
       "</tr>\n",
       "<tr>\n",
       "  <th>What is your current occupation_Working Professional</th> <td>    2.9659</td> <td>    1.272</td> <td>    2.331</td> <td> 0.020</td> <td>    0.472</td> <td>    5.460</td>\n",
       "</tr>\n",
       "<tr>\n",
       "  <th>Specialization_Others</th>                                <td>   -1.0989</td> <td>    0.105</td> <td>  -10.498</td> <td> 0.000</td> <td>   -1.304</td> <td>   -0.894</td>\n",
       "</tr>\n",
       "</table>"
      ],
      "text/plain": [
       "<class 'statsmodels.iolib.summary.Summary'>\n",
       "\"\"\"\n",
       "                 Generalized Linear Model Regression Results                  \n",
       "==============================================================================\n",
       "Dep. Variable:              Converted   No. Observations:                 6075\n",
       "Model:                            GLM   Df Residuals:                     6060\n",
       "Model Family:                Binomial   Df Model:                           14\n",
       "Link Function:                  logit   Scale:                          1.0000\n",
       "Method:                          IRLS   Log-Likelihood:                -2804.9\n",
       "Date:                Mon, 17 May 2021   Deviance:                       5609.8\n",
       "Time:                        20:44:00   Pearson chi2:                 7.33e+03\n",
       "No. Iterations:                    21                                         \n",
       "Covariance Type:            nonrobust                                         \n",
       "========================================================================================================================\n",
       "                                                           coef    std err          z      P>|z|      [0.025      0.975]\n",
       "------------------------------------------------------------------------------------------------------------------------\n",
       "const                                                   -0.6579      1.264     -0.521      0.603      -3.135       1.819\n",
       "Do Not Email                                            -1.1654      0.163     -7.171      0.000      -1.484      -0.847\n",
       "Total Time Spent on Website                              1.0304      0.038     26.907      0.000       0.955       1.105\n",
       "Lead Origin_Landing Page Submission                     -0.7779      0.118     -6.618      0.000      -1.008      -0.548\n",
       "Lead Source_Google                                       0.3301      0.088      3.769      0.000       0.158       0.502\n",
       "Lead Source_Olark Chat                                   0.8500      0.133      6.390      0.000       0.589       1.111\n",
       "Lead Source_Organic Search                               0.3191      0.119      2.675      0.007       0.085       0.553\n",
       "Lead Source_Reference                                    3.7883      0.236     16.041      0.000       3.325       4.251\n",
       "Lead Source_Welingak Website                             7.0180      1.014      6.921      0.000       5.030       9.006\n",
       "What is your current occupation_Housewife               22.1943   1.65e+04      0.001      0.999   -3.24e+04    3.24e+04\n",
       "What is your current occupation_Other                    0.3691      1.436      0.257      0.797      -2.445       3.183\n",
       "What is your current occupation_Student                  0.3771      1.278      0.295      0.768      -2.127       2.881\n",
       "What is your current occupation_Unemployed               0.2719      1.260      0.216      0.829      -2.197       2.741\n",
       "What is your current occupation_Working Professional     2.9659      1.272      2.331      0.020       0.472       5.460\n",
       "Specialization_Others                                   -1.0989      0.105    -10.498      0.000      -1.304      -0.894\n",
       "========================================================================================================================\n",
       "\"\"\""
      ]
     },
     "execution_count": 91,
     "metadata": {},
     "output_type": "execute_result"
    }
   ],
   "source": [
    "# Rebuilding Logistic Regression model\n",
    "X_train_sm = sm.add_constant(X_train[col])\n",
    "logm3 = sm.GLM(Y_train,X_train_sm, family = sm.families.Binomial())\n",
    "res = logm3.fit()\n",
    "res.summary()"
   ]
  },
  {
   "cell_type": "code",
   "execution_count": 92,
   "metadata": {},
   "outputs": [
    {
     "data": {
      "text/html": [
       "<div>\n",
       "<style scoped>\n",
       "    .dataframe tbody tr th:only-of-type {\n",
       "        vertical-align: middle;\n",
       "    }\n",
       "\n",
       "    .dataframe tbody tr th {\n",
       "        vertical-align: top;\n",
       "    }\n",
       "\n",
       "    .dataframe thead th {\n",
       "        text-align: right;\n",
       "    }\n",
       "</style>\n",
       "<table border=\"1\" class=\"dataframe\">\n",
       "  <thead>\n",
       "    <tr style=\"text-align: right;\">\n",
       "      <th></th>\n",
       "      <th>Features</th>\n",
       "      <th>VIF</th>\n",
       "    </tr>\n",
       "  </thead>\n",
       "  <tbody>\n",
       "    <tr>\n",
       "      <th>11</th>\n",
       "      <td>What is your current occupation_Unemployed</td>\n",
       "      <td>14.43</td>\n",
       "    </tr>\n",
       "    <tr>\n",
       "      <th>2</th>\n",
       "      <td>Lead Origin_Landing Page Submission</td>\n",
       "      <td>6.30</td>\n",
       "    </tr>\n",
       "    <tr>\n",
       "      <th>13</th>\n",
       "      <td>Specialization_Others</td>\n",
       "      <td>3.92</td>\n",
       "    </tr>\n",
       "    <tr>\n",
       "      <th>4</th>\n",
       "      <td>Lead Source_Olark Chat</td>\n",
       "      <td>3.21</td>\n",
       "    </tr>\n",
       "    <tr>\n",
       "      <th>3</th>\n",
       "      <td>Lead Source_Google</td>\n",
       "      <td>2.35</td>\n",
       "    </tr>\n",
       "    <tr>\n",
       "      <th>12</th>\n",
       "      <td>What is your current occupation_Working Profes...</td>\n",
       "      <td>2.07</td>\n",
       "    </tr>\n",
       "    <tr>\n",
       "      <th>6</th>\n",
       "      <td>Lead Source_Reference</td>\n",
       "      <td>1.80</td>\n",
       "    </tr>\n",
       "    <tr>\n",
       "      <th>5</th>\n",
       "      <td>Lead Source_Organic Search</td>\n",
       "      <td>1.45</td>\n",
       "    </tr>\n",
       "    <tr>\n",
       "      <th>10</th>\n",
       "      <td>What is your current occupation_Student</td>\n",
       "      <td>1.36</td>\n",
       "    </tr>\n",
       "    <tr>\n",
       "      <th>1</th>\n",
       "      <td>Total Time Spent on Website</td>\n",
       "      <td>1.27</td>\n",
       "    </tr>\n",
       "    <tr>\n",
       "      <th>7</th>\n",
       "      <td>Lead Source_Welingak Website</td>\n",
       "      <td>1.18</td>\n",
       "    </tr>\n",
       "    <tr>\n",
       "      <th>0</th>\n",
       "      <td>Do Not Email</td>\n",
       "      <td>1.11</td>\n",
       "    </tr>\n",
       "    <tr>\n",
       "      <th>8</th>\n",
       "      <td>What is your current occupation_Housewife</td>\n",
       "      <td>1.02</td>\n",
       "    </tr>\n",
       "    <tr>\n",
       "      <th>9</th>\n",
       "      <td>What is your current occupation_Other</td>\n",
       "      <td>1.02</td>\n",
       "    </tr>\n",
       "  </tbody>\n",
       "</table>\n",
       "</div>"
      ],
      "text/plain": [
       "                                             Features    VIF\n",
       "11         What is your current occupation_Unemployed  14.43\n",
       "2                 Lead Origin_Landing Page Submission   6.30\n",
       "13                              Specialization_Others   3.92\n",
       "4                              Lead Source_Olark Chat   3.21\n",
       "3                                  Lead Source_Google   2.35\n",
       "12  What is your current occupation_Working Profes...   2.07\n",
       "6                               Lead Source_Reference   1.80\n",
       "5                          Lead Source_Organic Search   1.45\n",
       "10            What is your current occupation_Student   1.36\n",
       "1                         Total Time Spent on Website   1.27\n",
       "7                        Lead Source_Welingak Website   1.18\n",
       "0                                        Do Not Email   1.11\n",
       "8           What is your current occupation_Housewife   1.02\n",
       "9               What is your current occupation_Other   1.02"
      ]
     },
     "execution_count": 92,
     "metadata": {},
     "output_type": "execute_result"
    }
   ],
   "source": [
    "# Create a dataframe that will contain the names of all the feature variables and their respective VIFs\n",
    "vif = pd.DataFrame()\n",
    "vif['Features'] = X_train[col].columns\n",
    "vif['VIF'] = [variance_inflation_factor(X_train[col].values, i) for i in range(X_train[col].shape[1])]\n",
    "vif['VIF'] = round(vif['VIF'], 2)\n",
    "vif = vif.sort_values(by = \"VIF\", ascending = False)\n",
    "vif"
   ]
  },
  {
   "cell_type": "markdown",
   "metadata": {},
   "source": [
    "**Removing column 'What is your current occupation_Housewife' as it has a high p value,so it's insignificant.**"
   ]
  },
  {
   "cell_type": "code",
   "execution_count": 93,
   "metadata": {},
   "outputs": [],
   "source": [
    "# Dropping column 'What is your current occupation_Housewife'\n",
    "col = col.drop('What is your current occupation_Housewife',1)"
   ]
  },
  {
   "cell_type": "markdown",
   "metadata": {},
   "source": [
    "#### 5.4 Rebuilding the Model with 13 features -  Model 4"
   ]
  },
  {
   "cell_type": "code",
   "execution_count": 94,
   "metadata": {},
   "outputs": [
    {
     "data": {
      "text/html": [
       "<table class=\"simpletable\">\n",
       "<caption>Generalized Linear Model Regression Results</caption>\n",
       "<tr>\n",
       "  <th>Dep. Variable:</th>       <td>Converted</td>    <th>  No. Observations:  </th>  <td>  6075</td> \n",
       "</tr>\n",
       "<tr>\n",
       "  <th>Model:</th>                  <td>GLM</td>       <th>  Df Residuals:      </th>  <td>  6061</td> \n",
       "</tr>\n",
       "<tr>\n",
       "  <th>Model Family:</th>        <td>Binomial</td>     <th>  Df Model:          </th>  <td>    13</td> \n",
       "</tr>\n",
       "<tr>\n",
       "  <th>Link Function:</th>         <td>logit</td>      <th>  Scale:             </th> <td>  1.0000</td>\n",
       "</tr>\n",
       "<tr>\n",
       "  <th>Method:</th>                <td>IRLS</td>       <th>  Log-Likelihood:    </th> <td> -2806.7</td>\n",
       "</tr>\n",
       "<tr>\n",
       "  <th>Date:</th>            <td>Mon, 17 May 2021</td> <th>  Deviance:          </th> <td>  5613.4</td>\n",
       "</tr>\n",
       "<tr>\n",
       "  <th>Time:</th>                <td>20:44:03</td>     <th>  Pearson chi2:      </th> <td>7.33e+03</td>\n",
       "</tr>\n",
       "<tr>\n",
       "  <th>No. Iterations:</th>          <td>7</td>        <th>                     </th>     <td> </td>   \n",
       "</tr>\n",
       "<tr>\n",
       "  <th>Covariance Type:</th>     <td>nonrobust</td>    <th>                     </th>     <td> </td>   \n",
       "</tr>\n",
       "</table>\n",
       "<table class=\"simpletable\">\n",
       "<tr>\n",
       "                            <td></td>                              <th>coef</th>     <th>std err</th>      <th>z</th>      <th>P>|z|</th>  <th>[0.025</th>    <th>0.975]</th>  \n",
       "</tr>\n",
       "<tr>\n",
       "  <th>const</th>                                                <td>    0.8556</td> <td>    0.912</td> <td>    0.938</td> <td> 0.348</td> <td>   -0.933</td> <td>    2.644</td>\n",
       "</tr>\n",
       "<tr>\n",
       "  <th>Do Not Email</th>                                         <td>   -1.1654</td> <td>    0.162</td> <td>   -7.172</td> <td> 0.000</td> <td>   -1.484</td> <td>   -0.847</td>\n",
       "</tr>\n",
       "<tr>\n",
       "  <th>Total Time Spent on Website</th>                          <td>    1.0300</td> <td>    0.038</td> <td>   26.898</td> <td> 0.000</td> <td>    0.955</td> <td>    1.105</td>\n",
       "</tr>\n",
       "<tr>\n",
       "  <th>Lead Origin_Landing Page Submission</th>                  <td>   -0.7749</td> <td>    0.117</td> <td>   -6.597</td> <td> 0.000</td> <td>   -1.005</td> <td>   -0.545</td>\n",
       "</tr>\n",
       "<tr>\n",
       "  <th>Lead Source_Google</th>                                   <td>    0.3325</td> <td>    0.087</td> <td>    3.800</td> <td> 0.000</td> <td>    0.161</td> <td>    0.504</td>\n",
       "</tr>\n",
       "<tr>\n",
       "  <th>Lead Source_Olark Chat</th>                               <td>    0.8501</td> <td>    0.133</td> <td>    6.391</td> <td> 0.000</td> <td>    0.589</td> <td>    1.111</td>\n",
       "</tr>\n",
       "<tr>\n",
       "  <th>Lead Source_Organic Search</th>                           <td>    0.3176</td> <td>    0.119</td> <td>    2.662</td> <td> 0.008</td> <td>    0.084</td> <td>    0.551</td>\n",
       "</tr>\n",
       "<tr>\n",
       "  <th>Lead Source_Reference</th>                                <td>    3.7893</td> <td>    0.236</td> <td>   16.047</td> <td> 0.000</td> <td>    3.326</td> <td>    4.252</td>\n",
       "</tr>\n",
       "<tr>\n",
       "  <th>Lead Source_Welingak Website</th>                         <td>    7.0201</td> <td>    1.014</td> <td>    6.923</td> <td> 0.000</td> <td>    5.033</td> <td>    9.008</td>\n",
       "</tr>\n",
       "<tr>\n",
       "  <th>What is your current occupation_Other</th>                <td>   -1.1461</td> <td>    1.137</td> <td>   -1.008</td> <td> 0.314</td> <td>   -3.375</td> <td>    1.083</td>\n",
       "</tr>\n",
       "<tr>\n",
       "  <th>What is your current occupation_Student</th>              <td>   -1.1386</td> <td>    0.929</td> <td>   -1.226</td> <td> 0.220</td> <td>   -2.959</td> <td>    0.681</td>\n",
       "</tr>\n",
       "<tr>\n",
       "  <th>What is your current occupation_Unemployed</th>           <td>   -1.2438</td> <td>    0.904</td> <td>   -1.376</td> <td> 0.169</td> <td>   -3.015</td> <td>    0.527</td>\n",
       "</tr>\n",
       "<tr>\n",
       "  <th>What is your current occupation_Working Professional</th> <td>    1.4496</td> <td>    0.921</td> <td>    1.574</td> <td> 0.115</td> <td>   -0.355</td> <td>    3.254</td>\n",
       "</tr>\n",
       "<tr>\n",
       "  <th>Specialization_Others</th>                                <td>   -1.0989</td> <td>    0.105</td> <td>  -10.507</td> <td> 0.000</td> <td>   -1.304</td> <td>   -0.894</td>\n",
       "</tr>\n",
       "</table>"
      ],
      "text/plain": [
       "<class 'statsmodels.iolib.summary.Summary'>\n",
       "\"\"\"\n",
       "                 Generalized Linear Model Regression Results                  \n",
       "==============================================================================\n",
       "Dep. Variable:              Converted   No. Observations:                 6075\n",
       "Model:                            GLM   Df Residuals:                     6061\n",
       "Model Family:                Binomial   Df Model:                           13\n",
       "Link Function:                  logit   Scale:                          1.0000\n",
       "Method:                          IRLS   Log-Likelihood:                -2806.7\n",
       "Date:                Mon, 17 May 2021   Deviance:                       5613.4\n",
       "Time:                        20:44:03   Pearson chi2:                 7.33e+03\n",
       "No. Iterations:                     7                                         \n",
       "Covariance Type:            nonrobust                                         \n",
       "========================================================================================================================\n",
       "                                                           coef    std err          z      P>|z|      [0.025      0.975]\n",
       "------------------------------------------------------------------------------------------------------------------------\n",
       "const                                                    0.8556      0.912      0.938      0.348      -0.933       2.644\n",
       "Do Not Email                                            -1.1654      0.162     -7.172      0.000      -1.484      -0.847\n",
       "Total Time Spent on Website                              1.0300      0.038     26.898      0.000       0.955       1.105\n",
       "Lead Origin_Landing Page Submission                     -0.7749      0.117     -6.597      0.000      -1.005      -0.545\n",
       "Lead Source_Google                                       0.3325      0.087      3.800      0.000       0.161       0.504\n",
       "Lead Source_Olark Chat                                   0.8501      0.133      6.391      0.000       0.589       1.111\n",
       "Lead Source_Organic Search                               0.3176      0.119      2.662      0.008       0.084       0.551\n",
       "Lead Source_Reference                                    3.7893      0.236     16.047      0.000       3.326       4.252\n",
       "Lead Source_Welingak Website                             7.0201      1.014      6.923      0.000       5.033       9.008\n",
       "What is your current occupation_Other                   -1.1461      1.137     -1.008      0.314      -3.375       1.083\n",
       "What is your current occupation_Student                 -1.1386      0.929     -1.226      0.220      -2.959       0.681\n",
       "What is your current occupation_Unemployed              -1.2438      0.904     -1.376      0.169      -3.015       0.527\n",
       "What is your current occupation_Working Professional     1.4496      0.921      1.574      0.115      -0.355       3.254\n",
       "Specialization_Others                                   -1.0989      0.105    -10.507      0.000      -1.304      -0.894\n",
       "========================================================================================================================\n",
       "\"\"\""
      ]
     },
     "execution_count": 94,
     "metadata": {},
     "output_type": "execute_result"
    }
   ],
   "source": [
    "# Rebuilding Logistic Regression model\n",
    "X_train_sm = sm.add_constant(X_train[col])\n",
    "logm4 = sm.GLM(Y_train,X_train_sm, family = sm.families.Binomial())\n",
    "res = logm4.fit()\n",
    "res.summary()"
   ]
  },
  {
   "cell_type": "code",
   "execution_count": 95,
   "metadata": {},
   "outputs": [
    {
     "data": {
      "text/html": [
       "<div>\n",
       "<style scoped>\n",
       "    .dataframe tbody tr th:only-of-type {\n",
       "        vertical-align: middle;\n",
       "    }\n",
       "\n",
       "    .dataframe tbody tr th {\n",
       "        vertical-align: top;\n",
       "    }\n",
       "\n",
       "    .dataframe thead th {\n",
       "        text-align: right;\n",
       "    }\n",
       "</style>\n",
       "<table border=\"1\" class=\"dataframe\">\n",
       "  <thead>\n",
       "    <tr style=\"text-align: right;\">\n",
       "      <th></th>\n",
       "      <th>Features</th>\n",
       "      <th>VIF</th>\n",
       "    </tr>\n",
       "  </thead>\n",
       "  <tbody>\n",
       "    <tr>\n",
       "      <th>10</th>\n",
       "      <td>What is your current occupation_Unemployed</td>\n",
       "      <td>14.25</td>\n",
       "    </tr>\n",
       "    <tr>\n",
       "      <th>2</th>\n",
       "      <td>Lead Origin_Landing Page Submission</td>\n",
       "      <td>6.23</td>\n",
       "    </tr>\n",
       "    <tr>\n",
       "      <th>12</th>\n",
       "      <td>Specialization_Others</td>\n",
       "      <td>3.91</td>\n",
       "    </tr>\n",
       "    <tr>\n",
       "      <th>4</th>\n",
       "      <td>Lead Source_Olark Chat</td>\n",
       "      <td>3.19</td>\n",
       "    </tr>\n",
       "    <tr>\n",
       "      <th>3</th>\n",
       "      <td>Lead Source_Google</td>\n",
       "      <td>2.34</td>\n",
       "    </tr>\n",
       "    <tr>\n",
       "      <th>11</th>\n",
       "      <td>What is your current occupation_Working Profes...</td>\n",
       "      <td>2.05</td>\n",
       "    </tr>\n",
       "    <tr>\n",
       "      <th>6</th>\n",
       "      <td>Lead Source_Reference</td>\n",
       "      <td>1.77</td>\n",
       "    </tr>\n",
       "    <tr>\n",
       "      <th>5</th>\n",
       "      <td>Lead Source_Organic Search</td>\n",
       "      <td>1.45</td>\n",
       "    </tr>\n",
       "    <tr>\n",
       "      <th>9</th>\n",
       "      <td>What is your current occupation_Student</td>\n",
       "      <td>1.35</td>\n",
       "    </tr>\n",
       "    <tr>\n",
       "      <th>1</th>\n",
       "      <td>Total Time Spent on Website</td>\n",
       "      <td>1.27</td>\n",
       "    </tr>\n",
       "    <tr>\n",
       "      <th>7</th>\n",
       "      <td>Lead Source_Welingak Website</td>\n",
       "      <td>1.18</td>\n",
       "    </tr>\n",
       "    <tr>\n",
       "      <th>0</th>\n",
       "      <td>Do Not Email</td>\n",
       "      <td>1.11</td>\n",
       "    </tr>\n",
       "    <tr>\n",
       "      <th>8</th>\n",
       "      <td>What is your current occupation_Other</td>\n",
       "      <td>1.02</td>\n",
       "    </tr>\n",
       "  </tbody>\n",
       "</table>\n",
       "</div>"
      ],
      "text/plain": [
       "                                             Features    VIF\n",
       "10         What is your current occupation_Unemployed  14.25\n",
       "2                 Lead Origin_Landing Page Submission   6.23\n",
       "12                              Specialization_Others   3.91\n",
       "4                              Lead Source_Olark Chat   3.19\n",
       "3                                  Lead Source_Google   2.34\n",
       "11  What is your current occupation_Working Profes...   2.05\n",
       "6                               Lead Source_Reference   1.77\n",
       "5                          Lead Source_Organic Search   1.45\n",
       "9             What is your current occupation_Student   1.35\n",
       "1                         Total Time Spent on Website   1.27\n",
       "7                        Lead Source_Welingak Website   1.18\n",
       "0                                        Do Not Email   1.11\n",
       "8               What is your current occupation_Other   1.02"
      ]
     },
     "execution_count": 95,
     "metadata": {},
     "output_type": "execute_result"
    }
   ],
   "source": [
    "# Create a dataframe that will contain the names of all the feature variables and their respective VIFs\n",
    "vif = pd.DataFrame()\n",
    "vif['Features'] = X_train[col].columns\n",
    "vif['VIF'] = [variance_inflation_factor(X_train[col].values, i) for i in range(X_train[col].shape[1])]\n",
    "vif['VIF'] = round(vif['VIF'], 2)\n",
    "vif = vif.sort_values(by = \"VIF\", ascending = False)\n",
    "vif"
   ]
  },
  {
   "cell_type": "markdown",
   "metadata": {},
   "source": [
    "**Dropping feature 'What is your current occupation_Other' as it has high p value, so it's insignificant.**"
   ]
  },
  {
   "cell_type": "code",
   "execution_count": 96,
   "metadata": {},
   "outputs": [],
   "source": [
    "# Dropping column ' LWhat is your current occupation_Other'\n",
    "col = col.drop('What is your current occupation_Other',1)"
   ]
  },
  {
   "cell_type": "markdown",
   "metadata": {},
   "source": [
    "#### 5.5 Rebuilding the Model with 12 features -  Model 5"
   ]
  },
  {
   "cell_type": "code",
   "execution_count": 97,
   "metadata": {},
   "outputs": [
    {
     "data": {
      "text/html": [
       "<table class=\"simpletable\">\n",
       "<caption>Generalized Linear Model Regression Results</caption>\n",
       "<tr>\n",
       "  <th>Dep. Variable:</th>       <td>Converted</td>    <th>  No. Observations:  </th>  <td>  6075</td> \n",
       "</tr>\n",
       "<tr>\n",
       "  <th>Model:</th>                  <td>GLM</td>       <th>  Df Residuals:      </th>  <td>  6062</td> \n",
       "</tr>\n",
       "<tr>\n",
       "  <th>Model Family:</th>        <td>Binomial</td>     <th>  Df Model:          </th>  <td>    12</td> \n",
       "</tr>\n",
       "<tr>\n",
       "  <th>Link Function:</th>         <td>logit</td>      <th>  Scale:             </th> <td>  1.0000</td>\n",
       "</tr>\n",
       "<tr>\n",
       "  <th>Method:</th>                <td>IRLS</td>       <th>  Log-Likelihood:    </th> <td> -2807.2</td>\n",
       "</tr>\n",
       "<tr>\n",
       "  <th>Date:</th>            <td>Mon, 17 May 2021</td> <th>  Deviance:          </th> <td>  5614.5</td>\n",
       "</tr>\n",
       "<tr>\n",
       "  <th>Time:</th>                <td>20:44:06</td>     <th>  Pearson chi2:      </th> <td>7.34e+03</td>\n",
       "</tr>\n",
       "<tr>\n",
       "  <th>No. Iterations:</th>          <td>7</td>        <th>                     </th>     <td> </td>   \n",
       "</tr>\n",
       "<tr>\n",
       "  <th>Covariance Type:</th>     <td>nonrobust</td>    <th>                     </th>     <td> </td>   \n",
       "</tr>\n",
       "</table>\n",
       "<table class=\"simpletable\">\n",
       "<tr>\n",
       "                            <td></td>                              <th>coef</th>     <th>std err</th>      <th>z</th>      <th>P>|z|</th>  <th>[0.025</th>    <th>0.975]</th>  \n",
       "</tr>\n",
       "<tr>\n",
       "  <th>const</th>                                                <td>    0.1603</td> <td>    0.549</td> <td>    0.292</td> <td> 0.770</td> <td>   -0.917</td> <td>    1.237</td>\n",
       "</tr>\n",
       "<tr>\n",
       "  <th>Do Not Email</th>                                         <td>   -1.1684</td> <td>    0.163</td> <td>   -7.186</td> <td> 0.000</td> <td>   -1.487</td> <td>   -0.850</td>\n",
       "</tr>\n",
       "<tr>\n",
       "  <th>Total Time Spent on Website</th>                          <td>    1.0297</td> <td>    0.038</td> <td>   26.896</td> <td> 0.000</td> <td>    0.955</td> <td>    1.105</td>\n",
       "</tr>\n",
       "<tr>\n",
       "  <th>Lead Origin_Landing Page Submission</th>                  <td>   -0.7712</td> <td>    0.117</td> <td>   -6.567</td> <td> 0.000</td> <td>   -1.001</td> <td>   -0.541</td>\n",
       "</tr>\n",
       "<tr>\n",
       "  <th>Lead Source_Google</th>                                   <td>    0.3336</td> <td>    0.087</td> <td>    3.813</td> <td> 0.000</td> <td>    0.162</td> <td>    0.505</td>\n",
       "</tr>\n",
       "<tr>\n",
       "  <th>Lead Source_Olark Chat</th>                               <td>    0.8517</td> <td>    0.133</td> <td>    6.403</td> <td> 0.000</td> <td>    0.591</td> <td>    1.112</td>\n",
       "</tr>\n",
       "<tr>\n",
       "  <th>Lead Source_Organic Search</th>                           <td>    0.3175</td> <td>    0.119</td> <td>    2.663</td> <td> 0.008</td> <td>    0.084</td> <td>    0.551</td>\n",
       "</tr>\n",
       "<tr>\n",
       "  <th>Lead Source_Reference</th>                                <td>    3.7944</td> <td>    0.236</td> <td>   16.075</td> <td> 0.000</td> <td>    3.332</td> <td>    4.257</td>\n",
       "</tr>\n",
       "<tr>\n",
       "  <th>Lead Source_Welingak Website</th>                         <td>    7.0217</td> <td>    1.014</td> <td>    6.924</td> <td> 0.000</td> <td>    5.034</td> <td>    9.009</td>\n",
       "</tr>\n",
       "<tr>\n",
       "  <th>What is your current occupation_Student</th>              <td>   -0.4473</td> <td>    0.581</td> <td>   -0.770</td> <td> 0.441</td> <td>   -1.585</td> <td>    0.691</td>\n",
       "</tr>\n",
       "<tr>\n",
       "  <th>What is your current occupation_Unemployed</th>           <td>   -0.5523</td> <td>    0.539</td> <td>   -1.024</td> <td> 0.306</td> <td>   -1.610</td> <td>    0.505</td>\n",
       "</tr>\n",
       "<tr>\n",
       "  <th>What is your current occupation_Working Professional</th> <td>    2.1411</td> <td>    0.568</td> <td>    3.771</td> <td> 0.000</td> <td>    1.028</td> <td>    3.254</td>\n",
       "</tr>\n",
       "<tr>\n",
       "  <th>Specialization_Others</th>                                <td>   -1.0962</td> <td>    0.105</td> <td>  -10.483</td> <td> 0.000</td> <td>   -1.301</td> <td>   -0.891</td>\n",
       "</tr>\n",
       "</table>"
      ],
      "text/plain": [
       "<class 'statsmodels.iolib.summary.Summary'>\n",
       "\"\"\"\n",
       "                 Generalized Linear Model Regression Results                  \n",
       "==============================================================================\n",
       "Dep. Variable:              Converted   No. Observations:                 6075\n",
       "Model:                            GLM   Df Residuals:                     6062\n",
       "Model Family:                Binomial   Df Model:                           12\n",
       "Link Function:                  logit   Scale:                          1.0000\n",
       "Method:                          IRLS   Log-Likelihood:                -2807.2\n",
       "Date:                Mon, 17 May 2021   Deviance:                       5614.5\n",
       "Time:                        20:44:06   Pearson chi2:                 7.34e+03\n",
       "No. Iterations:                     7                                         \n",
       "Covariance Type:            nonrobust                                         \n",
       "========================================================================================================================\n",
       "                                                           coef    std err          z      P>|z|      [0.025      0.975]\n",
       "------------------------------------------------------------------------------------------------------------------------\n",
       "const                                                    0.1603      0.549      0.292      0.770      -0.917       1.237\n",
       "Do Not Email                                            -1.1684      0.163     -7.186      0.000      -1.487      -0.850\n",
       "Total Time Spent on Website                              1.0297      0.038     26.896      0.000       0.955       1.105\n",
       "Lead Origin_Landing Page Submission                     -0.7712      0.117     -6.567      0.000      -1.001      -0.541\n",
       "Lead Source_Google                                       0.3336      0.087      3.813      0.000       0.162       0.505\n",
       "Lead Source_Olark Chat                                   0.8517      0.133      6.403      0.000       0.591       1.112\n",
       "Lead Source_Organic Search                               0.3175      0.119      2.663      0.008       0.084       0.551\n",
       "Lead Source_Reference                                    3.7944      0.236     16.075      0.000       3.332       4.257\n",
       "Lead Source_Welingak Website                             7.0217      1.014      6.924      0.000       5.034       9.009\n",
       "What is your current occupation_Student                 -0.4473      0.581     -0.770      0.441      -1.585       0.691\n",
       "What is your current occupation_Unemployed              -0.5523      0.539     -1.024      0.306      -1.610       0.505\n",
       "What is your current occupation_Working Professional     2.1411      0.568      3.771      0.000       1.028       3.254\n",
       "Specialization_Others                                   -1.0962      0.105    -10.483      0.000      -1.301      -0.891\n",
       "========================================================================================================================\n",
       "\"\"\""
      ]
     },
     "execution_count": 97,
     "metadata": {},
     "output_type": "execute_result"
    }
   ],
   "source": [
    "# Rebuilding Logistic Regression model\n",
    "X_train_sm = sm.add_constant(X_train[col])\n",
    "logm5 = sm.GLM(Y_train,X_train_sm, family = sm.families.Binomial())\n",
    "res = logm5.fit()\n",
    "res.summary()"
   ]
  },
  {
   "cell_type": "code",
   "execution_count": 98,
   "metadata": {},
   "outputs": [
    {
     "data": {
      "text/html": [
       "<div>\n",
       "<style scoped>\n",
       "    .dataframe tbody tr th:only-of-type {\n",
       "        vertical-align: middle;\n",
       "    }\n",
       "\n",
       "    .dataframe tbody tr th {\n",
       "        vertical-align: top;\n",
       "    }\n",
       "\n",
       "    .dataframe thead th {\n",
       "        text-align: right;\n",
       "    }\n",
       "</style>\n",
       "<table border=\"1\" class=\"dataframe\">\n",
       "  <thead>\n",
       "    <tr style=\"text-align: right;\">\n",
       "      <th></th>\n",
       "      <th>Features</th>\n",
       "      <th>VIF</th>\n",
       "    </tr>\n",
       "  </thead>\n",
       "  <tbody>\n",
       "    <tr>\n",
       "      <th>9</th>\n",
       "      <td>What is your current occupation_Unemployed</td>\n",
       "      <td>14.07</td>\n",
       "    </tr>\n",
       "    <tr>\n",
       "      <th>2</th>\n",
       "      <td>Lead Origin_Landing Page Submission</td>\n",
       "      <td>6.17</td>\n",
       "    </tr>\n",
       "    <tr>\n",
       "      <th>11</th>\n",
       "      <td>Specialization_Others</td>\n",
       "      <td>3.90</td>\n",
       "    </tr>\n",
       "    <tr>\n",
       "      <th>4</th>\n",
       "      <td>Lead Source_Olark Chat</td>\n",
       "      <td>3.17</td>\n",
       "    </tr>\n",
       "    <tr>\n",
       "      <th>3</th>\n",
       "      <td>Lead Source_Google</td>\n",
       "      <td>2.32</td>\n",
       "    </tr>\n",
       "    <tr>\n",
       "      <th>10</th>\n",
       "      <td>What is your current occupation_Working Profes...</td>\n",
       "      <td>2.04</td>\n",
       "    </tr>\n",
       "    <tr>\n",
       "      <th>6</th>\n",
       "      <td>Lead Source_Reference</td>\n",
       "      <td>1.76</td>\n",
       "    </tr>\n",
       "    <tr>\n",
       "      <th>5</th>\n",
       "      <td>Lead Source_Organic Search</td>\n",
       "      <td>1.44</td>\n",
       "    </tr>\n",
       "    <tr>\n",
       "      <th>8</th>\n",
       "      <td>What is your current occupation_Student</td>\n",
       "      <td>1.35</td>\n",
       "    </tr>\n",
       "    <tr>\n",
       "      <th>1</th>\n",
       "      <td>Total Time Spent on Website</td>\n",
       "      <td>1.26</td>\n",
       "    </tr>\n",
       "    <tr>\n",
       "      <th>7</th>\n",
       "      <td>Lead Source_Welingak Website</td>\n",
       "      <td>1.18</td>\n",
       "    </tr>\n",
       "    <tr>\n",
       "      <th>0</th>\n",
       "      <td>Do Not Email</td>\n",
       "      <td>1.11</td>\n",
       "    </tr>\n",
       "  </tbody>\n",
       "</table>\n",
       "</div>"
      ],
      "text/plain": [
       "                                             Features    VIF\n",
       "9          What is your current occupation_Unemployed  14.07\n",
       "2                 Lead Origin_Landing Page Submission   6.17\n",
       "11                              Specialization_Others   3.90\n",
       "4                              Lead Source_Olark Chat   3.17\n",
       "3                                  Lead Source_Google   2.32\n",
       "10  What is your current occupation_Working Profes...   2.04\n",
       "6                               Lead Source_Reference   1.76\n",
       "5                          Lead Source_Organic Search   1.44\n",
       "8             What is your current occupation_Student   1.35\n",
       "1                         Total Time Spent on Website   1.26\n",
       "7                        Lead Source_Welingak Website   1.18\n",
       "0                                        Do Not Email   1.11"
      ]
     },
     "execution_count": 98,
     "metadata": {},
     "output_type": "execute_result"
    }
   ],
   "source": [
    "# Create a dataframe that will contain the names of all the feature variables and their respective VIFs\n",
    "vif = pd.DataFrame()\n",
    "vif['Features'] = X_train[col].columns\n",
    "vif['VIF'] = [variance_inflation_factor(X_train[col].values, i) for i in range(X_train[col].shape[1])]\n",
    "vif['VIF'] = round(vif['VIF'], 2)\n",
    "vif = vif.sort_values(by = \"VIF\", ascending = False)\n",
    "vif"
   ]
  },
  {
   "cell_type": "markdown",
   "metadata": {},
   "source": [
    "**Dropping feature 'What is your current occupation_Unemployed' as it has high VIF value, so it's insignificant.**"
   ]
  },
  {
   "cell_type": "code",
   "execution_count": 99,
   "metadata": {},
   "outputs": [],
   "source": [
    "# Dropping column ' Last Notable Activity_Had a Phone Conversation'\n",
    "col = col.drop('What is your current occupation_Unemployed',1)"
   ]
  },
  {
   "cell_type": "markdown",
   "metadata": {},
   "source": [
    "#### 5.6 Rebuilding the Model with 11 features -  Model 6"
   ]
  },
  {
   "cell_type": "code",
   "execution_count": 100,
   "metadata": {},
   "outputs": [
    {
     "data": {
      "text/html": [
       "<table class=\"simpletable\">\n",
       "<caption>Generalized Linear Model Regression Results</caption>\n",
       "<tr>\n",
       "  <th>Dep. Variable:</th>       <td>Converted</td>    <th>  No. Observations:  </th>  <td>  6075</td> \n",
       "</tr>\n",
       "<tr>\n",
       "  <th>Model:</th>                  <td>GLM</td>       <th>  Df Residuals:      </th>  <td>  6063</td> \n",
       "</tr>\n",
       "<tr>\n",
       "  <th>Model Family:</th>        <td>Binomial</td>     <th>  Df Model:          </th>  <td>    11</td> \n",
       "</tr>\n",
       "<tr>\n",
       "  <th>Link Function:</th>         <td>logit</td>      <th>  Scale:             </th> <td>  1.0000</td>\n",
       "</tr>\n",
       "<tr>\n",
       "  <th>Method:</th>                <td>IRLS</td>       <th>  Log-Likelihood:    </th> <td> -2807.8</td>\n",
       "</tr>\n",
       "<tr>\n",
       "  <th>Date:</th>            <td>Mon, 17 May 2021</td> <th>  Deviance:          </th> <td>  5615.5</td>\n",
       "</tr>\n",
       "<tr>\n",
       "  <th>Time:</th>                <td>20:44:10</td>     <th>  Pearson chi2:      </th> <td>7.34e+03</td>\n",
       "</tr>\n",
       "<tr>\n",
       "  <th>No. Iterations:</th>          <td>7</td>        <th>                     </th>     <td> </td>   \n",
       "</tr>\n",
       "<tr>\n",
       "  <th>Covariance Type:</th>     <td>nonrobust</td>    <th>                     </th>     <td> </td>   \n",
       "</tr>\n",
       "</table>\n",
       "<table class=\"simpletable\">\n",
       "<tr>\n",
       "                            <td></td>                              <th>coef</th>     <th>std err</th>      <th>z</th>      <th>P>|z|</th>  <th>[0.025</th>    <th>0.975]</th>  \n",
       "</tr>\n",
       "<tr>\n",
       "  <th>const</th>                                                <td>   -0.3851</td> <td>    0.132</td> <td>   -2.916</td> <td> 0.004</td> <td>   -0.644</td> <td>   -0.126</td>\n",
       "</tr>\n",
       "<tr>\n",
       "  <th>Do Not Email</th>                                         <td>   -1.1673</td> <td>    0.162</td> <td>   -7.185</td> <td> 0.000</td> <td>   -1.486</td> <td>   -0.849</td>\n",
       "</tr>\n",
       "<tr>\n",
       "  <th>Total Time Spent on Website</th>                          <td>    1.0307</td> <td>    0.038</td> <td>   26.928</td> <td> 0.000</td> <td>    0.956</td> <td>    1.106</td>\n",
       "</tr>\n",
       "<tr>\n",
       "  <th>Lead Origin_Landing Page Submission</th>                  <td>   -0.7755</td> <td>    0.117</td> <td>   -6.610</td> <td> 0.000</td> <td>   -1.005</td> <td>   -0.546</td>\n",
       "</tr>\n",
       "<tr>\n",
       "  <th>Lead Source_Google</th>                                   <td>    0.3325</td> <td>    0.087</td> <td>    3.802</td> <td> 0.000</td> <td>    0.161</td> <td>    0.504</td>\n",
       "</tr>\n",
       "<tr>\n",
       "  <th>Lead Source_Olark Chat</th>                               <td>    0.8515</td> <td>    0.133</td> <td>    6.403</td> <td> 0.000</td> <td>    0.591</td> <td>    1.112</td>\n",
       "</tr>\n",
       "<tr>\n",
       "  <th>Lead Source_Organic Search</th>                           <td>    0.3179</td> <td>    0.119</td> <td>    2.666</td> <td> 0.008</td> <td>    0.084</td> <td>    0.552</td>\n",
       "</tr>\n",
       "<tr>\n",
       "  <th>Lead Source_Reference</th>                                <td>    3.7958</td> <td>    0.236</td> <td>   16.085</td> <td> 0.000</td> <td>    3.333</td> <td>    4.258</td>\n",
       "</tr>\n",
       "<tr>\n",
       "  <th>Lead Source_Welingak Website</th>                         <td>    7.0205</td> <td>    1.014</td> <td>    6.923</td> <td> 0.000</td> <td>    5.033</td> <td>    9.008</td>\n",
       "</tr>\n",
       "<tr>\n",
       "  <th>What is your current occupation_Student</th>              <td>    0.1028</td> <td>    0.220</td> <td>    0.467</td> <td> 0.640</td> <td>   -0.329</td> <td>    0.534</td>\n",
       "</tr>\n",
       "<tr>\n",
       "  <th>What is your current occupation_Working Professional</th> <td>    2.6911</td> <td>    0.184</td> <td>   14.604</td> <td> 0.000</td> <td>    2.330</td> <td>    3.052</td>\n",
       "</tr>\n",
       "<tr>\n",
       "  <th>Specialization_Others</th>                                <td>   -1.1015</td> <td>    0.104</td> <td>  -10.543</td> <td> 0.000</td> <td>   -1.306</td> <td>   -0.897</td>\n",
       "</tr>\n",
       "</table>"
      ],
      "text/plain": [
       "<class 'statsmodels.iolib.summary.Summary'>\n",
       "\"\"\"\n",
       "                 Generalized Linear Model Regression Results                  \n",
       "==============================================================================\n",
       "Dep. Variable:              Converted   No. Observations:                 6075\n",
       "Model:                            GLM   Df Residuals:                     6063\n",
       "Model Family:                Binomial   Df Model:                           11\n",
       "Link Function:                  logit   Scale:                          1.0000\n",
       "Method:                          IRLS   Log-Likelihood:                -2807.8\n",
       "Date:                Mon, 17 May 2021   Deviance:                       5615.5\n",
       "Time:                        20:44:10   Pearson chi2:                 7.34e+03\n",
       "No. Iterations:                     7                                         \n",
       "Covariance Type:            nonrobust                                         \n",
       "========================================================================================================================\n",
       "                                                           coef    std err          z      P>|z|      [0.025      0.975]\n",
       "------------------------------------------------------------------------------------------------------------------------\n",
       "const                                                   -0.3851      0.132     -2.916      0.004      -0.644      -0.126\n",
       "Do Not Email                                            -1.1673      0.162     -7.185      0.000      -1.486      -0.849\n",
       "Total Time Spent on Website                              1.0307      0.038     26.928      0.000       0.956       1.106\n",
       "Lead Origin_Landing Page Submission                     -0.7755      0.117     -6.610      0.000      -1.005      -0.546\n",
       "Lead Source_Google                                       0.3325      0.087      3.802      0.000       0.161       0.504\n",
       "Lead Source_Olark Chat                                   0.8515      0.133      6.403      0.000       0.591       1.112\n",
       "Lead Source_Organic Search                               0.3179      0.119      2.666      0.008       0.084       0.552\n",
       "Lead Source_Reference                                    3.7958      0.236     16.085      0.000       3.333       4.258\n",
       "Lead Source_Welingak Website                             7.0205      1.014      6.923      0.000       5.033       9.008\n",
       "What is your current occupation_Student                  0.1028      0.220      0.467      0.640      -0.329       0.534\n",
       "What is your current occupation_Working Professional     2.6911      0.184     14.604      0.000       2.330       3.052\n",
       "Specialization_Others                                   -1.1015      0.104    -10.543      0.000      -1.306      -0.897\n",
       "========================================================================================================================\n",
       "\"\"\""
      ]
     },
     "execution_count": 100,
     "metadata": {},
     "output_type": "execute_result"
    }
   ],
   "source": [
    "# Rebuilding Logistic Regression model\n",
    "X_train_sm = sm.add_constant(X_train[col])\n",
    "logm6 = sm.GLM(Y_train,X_train_sm, family = sm.families.Binomial())\n",
    "res = logm6.fit()\n",
    "res.summary()"
   ]
  },
  {
   "cell_type": "code",
   "execution_count": 101,
   "metadata": {},
   "outputs": [
    {
     "data": {
      "text/html": [
       "<table class=\"simpletable\">\n",
       "<caption>Generalized Linear Model Regression Results</caption>\n",
       "<tr>\n",
       "  <th>Dep. Variable:</th>       <td>Converted</td>    <th>  No. Observations:  </th>  <td>  6075</td> \n",
       "</tr>\n",
       "<tr>\n",
       "  <th>Model:</th>                  <td>GLM</td>       <th>  Df Residuals:      </th>  <td>  6063</td> \n",
       "</tr>\n",
       "<tr>\n",
       "  <th>Model Family:</th>        <td>Binomial</td>     <th>  Df Model:          </th>  <td>    11</td> \n",
       "</tr>\n",
       "<tr>\n",
       "  <th>Link Function:</th>         <td>logit</td>      <th>  Scale:             </th> <td>  1.0000</td>\n",
       "</tr>\n",
       "<tr>\n",
       "  <th>Method:</th>                <td>IRLS</td>       <th>  Log-Likelihood:    </th> <td> -2807.8</td>\n",
       "</tr>\n",
       "<tr>\n",
       "  <th>Date:</th>            <td>Mon, 17 May 2021</td> <th>  Deviance:          </th> <td>  5615.5</td>\n",
       "</tr>\n",
       "<tr>\n",
       "  <th>Time:</th>                <td>20:44:11</td>     <th>  Pearson chi2:      </th> <td>7.34e+03</td>\n",
       "</tr>\n",
       "<tr>\n",
       "  <th>No. Iterations:</th>          <td>7</td>        <th>                     </th>     <td> </td>   \n",
       "</tr>\n",
       "<tr>\n",
       "  <th>Covariance Type:</th>     <td>nonrobust</td>    <th>                     </th>     <td> </td>   \n",
       "</tr>\n",
       "</table>\n",
       "<table class=\"simpletable\">\n",
       "<tr>\n",
       "                            <td></td>                              <th>coef</th>     <th>std err</th>      <th>z</th>      <th>P>|z|</th>  <th>[0.025</th>    <th>0.975]</th>  \n",
       "</tr>\n",
       "<tr>\n",
       "  <th>const</th>                                                <td>   -0.3851</td> <td>    0.132</td> <td>   -2.916</td> <td> 0.004</td> <td>   -0.644</td> <td>   -0.126</td>\n",
       "</tr>\n",
       "<tr>\n",
       "  <th>Do Not Email</th>                                         <td>   -1.1673</td> <td>    0.162</td> <td>   -7.185</td> <td> 0.000</td> <td>   -1.486</td> <td>   -0.849</td>\n",
       "</tr>\n",
       "<tr>\n",
       "  <th>Total Time Spent on Website</th>                          <td>    1.0307</td> <td>    0.038</td> <td>   26.928</td> <td> 0.000</td> <td>    0.956</td> <td>    1.106</td>\n",
       "</tr>\n",
       "<tr>\n",
       "  <th>Lead Origin_Landing Page Submission</th>                  <td>   -0.7755</td> <td>    0.117</td> <td>   -6.610</td> <td> 0.000</td> <td>   -1.005</td> <td>   -0.546</td>\n",
       "</tr>\n",
       "<tr>\n",
       "  <th>Lead Source_Google</th>                                   <td>    0.3325</td> <td>    0.087</td> <td>    3.802</td> <td> 0.000</td> <td>    0.161</td> <td>    0.504</td>\n",
       "</tr>\n",
       "<tr>\n",
       "  <th>Lead Source_Olark Chat</th>                               <td>    0.8515</td> <td>    0.133</td> <td>    6.403</td> <td> 0.000</td> <td>    0.591</td> <td>    1.112</td>\n",
       "</tr>\n",
       "<tr>\n",
       "  <th>Lead Source_Organic Search</th>                           <td>    0.3179</td> <td>    0.119</td> <td>    2.666</td> <td> 0.008</td> <td>    0.084</td> <td>    0.552</td>\n",
       "</tr>\n",
       "<tr>\n",
       "  <th>Lead Source_Reference</th>                                <td>    3.7958</td> <td>    0.236</td> <td>   16.085</td> <td> 0.000</td> <td>    3.333</td> <td>    4.258</td>\n",
       "</tr>\n",
       "<tr>\n",
       "  <th>Lead Source_Welingak Website</th>                         <td>    7.0205</td> <td>    1.014</td> <td>    6.923</td> <td> 0.000</td> <td>    5.033</td> <td>    9.008</td>\n",
       "</tr>\n",
       "<tr>\n",
       "  <th>What is your current occupation_Student</th>              <td>    0.1028</td> <td>    0.220</td> <td>    0.467</td> <td> 0.640</td> <td>   -0.329</td> <td>    0.534</td>\n",
       "</tr>\n",
       "<tr>\n",
       "  <th>What is your current occupation_Working Professional</th> <td>    2.6911</td> <td>    0.184</td> <td>   14.604</td> <td> 0.000</td> <td>    2.330</td> <td>    3.052</td>\n",
       "</tr>\n",
       "<tr>\n",
       "  <th>Specialization_Others</th>                                <td>   -1.1015</td> <td>    0.104</td> <td>  -10.543</td> <td> 0.000</td> <td>   -1.306</td> <td>   -0.897</td>\n",
       "</tr>\n",
       "</table>"
      ],
      "text/plain": [
       "<class 'statsmodels.iolib.summary.Summary'>\n",
       "\"\"\"\n",
       "                 Generalized Linear Model Regression Results                  \n",
       "==============================================================================\n",
       "Dep. Variable:              Converted   No. Observations:                 6075\n",
       "Model:                            GLM   Df Residuals:                     6063\n",
       "Model Family:                Binomial   Df Model:                           11\n",
       "Link Function:                  logit   Scale:                          1.0000\n",
       "Method:                          IRLS   Log-Likelihood:                -2807.8\n",
       "Date:                Mon, 17 May 2021   Deviance:                       5615.5\n",
       "Time:                        20:44:11   Pearson chi2:                 7.34e+03\n",
       "No. Iterations:                     7                                         \n",
       "Covariance Type:            nonrobust                                         \n",
       "========================================================================================================================\n",
       "                                                           coef    std err          z      P>|z|      [0.025      0.975]\n",
       "------------------------------------------------------------------------------------------------------------------------\n",
       "const                                                   -0.3851      0.132     -2.916      0.004      -0.644      -0.126\n",
       "Do Not Email                                            -1.1673      0.162     -7.185      0.000      -1.486      -0.849\n",
       "Total Time Spent on Website                              1.0307      0.038     26.928      0.000       0.956       1.106\n",
       "Lead Origin_Landing Page Submission                     -0.7755      0.117     -6.610      0.000      -1.005      -0.546\n",
       "Lead Source_Google                                       0.3325      0.087      3.802      0.000       0.161       0.504\n",
       "Lead Source_Olark Chat                                   0.8515      0.133      6.403      0.000       0.591       1.112\n",
       "Lead Source_Organic Search                               0.3179      0.119      2.666      0.008       0.084       0.552\n",
       "Lead Source_Reference                                    3.7958      0.236     16.085      0.000       3.333       4.258\n",
       "Lead Source_Welingak Website                             7.0205      1.014      6.923      0.000       5.033       9.008\n",
       "What is your current occupation_Student                  0.1028      0.220      0.467      0.640      -0.329       0.534\n",
       "What is your current occupation_Working Professional     2.6911      0.184     14.604      0.000       2.330       3.052\n",
       "Specialization_Others                                   -1.1015      0.104    -10.543      0.000      -1.306      -0.897\n",
       "========================================================================================================================\n",
       "\"\"\""
      ]
     },
     "execution_count": 101,
     "metadata": {},
     "output_type": "execute_result"
    }
   ],
   "source": [
    "# Rebuilding Logistic Regression model\n",
    "X_train_sm = sm.add_constant(X_train[col])\n",
    "logm6 = sm.GLM(Y_train,X_train_sm, family = sm.families.Binomial())\n",
    "res = logm6.fit()\n",
    "res.summary()"
   ]
  },
  {
   "cell_type": "code",
   "execution_count": 102,
   "metadata": {},
   "outputs": [
    {
     "data": {
      "text/html": [
       "<div>\n",
       "<style scoped>\n",
       "    .dataframe tbody tr th:only-of-type {\n",
       "        vertical-align: middle;\n",
       "    }\n",
       "\n",
       "    .dataframe tbody tr th {\n",
       "        vertical-align: top;\n",
       "    }\n",
       "\n",
       "    .dataframe thead th {\n",
       "        text-align: right;\n",
       "    }\n",
       "</style>\n",
       "<table border=\"1\" class=\"dataframe\">\n",
       "  <thead>\n",
       "    <tr style=\"text-align: right;\">\n",
       "      <th></th>\n",
       "      <th>Features</th>\n",
       "      <th>VIF</th>\n",
       "    </tr>\n",
       "  </thead>\n",
       "  <tbody>\n",
       "    <tr>\n",
       "      <th>10</th>\n",
       "      <td>Specialization_Others</td>\n",
       "      <td>2.41</td>\n",
       "    </tr>\n",
       "    <tr>\n",
       "      <th>4</th>\n",
       "      <td>Lead Source_Olark Chat</td>\n",
       "      <td>2.02</td>\n",
       "    </tr>\n",
       "    <tr>\n",
       "      <th>3</th>\n",
       "      <td>Lead Source_Google</td>\n",
       "      <td>1.67</td>\n",
       "    </tr>\n",
       "    <tr>\n",
       "      <th>2</th>\n",
       "      <td>Lead Origin_Landing Page Submission</td>\n",
       "      <td>1.57</td>\n",
       "    </tr>\n",
       "    <tr>\n",
       "      <th>1</th>\n",
       "      <td>Total Time Spent on Website</td>\n",
       "      <td>1.25</td>\n",
       "    </tr>\n",
       "    <tr>\n",
       "      <th>5</th>\n",
       "      <td>Lead Source_Organic Search</td>\n",
       "      <td>1.24</td>\n",
       "    </tr>\n",
       "    <tr>\n",
       "      <th>9</th>\n",
       "      <td>What is your current occupation_Working Profes...</td>\n",
       "      <td>1.18</td>\n",
       "    </tr>\n",
       "    <tr>\n",
       "      <th>6</th>\n",
       "      <td>Lead Source_Reference</td>\n",
       "      <td>1.17</td>\n",
       "    </tr>\n",
       "    <tr>\n",
       "      <th>0</th>\n",
       "      <td>Do Not Email</td>\n",
       "      <td>1.10</td>\n",
       "    </tr>\n",
       "    <tr>\n",
       "      <th>7</th>\n",
       "      <td>Lead Source_Welingak Website</td>\n",
       "      <td>1.09</td>\n",
       "    </tr>\n",
       "    <tr>\n",
       "      <th>8</th>\n",
       "      <td>What is your current occupation_Student</td>\n",
       "      <td>1.03</td>\n",
       "    </tr>\n",
       "  </tbody>\n",
       "</table>\n",
       "</div>"
      ],
      "text/plain": [
       "                                             Features   VIF\n",
       "10                              Specialization_Others  2.41\n",
       "4                              Lead Source_Olark Chat  2.02\n",
       "3                                  Lead Source_Google  1.67\n",
       "2                 Lead Origin_Landing Page Submission  1.57\n",
       "1                         Total Time Spent on Website  1.25\n",
       "5                          Lead Source_Organic Search  1.24\n",
       "9   What is your current occupation_Working Profes...  1.18\n",
       "6                               Lead Source_Reference  1.17\n",
       "0                                        Do Not Email  1.10\n",
       "7                        Lead Source_Welingak Website  1.09\n",
       "8             What is your current occupation_Student  1.03"
      ]
     },
     "execution_count": 102,
     "metadata": {},
     "output_type": "execute_result"
    }
   ],
   "source": [
    "# Create a dataframe that will contain the names of all the feature variables and their respective VIFs\n",
    "vif = pd.DataFrame()\n",
    "vif['Features'] = X_train[col].columns\n",
    "vif['VIF'] = [variance_inflation_factor(X_train[col].values, i) for i in range(X_train[col].shape[1])]\n",
    "vif['VIF'] = round(vif['VIF'], 2)\n",
    "vif = vif.sort_values(by = \"VIF\", ascending = False)\n",
    "vif"
   ]
  },
  {
   "cell_type": "markdown",
   "metadata": {},
   "source": [
    "**Dropping feature 'What is your current occupation_Student' as it has high VIF value, so it's insignificant.**"
   ]
  },
  {
   "cell_type": "code",
   "execution_count": 103,
   "metadata": {},
   "outputs": [],
   "source": [
    "# Dropping column ' Last Notable Activity_Had a Phone Conversation'\n",
    "col = col.drop('What is your current occupation_Student',1)"
   ]
  },
  {
   "cell_type": "markdown",
   "metadata": {},
   "source": [
    "#### 5.7 Rebuilding the Model with 10 features -  Model 7"
   ]
  },
  {
   "cell_type": "code",
   "execution_count": 104,
   "metadata": {},
   "outputs": [
    {
     "data": {
      "text/html": [
       "<table class=\"simpletable\">\n",
       "<caption>Generalized Linear Model Regression Results</caption>\n",
       "<tr>\n",
       "  <th>Dep. Variable:</th>       <td>Converted</td>    <th>  No. Observations:  </th>  <td>  6075</td> \n",
       "</tr>\n",
       "<tr>\n",
       "  <th>Model:</th>                  <td>GLM</td>       <th>  Df Residuals:      </th>  <td>  6064</td> \n",
       "</tr>\n",
       "<tr>\n",
       "  <th>Model Family:</th>        <td>Binomial</td>     <th>  Df Model:          </th>  <td>    10</td> \n",
       "</tr>\n",
       "<tr>\n",
       "  <th>Link Function:</th>         <td>logit</td>      <th>  Scale:             </th> <td>  1.0000</td>\n",
       "</tr>\n",
       "<tr>\n",
       "  <th>Method:</th>                <td>IRLS</td>       <th>  Log-Likelihood:    </th> <td> -2807.9</td>\n",
       "</tr>\n",
       "<tr>\n",
       "  <th>Date:</th>            <td>Mon, 17 May 2021</td> <th>  Deviance:          </th> <td>  5615.8</td>\n",
       "</tr>\n",
       "<tr>\n",
       "  <th>Time:</th>                <td>20:44:14</td>     <th>  Pearson chi2:      </th> <td>7.34e+03</td>\n",
       "</tr>\n",
       "<tr>\n",
       "  <th>No. Iterations:</th>          <td>7</td>        <th>                     </th>     <td> </td>   \n",
       "</tr>\n",
       "<tr>\n",
       "  <th>Covariance Type:</th>     <td>nonrobust</td>    <th>                     </th>     <td> </td>   \n",
       "</tr>\n",
       "</table>\n",
       "<table class=\"simpletable\">\n",
       "<tr>\n",
       "                            <td></td>                              <th>coef</th>     <th>std err</th>      <th>z</th>      <th>P>|z|</th>  <th>[0.025</th>    <th>0.975]</th>  \n",
       "</tr>\n",
       "<tr>\n",
       "  <th>const</th>                                                <td>   -0.3822</td> <td>    0.132</td> <td>   -2.898</td> <td> 0.004</td> <td>   -0.641</td> <td>   -0.124</td>\n",
       "</tr>\n",
       "<tr>\n",
       "  <th>Do Not Email</th>                                         <td>   -1.1679</td> <td>    0.162</td> <td>   -7.188</td> <td> 0.000</td> <td>   -1.486</td> <td>   -0.849</td>\n",
       "</tr>\n",
       "<tr>\n",
       "  <th>Total Time Spent on Website</th>                          <td>    1.0307</td> <td>    0.038</td> <td>   26.927</td> <td> 0.000</td> <td>    0.956</td> <td>    1.106</td>\n",
       "</tr>\n",
       "<tr>\n",
       "  <th>Lead Origin_Landing Page Submission</th>                  <td>   -0.7750</td> <td>    0.117</td> <td>   -6.605</td> <td> 0.000</td> <td>   -1.005</td> <td>   -0.545</td>\n",
       "</tr>\n",
       "<tr>\n",
       "  <th>Lead Source_Google</th>                                   <td>    0.3312</td> <td>    0.087</td> <td>    3.789</td> <td> 0.000</td> <td>    0.160</td> <td>    0.503</td>\n",
       "</tr>\n",
       "<tr>\n",
       "  <th>Lead Source_Olark Chat</th>                               <td>    0.8514</td> <td>    0.133</td> <td>    6.402</td> <td> 0.000</td> <td>    0.591</td> <td>    1.112</td>\n",
       "</tr>\n",
       "<tr>\n",
       "  <th>Lead Source_Organic Search</th>                           <td>    0.3165</td> <td>    0.119</td> <td>    2.655</td> <td> 0.008</td> <td>    0.083</td> <td>    0.550</td>\n",
       "</tr>\n",
       "<tr>\n",
       "  <th>Lead Source_Reference</th>                                <td>    3.7960</td> <td>    0.236</td> <td>   16.089</td> <td> 0.000</td> <td>    3.334</td> <td>    4.258</td>\n",
       "</tr>\n",
       "<tr>\n",
       "  <th>Lead Source_Welingak Website</th>                         <td>    7.0177</td> <td>    1.014</td> <td>    6.921</td> <td> 0.000</td> <td>    5.030</td> <td>    9.005</td>\n",
       "</tr>\n",
       "<tr>\n",
       "  <th>What is your current occupation_Working Professional</th> <td>    2.6885</td> <td>    0.184</td> <td>   14.597</td> <td> 0.000</td> <td>    2.327</td> <td>    3.049</td>\n",
       "</tr>\n",
       "<tr>\n",
       "  <th>Specialization_Others</th>                                <td>   -1.1015</td> <td>    0.105</td> <td>  -10.540</td> <td> 0.000</td> <td>   -1.306</td> <td>   -0.897</td>\n",
       "</tr>\n",
       "</table>"
      ],
      "text/plain": [
       "<class 'statsmodels.iolib.summary.Summary'>\n",
       "\"\"\"\n",
       "                 Generalized Linear Model Regression Results                  \n",
       "==============================================================================\n",
       "Dep. Variable:              Converted   No. Observations:                 6075\n",
       "Model:                            GLM   Df Residuals:                     6064\n",
       "Model Family:                Binomial   Df Model:                           10\n",
       "Link Function:                  logit   Scale:                          1.0000\n",
       "Method:                          IRLS   Log-Likelihood:                -2807.9\n",
       "Date:                Mon, 17 May 2021   Deviance:                       5615.8\n",
       "Time:                        20:44:14   Pearson chi2:                 7.34e+03\n",
       "No. Iterations:                     7                                         \n",
       "Covariance Type:            nonrobust                                         \n",
       "========================================================================================================================\n",
       "                                                           coef    std err          z      P>|z|      [0.025      0.975]\n",
       "------------------------------------------------------------------------------------------------------------------------\n",
       "const                                                   -0.3822      0.132     -2.898      0.004      -0.641      -0.124\n",
       "Do Not Email                                            -1.1679      0.162     -7.188      0.000      -1.486      -0.849\n",
       "Total Time Spent on Website                              1.0307      0.038     26.927      0.000       0.956       1.106\n",
       "Lead Origin_Landing Page Submission                     -0.7750      0.117     -6.605      0.000      -1.005      -0.545\n",
       "Lead Source_Google                                       0.3312      0.087      3.789      0.000       0.160       0.503\n",
       "Lead Source_Olark Chat                                   0.8514      0.133      6.402      0.000       0.591       1.112\n",
       "Lead Source_Organic Search                               0.3165      0.119      2.655      0.008       0.083       0.550\n",
       "Lead Source_Reference                                    3.7960      0.236     16.089      0.000       3.334       4.258\n",
       "Lead Source_Welingak Website                             7.0177      1.014      6.921      0.000       5.030       9.005\n",
       "What is your current occupation_Working Professional     2.6885      0.184     14.597      0.000       2.327       3.049\n",
       "Specialization_Others                                   -1.1015      0.105    -10.540      0.000      -1.306      -0.897\n",
       "========================================================================================================================\n",
       "\"\"\""
      ]
     },
     "execution_count": 104,
     "metadata": {},
     "output_type": "execute_result"
    }
   ],
   "source": [
    "# Rebuilding Logistic Regression model\n",
    "X_train_sm = sm.add_constant(X_train[col])\n",
    "logm7 = sm.GLM(Y_train,X_train_sm, family = sm.families.Binomial())\n",
    "res = logm7.fit()\n",
    "res.summary()"
   ]
  },
  {
   "cell_type": "code",
   "execution_count": 105,
   "metadata": {},
   "outputs": [
    {
     "data": {
      "text/html": [
       "<div>\n",
       "<style scoped>\n",
       "    .dataframe tbody tr th:only-of-type {\n",
       "        vertical-align: middle;\n",
       "    }\n",
       "\n",
       "    .dataframe tbody tr th {\n",
       "        vertical-align: top;\n",
       "    }\n",
       "\n",
       "    .dataframe thead th {\n",
       "        text-align: right;\n",
       "    }\n",
       "</style>\n",
       "<table border=\"1\" class=\"dataframe\">\n",
       "  <thead>\n",
       "    <tr style=\"text-align: right;\">\n",
       "      <th></th>\n",
       "      <th>Features</th>\n",
       "      <th>VIF</th>\n",
       "    </tr>\n",
       "  </thead>\n",
       "  <tbody>\n",
       "    <tr>\n",
       "      <th>9</th>\n",
       "      <td>Specialization_Others</td>\n",
       "      <td>2.41</td>\n",
       "    </tr>\n",
       "    <tr>\n",
       "      <th>4</th>\n",
       "      <td>Lead Source_Olark Chat</td>\n",
       "      <td>2.02</td>\n",
       "    </tr>\n",
       "    <tr>\n",
       "      <th>3</th>\n",
       "      <td>Lead Source_Google</td>\n",
       "      <td>1.67</td>\n",
       "    </tr>\n",
       "    <tr>\n",
       "      <th>2</th>\n",
       "      <td>Lead Origin_Landing Page Submission</td>\n",
       "      <td>1.55</td>\n",
       "    </tr>\n",
       "    <tr>\n",
       "      <th>1</th>\n",
       "      <td>Total Time Spent on Website</td>\n",
       "      <td>1.25</td>\n",
       "    </tr>\n",
       "    <tr>\n",
       "      <th>5</th>\n",
       "      <td>Lead Source_Organic Search</td>\n",
       "      <td>1.24</td>\n",
       "    </tr>\n",
       "    <tr>\n",
       "      <th>8</th>\n",
       "      <td>What is your current occupation_Working Profes...</td>\n",
       "      <td>1.18</td>\n",
       "    </tr>\n",
       "    <tr>\n",
       "      <th>6</th>\n",
       "      <td>Lead Source_Reference</td>\n",
       "      <td>1.16</td>\n",
       "    </tr>\n",
       "    <tr>\n",
       "      <th>0</th>\n",
       "      <td>Do Not Email</td>\n",
       "      <td>1.10</td>\n",
       "    </tr>\n",
       "    <tr>\n",
       "      <th>7</th>\n",
       "      <td>Lead Source_Welingak Website</td>\n",
       "      <td>1.09</td>\n",
       "    </tr>\n",
       "  </tbody>\n",
       "</table>\n",
       "</div>"
      ],
      "text/plain": [
       "                                            Features   VIF\n",
       "9                              Specialization_Others  2.41\n",
       "4                             Lead Source_Olark Chat  2.02\n",
       "3                                 Lead Source_Google  1.67\n",
       "2                Lead Origin_Landing Page Submission  1.55\n",
       "1                        Total Time Spent on Website  1.25\n",
       "5                         Lead Source_Organic Search  1.24\n",
       "8  What is your current occupation_Working Profes...  1.18\n",
       "6                              Lead Source_Reference  1.16\n",
       "0                                       Do Not Email  1.10\n",
       "7                       Lead Source_Welingak Website  1.09"
      ]
     },
     "execution_count": 105,
     "metadata": {},
     "output_type": "execute_result"
    }
   ],
   "source": [
    "# Create a dataframe that will contain the names of all the feature variables and their respective VIFs\n",
    "vif = pd.DataFrame()\n",
    "vif['Features'] = X_train[col].columns\n",
    "vif['VIF'] = [variance_inflation_factor(X_train[col].values, i) for i in range(X_train[col].shape[1])]\n",
    "vif['VIF'] = round(vif['VIF'], 2)\n",
    "vif = vif.sort_values(by = \"VIF\", ascending = False)\n",
    "vif"
   ]
  },
  {
   "cell_type": "markdown",
   "metadata": {},
   "source": [
    "**Since the Model 7 seems to be stable with significant p values and VIF values, we shall go ahead with this model for further prediction.**"
   ]
  },
  {
   "cell_type": "markdown",
   "metadata": {},
   "source": [
    "#### 5.8 Prediction of Train dataset"
   ]
  },
  {
   "cell_type": "code",
   "execution_count": 106,
   "metadata": {},
   "outputs": [],
   "source": [
    "# Getting the predicted values on the train set\n",
    "Y_train_pred = res.predict(X_train_sm)"
   ]
  },
  {
   "cell_type": "code",
   "execution_count": 107,
   "metadata": {},
   "outputs": [
    {
     "data": {
      "text/html": [
       "<div>\n",
       "<style scoped>\n",
       "    .dataframe tbody tr th:only-of-type {\n",
       "        vertical-align: middle;\n",
       "    }\n",
       "\n",
       "    .dataframe tbody tr th {\n",
       "        vertical-align: top;\n",
       "    }\n",
       "\n",
       "    .dataframe thead th {\n",
       "        text-align: right;\n",
       "    }\n",
       "</style>\n",
       "<table border=\"1\" class=\"dataframe\">\n",
       "  <thead>\n",
       "    <tr style=\"text-align: right;\">\n",
       "      <th></th>\n",
       "      <th>Prospect ID</th>\n",
       "      <th>Actual_Converted</th>\n",
       "      <th>Predicted_Converted_Prob</th>\n",
       "    </tr>\n",
       "  </thead>\n",
       "  <tbody>\n",
       "    <tr>\n",
       "      <th>5182</th>\n",
       "      <td>031ff09b-ea97-4a95-a03e-8dae56dd8f8d</td>\n",
       "      <td>0</td>\n",
       "      <td>0.124912</td>\n",
       "    </tr>\n",
       "    <tr>\n",
       "      <th>8469</th>\n",
       "      <td>fa22777e-b1e3-4141-baf7-d8abc2efcb73</td>\n",
       "      <td>0</td>\n",
       "      <td>0.053464</td>\n",
       "    </tr>\n",
       "    <tr>\n",
       "      <th>8382</th>\n",
       "      <td>1c1c215f-115b-445d-b30c-d31361b9ec6e</td>\n",
       "      <td>0</td>\n",
       "      <td>0.642091</td>\n",
       "    </tr>\n",
       "    <tr>\n",
       "      <th>8031</th>\n",
       "      <td>daae83bb-59b6-4acb-94c8-f2ef2b548d99</td>\n",
       "      <td>0</td>\n",
       "      <td>0.224224</td>\n",
       "    </tr>\n",
       "    <tr>\n",
       "      <th>6712</th>\n",
       "      <td>ff292035-b1f0-409e-94f3-a5149d72bf0b</td>\n",
       "      <td>1</td>\n",
       "      <td>0.995251</td>\n",
       "    </tr>\n",
       "  </tbody>\n",
       "</table>\n",
       "</div>"
      ],
      "text/plain": [
       "                               Prospect ID  Actual_Converted  \\\n",
       "5182  031ff09b-ea97-4a95-a03e-8dae56dd8f8d                 0   \n",
       "8469  fa22777e-b1e3-4141-baf7-d8abc2efcb73                 0   \n",
       "8382  1c1c215f-115b-445d-b30c-d31361b9ec6e                 0   \n",
       "8031  daae83bb-59b6-4acb-94c8-f2ef2b548d99                 0   \n",
       "6712  ff292035-b1f0-409e-94f3-a5149d72bf0b                 1   \n",
       "\n",
       "      Predicted_Converted_Prob  \n",
       "5182                  0.124912  \n",
       "8469                  0.053464  \n",
       "8382                  0.642091  \n",
       "8031                  0.224224  \n",
       "6712                  0.995251  "
      ]
     },
     "execution_count": 107,
     "metadata": {},
     "output_type": "execute_result"
    }
   ],
   "source": [
    "# Creating dataframe with actual converted values for train dataset and converted probability for predicted dataset\n",
    "Y_train_pred_final = pd.DataFrame({'Actual_Converted':Y_train.values, 'Predicted_Converted_Prob':Y_train_pred})\n",
    "Y_train_pred_final['Prospect ID'] = Train_leads_Prospect_Id\n",
    "Y_train_pred_final = Y_train_pred_final[['Prospect ID','Actual_Converted','Predicted_Converted_Prob']]\n",
    "Y_train_pred_final.head()"
   ]
  },
  {
   "cell_type": "markdown",
   "metadata": {},
   "source": [
    "**Creating new column 'Predicted' with 1 if Predicted_Converted_Prob > 0.5 else 0**"
   ]
  },
  {
   "cell_type": "code",
   "execution_count": 108,
   "metadata": {},
   "outputs": [],
   "source": [
    "Y_train_pred_final['Predicted'] = Y_train_pred_final.Predicted_Converted_Prob.map(lambda x: 1 if x > 0.5 else 0)"
   ]
  },
  {
   "cell_type": "code",
   "execution_count": 109,
   "metadata": {},
   "outputs": [
    {
     "data": {
      "text/html": [
       "<div>\n",
       "<style scoped>\n",
       "    .dataframe tbody tr th:only-of-type {\n",
       "        vertical-align: middle;\n",
       "    }\n",
       "\n",
       "    .dataframe tbody tr th {\n",
       "        vertical-align: top;\n",
       "    }\n",
       "\n",
       "    .dataframe thead th {\n",
       "        text-align: right;\n",
       "    }\n",
       "</style>\n",
       "<table border=\"1\" class=\"dataframe\">\n",
       "  <thead>\n",
       "    <tr style=\"text-align: right;\">\n",
       "      <th></th>\n",
       "      <th>Prospect ID</th>\n",
       "      <th>Actual_Converted</th>\n",
       "      <th>Predicted_Converted_Prob</th>\n",
       "      <th>Predicted</th>\n",
       "    </tr>\n",
       "  </thead>\n",
       "  <tbody>\n",
       "    <tr>\n",
       "      <th>5182</th>\n",
       "      <td>031ff09b-ea97-4a95-a03e-8dae56dd8f8d</td>\n",
       "      <td>0</td>\n",
       "      <td>0.124912</td>\n",
       "      <td>0</td>\n",
       "    </tr>\n",
       "    <tr>\n",
       "      <th>8469</th>\n",
       "      <td>fa22777e-b1e3-4141-baf7-d8abc2efcb73</td>\n",
       "      <td>0</td>\n",
       "      <td>0.053464</td>\n",
       "      <td>0</td>\n",
       "    </tr>\n",
       "    <tr>\n",
       "      <th>8382</th>\n",
       "      <td>1c1c215f-115b-445d-b30c-d31361b9ec6e</td>\n",
       "      <td>0</td>\n",
       "      <td>0.642091</td>\n",
       "      <td>1</td>\n",
       "    </tr>\n",
       "    <tr>\n",
       "      <th>8031</th>\n",
       "      <td>daae83bb-59b6-4acb-94c8-f2ef2b548d99</td>\n",
       "      <td>0</td>\n",
       "      <td>0.224224</td>\n",
       "      <td>0</td>\n",
       "    </tr>\n",
       "    <tr>\n",
       "      <th>6712</th>\n",
       "      <td>ff292035-b1f0-409e-94f3-a5149d72bf0b</td>\n",
       "      <td>1</td>\n",
       "      <td>0.995251</td>\n",
       "      <td>1</td>\n",
       "    </tr>\n",
       "  </tbody>\n",
       "</table>\n",
       "</div>"
      ],
      "text/plain": [
       "                               Prospect ID  Actual_Converted  \\\n",
       "5182  031ff09b-ea97-4a95-a03e-8dae56dd8f8d                 0   \n",
       "8469  fa22777e-b1e3-4141-baf7-d8abc2efcb73                 0   \n",
       "8382  1c1c215f-115b-445d-b30c-d31361b9ec6e                 0   \n",
       "8031  daae83bb-59b6-4acb-94c8-f2ef2b548d99                 0   \n",
       "6712  ff292035-b1f0-409e-94f3-a5149d72bf0b                 1   \n",
       "\n",
       "      Predicted_Converted_Prob  Predicted  \n",
       "5182                  0.124912          0  \n",
       "8469                  0.053464          0  \n",
       "8382                  0.642091          1  \n",
       "8031                  0.224224          0  \n",
       "6712                  0.995251          1  "
      ]
     },
     "execution_count": 109,
     "metadata": {},
     "output_type": "execute_result"
    }
   ],
   "source": [
    "# Geetting the top 5 rows\n",
    "Y_train_pred_final.head()"
   ]
  },
  {
   "cell_type": "markdown",
   "metadata": {},
   "source": [
    "#### 5.9 Model Evaluation with  probability cutoff - 0.5"
   ]
  },
  {
   "cell_type": "markdown",
   "metadata": {},
   "source": [
    "#### 5.9.1 Model Accuracy with  probability cutoff - 0.5"
   ]
  },
  {
   "cell_type": "code",
   "execution_count": 110,
   "metadata": {},
   "outputs": [
    {
     "data": {
      "text/plain": [
       "0.791275720164609"
      ]
     },
     "execution_count": 110,
     "metadata": {},
     "output_type": "execute_result"
    }
   ],
   "source": [
    "#Checking the overall accuracy.\n",
    "metrics.accuracy_score(Y_train_pred_final.Actual_Converted, Y_train_pred_final.Predicted)"
   ]
  },
  {
   "cell_type": "markdown",
   "metadata": {},
   "source": [
    "**79 % is a decent accuracy.Lets check the confusion matrix**"
   ]
  },
  {
   "cell_type": "markdown",
   "metadata": {},
   "source": [
    "#### 5.9.2 Confusion Matrix with  probability cutoff - 0.5"
   ]
  },
  {
   "cell_type": "code",
   "execution_count": 111,
   "metadata": {},
   "outputs": [
    {
     "data": {
      "text/plain": [
       "array([[3324,  432],\n",
       "       [ 836, 1483]], dtype=int64)"
      ]
     },
     "execution_count": 111,
     "metadata": {},
     "output_type": "execute_result"
    }
   ],
   "source": [
    "# Confusion matrix \n",
    "confusion = metrics.confusion_matrix(Y_train_pred_final.Actual_Converted, Y_train_pred_final.Predicted)\n",
    "confusion"
   ]
  },
  {
   "cell_type": "markdown",
   "metadata": {},
   "source": [
    "**836 leads have been identified as hot leads despite being cold leads.**\n",
    "\n",
    "**432 leads have been identified as cold leads despite being hot leads.**"
   ]
  },
  {
   "cell_type": "markdown",
   "metadata": {},
   "source": [
    "#### 5.9.3 Metrics beyond simply accuracy - calculating Sensitivity,Specificity"
   ]
  },
  {
   "cell_type": "code",
   "execution_count": 112,
   "metadata": {},
   "outputs": [],
   "source": [
    "# Getting TP/TN/FP/FN\n",
    "TP = confusion[1,1] # true positive \n",
    "TN = confusion[0,0] # true negatives\n",
    "FP = confusion[0,1] # false positives\n",
    "FN = confusion[1,0] # false negatives"
   ]
  },
  {
   "cell_type": "code",
   "execution_count": 113,
   "metadata": {},
   "outputs": [
    {
     "data": {
      "text/plain": [
       "0.6394997843898232"
      ]
     },
     "execution_count": 113,
     "metadata": {},
     "output_type": "execute_result"
    }
   ],
   "source": [
    "# Let's see the sensitivity of our logistic regression model\n",
    "sensitivity = TP / float(TP+FN)\n",
    "sensitivity"
   ]
  },
  {
   "cell_type": "markdown",
   "metadata": {},
   "source": [
    "**We have not got a good sensitivity. Only 64 % leads have been identified correctly as being the hot leads.**"
   ]
  },
  {
   "cell_type": "code",
   "execution_count": 114,
   "metadata": {},
   "outputs": [
    {
     "data": {
      "text/plain": [
       "0.8849840255591054"
      ]
     },
     "execution_count": 114,
     "metadata": {},
     "output_type": "execute_result"
    }
   ],
   "source": [
    "# Let us calculate specificity\n",
    "specificity = TN / float(TN+FP)\n",
    "specificity"
   ]
  },
  {
   "cell_type": "markdown",
   "metadata": {},
   "source": [
    "**We have achieved a good specificty. 88 % leads have been identified correctly as not being the hot leads.**"
   ]
  },
  {
   "cell_type": "code",
   "execution_count": 115,
   "metadata": {},
   "outputs": [
    {
     "name": "stdout",
     "output_type": "stream",
     "text": [
      "0.11501597444089456\n"
     ]
    }
   ],
   "source": [
    "# Calculate false postive rate - predicting converted when customer is not have converted\n",
    "print(FP/ float(TN+FP))"
   ]
  },
  {
   "cell_type": "markdown",
   "metadata": {},
   "source": [
    "**False postive rate is just 11 %. So only 11 % of leads have been identified as hot leads despite being cold leads.**"
   ]
  },
  {
   "cell_type": "code",
   "execution_count": 116,
   "metadata": {},
   "outputs": [
    {
     "name": "stdout",
     "output_type": "stream",
     "text": [
      "0.7744125326370758\n"
     ]
    }
   ],
   "source": [
    "# positive predictive value \n",
    "print (TP / float(TP+FP))"
   ]
  },
  {
   "cell_type": "markdown",
   "metadata": {},
   "source": [
    "**So 77 % of the leads have been identified correctly as hot leads, out of all predicted hot leads.**"
   ]
  },
  {
   "cell_type": "code",
   "execution_count": 117,
   "metadata": {},
   "outputs": [
    {
     "name": "stdout",
     "output_type": "stream",
     "text": [
      "0.7990384615384616\n"
     ]
    }
   ],
   "source": [
    "# Negative predictive value\n",
    "print (TN / float(TN+ FN))"
   ]
  },
  {
   "cell_type": "markdown",
   "metadata": {},
   "source": [
    "**So 80 % of the leads have been identified correctly as cold leads , out of all predicted cold leads.**"
   ]
  },
  {
   "cell_type": "markdown",
   "metadata": {},
   "source": [
    "#### 5.10 Finding the Optimal Cutoff Point"
   ]
  },
  {
   "cell_type": "markdown",
   "metadata": {},
   "source": [
    "#### 5.10.1 Finding different probability cutoffs "
   ]
  },
  {
   "cell_type": "code",
   "execution_count": 118,
   "metadata": {},
   "outputs": [
    {
     "data": {
      "text/html": [
       "<div>\n",
       "<style scoped>\n",
       "    .dataframe tbody tr th:only-of-type {\n",
       "        vertical-align: middle;\n",
       "    }\n",
       "\n",
       "    .dataframe tbody tr th {\n",
       "        vertical-align: top;\n",
       "    }\n",
       "\n",
       "    .dataframe thead th {\n",
       "        text-align: right;\n",
       "    }\n",
       "</style>\n",
       "<table border=\"1\" class=\"dataframe\">\n",
       "  <thead>\n",
       "    <tr style=\"text-align: right;\">\n",
       "      <th></th>\n",
       "      <th>Prospect ID</th>\n",
       "      <th>Actual_Converted</th>\n",
       "      <th>Predicted_Converted_Prob</th>\n",
       "      <th>Predicted</th>\n",
       "      <th>0.0</th>\n",
       "      <th>0.1</th>\n",
       "      <th>0.2</th>\n",
       "      <th>0.3</th>\n",
       "      <th>0.4</th>\n",
       "      <th>0.5</th>\n",
       "      <th>0.6</th>\n",
       "      <th>0.7</th>\n",
       "      <th>0.8</th>\n",
       "      <th>0.9</th>\n",
       "    </tr>\n",
       "  </thead>\n",
       "  <tbody>\n",
       "    <tr>\n",
       "      <th>5182</th>\n",
       "      <td>031ff09b-ea97-4a95-a03e-8dae56dd8f8d</td>\n",
       "      <td>0</td>\n",
       "      <td>0.124912</td>\n",
       "      <td>0</td>\n",
       "      <td>1</td>\n",
       "      <td>1</td>\n",
       "      <td>0</td>\n",
       "      <td>0</td>\n",
       "      <td>0</td>\n",
       "      <td>0</td>\n",
       "      <td>0</td>\n",
       "      <td>0</td>\n",
       "      <td>0</td>\n",
       "      <td>0</td>\n",
       "    </tr>\n",
       "    <tr>\n",
       "      <th>8469</th>\n",
       "      <td>fa22777e-b1e3-4141-baf7-d8abc2efcb73</td>\n",
       "      <td>0</td>\n",
       "      <td>0.053464</td>\n",
       "      <td>0</td>\n",
       "      <td>1</td>\n",
       "      <td>0</td>\n",
       "      <td>0</td>\n",
       "      <td>0</td>\n",
       "      <td>0</td>\n",
       "      <td>0</td>\n",
       "      <td>0</td>\n",
       "      <td>0</td>\n",
       "      <td>0</td>\n",
       "      <td>0</td>\n",
       "    </tr>\n",
       "    <tr>\n",
       "      <th>8382</th>\n",
       "      <td>1c1c215f-115b-445d-b30c-d31361b9ec6e</td>\n",
       "      <td>0</td>\n",
       "      <td>0.642091</td>\n",
       "      <td>1</td>\n",
       "      <td>1</td>\n",
       "      <td>1</td>\n",
       "      <td>1</td>\n",
       "      <td>1</td>\n",
       "      <td>1</td>\n",
       "      <td>1</td>\n",
       "      <td>1</td>\n",
       "      <td>0</td>\n",
       "      <td>0</td>\n",
       "      <td>0</td>\n",
       "    </tr>\n",
       "    <tr>\n",
       "      <th>8031</th>\n",
       "      <td>daae83bb-59b6-4acb-94c8-f2ef2b548d99</td>\n",
       "      <td>0</td>\n",
       "      <td>0.224224</td>\n",
       "      <td>0</td>\n",
       "      <td>1</td>\n",
       "      <td>1</td>\n",
       "      <td>1</td>\n",
       "      <td>0</td>\n",
       "      <td>0</td>\n",
       "      <td>0</td>\n",
       "      <td>0</td>\n",
       "      <td>0</td>\n",
       "      <td>0</td>\n",
       "      <td>0</td>\n",
       "    </tr>\n",
       "    <tr>\n",
       "      <th>6712</th>\n",
       "      <td>ff292035-b1f0-409e-94f3-a5149d72bf0b</td>\n",
       "      <td>1</td>\n",
       "      <td>0.995251</td>\n",
       "      <td>1</td>\n",
       "      <td>1</td>\n",
       "      <td>1</td>\n",
       "      <td>1</td>\n",
       "      <td>1</td>\n",
       "      <td>1</td>\n",
       "      <td>1</td>\n",
       "      <td>1</td>\n",
       "      <td>1</td>\n",
       "      <td>1</td>\n",
       "      <td>1</td>\n",
       "    </tr>\n",
       "  </tbody>\n",
       "</table>\n",
       "</div>"
      ],
      "text/plain": [
       "                               Prospect ID  Actual_Converted  \\\n",
       "5182  031ff09b-ea97-4a95-a03e-8dae56dd8f8d                 0   \n",
       "8469  fa22777e-b1e3-4141-baf7-d8abc2efcb73                 0   \n",
       "8382  1c1c215f-115b-445d-b30c-d31361b9ec6e                 0   \n",
       "8031  daae83bb-59b6-4acb-94c8-f2ef2b548d99                 0   \n",
       "6712  ff292035-b1f0-409e-94f3-a5149d72bf0b                 1   \n",
       "\n",
       "      Predicted_Converted_Prob  Predicted  0.0  0.1  0.2  0.3  0.4  0.5  0.6  \\\n",
       "5182                  0.124912          0    1    1    0    0    0    0    0   \n",
       "8469                  0.053464          0    1    0    0    0    0    0    0   \n",
       "8382                  0.642091          1    1    1    1    1    1    1    1   \n",
       "8031                  0.224224          0    1    1    1    0    0    0    0   \n",
       "6712                  0.995251          1    1    1    1    1    1    1    1   \n",
       "\n",
       "      0.7  0.8  0.9  \n",
       "5182    0    0    0  \n",
       "8469    0    0    0  \n",
       "8382    0    0    0  \n",
       "8031    0    0    0  \n",
       "6712    1    1    1  "
      ]
     },
     "execution_count": 118,
     "metadata": {},
     "output_type": "execute_result"
    }
   ],
   "source": [
    "# Let's create columns with different probability cutoffs \n",
    "numbers = [float(x)/10 for x in range(10)]\n",
    "for i in numbers:\n",
    "    Y_train_pred_final[i]= Y_train_pred_final.Predicted_Converted_Prob.map(lambda x: 1 if x > i else 0)\n",
    "Y_train_pred_final.head()"
   ]
  },
  {
   "cell_type": "code",
   "execution_count": 119,
   "metadata": {},
   "outputs": [
    {
     "name": "stdout",
     "output_type": "stream",
     "text": [
      "     prob  accuracy     sensi     speci\n",
      "0.0   0.0  0.381728  1.000000  0.000000\n",
      "0.1   0.1  0.447078  0.989219  0.112354\n",
      "0.2   0.2  0.724444  0.829668  0.659478\n",
      "0.3   0.3  0.794568  0.778784  0.804313\n",
      "0.4   0.4  0.797531  0.708064  0.852769\n",
      "0.5   0.5  0.791276  0.639500  0.884984\n",
      "0.6   0.6  0.773169  0.539025  0.917732\n",
      "0.7   0.7  0.757531  0.441570  0.952609\n",
      "0.8   0.8  0.739259  0.353169  0.977636\n",
      "0.9   0.9  0.712099  0.258732  0.992013\n"
     ]
    }
   ],
   "source": [
    "# Now let's calculate accuracy sensitivity and specificity for various probability cutoffs.\n",
    "cutoff_df = pd.DataFrame( columns = ['prob','accuracy','sensi','speci'])\n",
    "from sklearn.metrics import confusion_matrix\n",
    "\n",
    "num = [0.0,0.1,0.2,0.3,0.4,0.5,0.6,0.7,0.8,0.9]\n",
    "for i in num:\n",
    "    cm1 = metrics.confusion_matrix(Y_train_pred_final.Actual_Converted, Y_train_pred_final[i] )\n",
    "    total1=sum(sum(cm1))\n",
    "    accuracy = (cm1[0,0]+cm1[1,1])/total1\n",
    "    \n",
    "    speci = cm1[0,0]/(cm1[0,0]+cm1[0,1])\n",
    "    sensi = cm1[1,1]/(cm1[1,0]+cm1[1,1])\n",
    "    cutoff_df.loc[i] =[ i ,accuracy,sensi,speci]\n",
    "print(cutoff_df)"
   ]
  },
  {
   "cell_type": "code",
   "execution_count": 120,
   "metadata": {},
   "outputs": [
    {
     "data": {
      "image/png": "[encoded data removed]",
      "text/plain": [
       "<Figure size 432x288 with 1 Axes>"
      ]
     },
     "metadata": {
      "needs_background": "light"
     },
     "output_type": "display_data"
    }
   ],
   "source": [
    "# Let's plot accuracy sensitivity and specificity for various probabilities.\n",
    "cutoff_df.plot.line(x='prob', y=['accuracy','sensi','speci'])\n",
    "\n",
    "plt.show()"
   ]
  },
  {
   "cell_type": "markdown",
   "metadata": {},
   "source": [
    "**So we have got the optimal cutoff as 0.23**"
   ]
  },
  {
   "cell_type": "code",
   "execution_count": 121,
   "metadata": {},
   "outputs": [
    {
     "data": {
      "text/html": [
       "<div>\n",
       "<style scoped>\n",
       "    .dataframe tbody tr th:only-of-type {\n",
       "        vertical-align: middle;\n",
       "    }\n",
       "\n",
       "    .dataframe tbody tr th {\n",
       "        vertical-align: top;\n",
       "    }\n",
       "\n",
       "    .dataframe thead th {\n",
       "        text-align: right;\n",
       "    }\n",
       "</style>\n",
       "<table border=\"1\" class=\"dataframe\">\n",
       "  <thead>\n",
       "    <tr style=\"text-align: right;\">\n",
       "      <th></th>\n",
       "      <th>Prospect ID</th>\n",
       "      <th>Actual_Converted</th>\n",
       "      <th>Predicted_Converted_Prob</th>\n",
       "      <th>Predicted</th>\n",
       "      <th>0.0</th>\n",
       "      <th>0.1</th>\n",
       "      <th>0.2</th>\n",
       "      <th>0.3</th>\n",
       "      <th>0.4</th>\n",
       "      <th>0.5</th>\n",
       "      <th>0.6</th>\n",
       "      <th>0.7</th>\n",
       "      <th>0.8</th>\n",
       "      <th>0.9</th>\n",
       "      <th>Final_Predicted</th>\n",
       "    </tr>\n",
       "  </thead>\n",
       "  <tbody>\n",
       "    <tr>\n",
       "      <th>5182</th>\n",
       "      <td>031ff09b-ea97-4a95-a03e-8dae56dd8f8d</td>\n",
       "      <td>0</td>\n",
       "      <td>0.124912</td>\n",
       "      <td>0</td>\n",
       "      <td>1</td>\n",
       "      <td>1</td>\n",
       "      <td>0</td>\n",
       "      <td>0</td>\n",
       "      <td>0</td>\n",
       "      <td>0</td>\n",
       "      <td>0</td>\n",
       "      <td>0</td>\n",
       "      <td>0</td>\n",
       "      <td>0</td>\n",
       "      <td>0</td>\n",
       "    </tr>\n",
       "    <tr>\n",
       "      <th>8469</th>\n",
       "      <td>fa22777e-b1e3-4141-baf7-d8abc2efcb73</td>\n",
       "      <td>0</td>\n",
       "      <td>0.053464</td>\n",
       "      <td>0</td>\n",
       "      <td>1</td>\n",
       "      <td>0</td>\n",
       "      <td>0</td>\n",
       "      <td>0</td>\n",
       "      <td>0</td>\n",
       "      <td>0</td>\n",
       "      <td>0</td>\n",
       "      <td>0</td>\n",
       "      <td>0</td>\n",
       "      <td>0</td>\n",
       "      <td>0</td>\n",
       "    </tr>\n",
       "    <tr>\n",
       "      <th>8382</th>\n",
       "      <td>1c1c215f-115b-445d-b30c-d31361b9ec6e</td>\n",
       "      <td>0</td>\n",
       "      <td>0.642091</td>\n",
       "      <td>1</td>\n",
       "      <td>1</td>\n",
       "      <td>1</td>\n",
       "      <td>1</td>\n",
       "      <td>1</td>\n",
       "      <td>1</td>\n",
       "      <td>1</td>\n",
       "      <td>1</td>\n",
       "      <td>0</td>\n",
       "      <td>0</td>\n",
       "      <td>0</td>\n",
       "      <td>1</td>\n",
       "    </tr>\n",
       "    <tr>\n",
       "      <th>8031</th>\n",
       "      <td>daae83bb-59b6-4acb-94c8-f2ef2b548d99</td>\n",
       "      <td>0</td>\n",
       "      <td>0.224224</td>\n",
       "      <td>0</td>\n",
       "      <td>1</td>\n",
       "      <td>1</td>\n",
       "      <td>1</td>\n",
       "      <td>0</td>\n",
       "      <td>0</td>\n",
       "      <td>0</td>\n",
       "      <td>0</td>\n",
       "      <td>0</td>\n",
       "      <td>0</td>\n",
       "      <td>0</td>\n",
       "      <td>0</td>\n",
       "    </tr>\n",
       "    <tr>\n",
       "      <th>6712</th>\n",
       "      <td>ff292035-b1f0-409e-94f3-a5149d72bf0b</td>\n",
       "      <td>1</td>\n",
       "      <td>0.995251</td>\n",
       "      <td>1</td>\n",
       "      <td>1</td>\n",
       "      <td>1</td>\n",
       "      <td>1</td>\n",
       "      <td>1</td>\n",
       "      <td>1</td>\n",
       "      <td>1</td>\n",
       "      <td>1</td>\n",
       "      <td>1</td>\n",
       "      <td>1</td>\n",
       "      <td>1</td>\n",
       "      <td>1</td>\n",
       "    </tr>\n",
       "  </tbody>\n",
       "</table>\n",
       "</div>"
      ],
      "text/plain": [
       "                               Prospect ID  Actual_Converted  \\\n",
       "5182  031ff09b-ea97-4a95-a03e-8dae56dd8f8d                 0   \n",
       "8469  fa22777e-b1e3-4141-baf7-d8abc2efcb73                 0   \n",
       "8382  1c1c215f-115b-445d-b30c-d31361b9ec6e                 0   \n",
       "8031  daae83bb-59b6-4acb-94c8-f2ef2b548d99                 0   \n",
       "6712  ff292035-b1f0-409e-94f3-a5149d72bf0b                 1   \n",
       "\n",
       "      Predicted_Converted_Prob  Predicted  0.0  0.1  0.2  0.3  0.4  0.5  0.6  \\\n",
       "5182                  0.124912          0    1    1    0    0    0    0    0   \n",
       "8469                  0.053464          0    1    0    0    0    0    0    0   \n",
       "8382                  0.642091          1    1    1    1    1    1    1    1   \n",
       "8031                  0.224224          0    1    1    1    0    0    0    0   \n",
       "6712                  0.995251          1    1    1    1    1    1    1    1   \n",
       "\n",
       "      0.7  0.8  0.9  Final_Predicted  \n",
       "5182    0    0    0                0  \n",
       "8469    0    0    0                0  \n",
       "8382    0    0    0                1  \n",
       "8031    0    0    0                0  \n",
       "6712    1    1    1                1  "
      ]
     },
     "execution_count": 121,
     "metadata": {},
     "output_type": "execute_result"
    }
   ],
   "source": [
    "Y_train_pred_final['Final_Predicted'] = Y_train_pred_final.Predicted_Converted_Prob.map( lambda x: 1 if x > 0.23 else 0)\n",
    "\n",
    "Y_train_pred_final.head()"
   ]
  },
  {
   "cell_type": "markdown",
   "metadata": {},
   "source": [
    "#### 5.10.2 Plotting the ROC Curve"
   ]
  },
  {
   "cell_type": "markdown",
   "metadata": {},
   "source": [
    "An ROC curve demonstrates several things:\n",
    "\n",
    "It shows the tradeoff between sensitivity and specificity (any increase in sensitivity will be accompanied by a decrease in specificity).\n",
    "The closer the curve follows the left-hand border and then the top border of the ROC space, the more accurate the test.\n",
    "The closer the curve comes to the 45-degree diagonal of the ROC space, the less accurate the test."
   ]
  },
  {
   "cell_type": "code",
   "execution_count": 122,
   "metadata": {},
   "outputs": [],
   "source": [
    "def draw_roc( actual, probs ):\n",
    "    fpr, tpr, thresholds = metrics.roc_curve( actual, probs,\n",
    "                                              drop_intermediate = False )\n",
    "    auc_score = metrics.roc_auc_score( actual, probs )\n",
    "    plt.figure(figsize=(5, 5))\n",
    "    plt.plot( fpr, tpr, label='ROC curve (area = %0.2f)' % auc_score )\n",
    "    plt.plot([0, 1], [0, 1], 'k--')\n",
    "    plt.xlim([0.0, 1.0])\n",
    "    plt.ylim([0.0, 1.05])\n",
    "    plt.xlabel('False Positive Rate or [1 - True Negative Rate]')\n",
    "    plt.ylabel('True Positive Rate')\n",
    "    plt.title('Receiver operating characteristic example')\n",
    "    plt.legend(loc=\"lower right\")\n",
    "    \n",
    "    plt.show()\n",
    "\n",
    "    return None"
   ]
  },
  {
   "cell_type": "code",
   "execution_count": 123,
   "metadata": {},
   "outputs": [],
   "source": [
    "fpr, tpr, thresholds = metrics.roc_curve( Y_train_pred_final.Actual_Converted, Y_train_pred_final.Predicted_Converted_Prob, drop_intermediate = False )"
   ]
  },
  {
   "cell_type": "code",
   "execution_count": 124,
   "metadata": {},
   "outputs": [
    {
     "data": {
      "image/png": "[encoded data removed]",
      "text/plain": [
       "<Figure size 360x360 with 1 Axes>"
      ]
     },
     "metadata": {
      "needs_background": "light"
     },
     "output_type": "display_data"
    }
   ],
   "source": [
    "# drawing ROC curve\n",
    "draw_roc(Y_train_pred_final.Actual_Converted, Y_train_pred_final.Predicted_Converted_Prob)"
   ]
  },
  {
   "cell_type": "markdown",
   "metadata": {},
   "source": [
    "**The ROC Curve should be a value close to 1. We have got a value of 0.84 indicating a good predictive model.**"
   ]
  },
  {
   "cell_type": "markdown",
   "metadata": {},
   "source": [
    "#### 5.10.3 Getting the Accuracy"
   ]
  },
  {
   "cell_type": "code",
   "execution_count": 125,
   "metadata": {},
   "outputs": [
    {
     "data": {
      "text/plain": [
       "0.7609876543209877"
      ]
     },
     "execution_count": 125,
     "metadata": {},
     "output_type": "execute_result"
    }
   ],
   "source": [
    "# Let's check the overall accuracy.\n",
    "metrics.accuracy_score(Y_train_pred_final.Actual_Converted, Y_train_pred_final.Final_Predicted)"
   ]
  },
  {
   "cell_type": "markdown",
   "metadata": {},
   "source": [
    "**Accuracy is around 76 % which is good. However we will also need to calculate the other metrics as we cannot depend only on the accuracy metric. We dont have very balanced data set. We need to predict all hot leads correctly, so we have to get higher sensitivity.**"
   ]
  },
  {
   "cell_type": "code",
   "execution_count": 126,
   "metadata": {},
   "outputs": [
    {
     "data": {
      "text/plain": [
       "array([[2743, 1013],\n",
       "       [ 439, 1880]], dtype=int64)"
      ]
     },
     "execution_count": 126,
     "metadata": {},
     "output_type": "execute_result"
    }
   ],
   "source": [
    "# Getting confusion matrix\n",
    "confusion2 = metrics.confusion_matrix(Y_train_pred_final.Actual_Converted, Y_train_pred_final.Final_Predicted )\n",
    "confusion2"
   ]
  },
  {
   "cell_type": "markdown",
   "metadata": {},
   "source": [
    "#### 5.10.4 Metrics beyond simply accuracy"
   ]
  },
  {
   "cell_type": "code",
   "execution_count": 127,
   "metadata": {},
   "outputs": [],
   "source": [
    "TP = confusion2[1,1] # true positive \n",
    "TN = confusion2[0,0] # true negatives\n",
    "FP = confusion2[0,1] # false positives\n",
    "FN = confusion2[1,0] # false negatives"
   ]
  },
  {
   "cell_type": "code",
   "execution_count": 128,
   "metadata": {},
   "outputs": [
    {
     "data": {
      "text/plain": [
       "0.8106942647692971"
      ]
     },
     "execution_count": 128,
     "metadata": {},
     "output_type": "execute_result"
    }
   ],
   "source": [
    "# Let's see the sensitivity of our logistic regression model\n",
    "TP / float(TP+FN)"
   ]
  },
  {
   "cell_type": "markdown",
   "metadata": {},
   "source": [
    "**We have got a good sensitivity. Only 81% leads have been identified correctly as being the hot leads.**"
   ]
  },
  {
   "cell_type": "code",
   "execution_count": 129,
   "metadata": {},
   "outputs": [
    {
     "data": {
      "text/plain": [
       "0.7302981895633652"
      ]
     },
     "execution_count": 129,
     "metadata": {},
     "output_type": "execute_result"
    }
   ],
   "source": [
    "# Let us calculate specificity\n",
    "TN / float(TN+FP)"
   ]
  },
  {
   "cell_type": "markdown",
   "metadata": {},
   "source": [
    "**We have achieved a good specificty. 73 % leads have been identified correctly as not being the hot leads.**"
   ]
  },
  {
   "cell_type": "code",
   "execution_count": 130,
   "metadata": {},
   "outputs": [
    {
     "name": "stdout",
     "output_type": "stream",
     "text": [
      "0.2697018104366347\n"
     ]
    }
   ],
   "source": [
    "# Calculate false postive rate - predicting churn when customer does not have churned\n",
    "print(FP/ float(TN+FP))"
   ]
  },
  {
   "cell_type": "markdown",
   "metadata": {},
   "source": [
    "**False postive rate is just 26 %. So only 26 % of leads have been identified as hot leads despite being cold leads.**"
   ]
  },
  {
   "cell_type": "code",
   "execution_count": 131,
   "metadata": {},
   "outputs": [
    {
     "name": "stdout",
     "output_type": "stream",
     "text": [
      "0.649844452125821\n"
     ]
    }
   ],
   "source": [
    "# positive predictive value \n",
    "print (TP / float(TP+FP))"
   ]
  },
  {
   "cell_type": "markdown",
   "metadata": {},
   "source": [
    "**So 64 % of the leads have been identified correctly as hot leads, out of all predicted hot leads.**"
   ]
  },
  {
   "cell_type": "code",
   "execution_count": 132,
   "metadata": {},
   "outputs": [
    {
     "name": "stdout",
     "output_type": "stream",
     "text": [
      "0.8620364550597108\n"
     ]
    }
   ],
   "source": [
    "# Negative predictive value\n",
    "print (TN / float(TN+ FN))"
   ]
  },
  {
   "cell_type": "markdown",
   "metadata": {},
   "source": [
    "**So 86 % of the leads have been identified correctly as cold leads , out of all predicted cold leads.**"
   ]
  },
  {
   "cell_type": "markdown",
   "metadata": {},
   "source": [
    "#### 5.5.4 Calcualting other Metrics - Precision and Recall"
   ]
  },
  {
   "cell_type": "code",
   "execution_count": 133,
   "metadata": {},
   "outputs": [
    {
     "data": {
      "text/plain": [
       "array([[2743, 1013],\n",
       "       [ 439, 1880]], dtype=int64)"
      ]
     },
     "execution_count": 133,
     "metadata": {},
     "output_type": "execute_result"
    }
   ],
   "source": [
    "#Looking at the confusion matrix again\n",
    "confusion = metrics.confusion_matrix(Y_train_pred_final.Actual_Converted, Y_train_pred_final.Final_Predicted )\n",
    "confusion"
   ]
  },
  {
   "cell_type": "code",
   "execution_count": 134,
   "metadata": {},
   "outputs": [
    {
     "data": {
      "text/plain": [
       "0.649844452125821"
      ]
     },
     "execution_count": 134,
     "metadata": {},
     "output_type": "execute_result"
    }
   ],
   "source": [
    "# precision\n",
    "\n",
    "precision_score(Y_train_pred_final.Actual_Converted, Y_train_pred_final.Final_Predicted )"
   ]
  },
  {
   "cell_type": "markdown",
   "metadata": {},
   "source": [
    "**We have got a precisiosn score of 65 %**"
   ]
  },
  {
   "cell_type": "code",
   "execution_count": 135,
   "metadata": {},
   "outputs": [
    {
     "data": {
      "text/plain": [
       "0.8106942647692971"
      ]
     },
     "execution_count": 135,
     "metadata": {},
     "output_type": "execute_result"
    }
   ],
   "source": [
    "recall_score(Y_train_pred_final.Actual_Converted, Y_train_pred_final.Final_Predicted )"
   ]
  },
  {
   "cell_type": "markdown",
   "metadata": {},
   "source": [
    "**We have got a recall score of 81 %**"
   ]
  },
  {
   "cell_type": "markdown",
   "metadata": {},
   "source": [
    "#### 5.10.5 Precision and recall tradeoff"
   ]
  },
  {
   "cell_type": "code",
   "execution_count": 136,
   "metadata": {},
   "outputs": [],
   "source": [
    "p, r, thresholds = precision_recall_curve(Y_train_pred_final.Actual_Converted, Y_train_pred_final.Predicted_Converted_Prob)"
   ]
  },
  {
   "cell_type": "code",
   "execution_count": 137,
   "metadata": {},
   "outputs": [
    {
     "data": {
      "image/png": "[encoded data removed]",
      "text/plain": [
       "<Figure size 432x288 with 1 Axes>"
      ]
     },
     "metadata": {
      "needs_background": "light"
     },
     "output_type": "display_data"
    }
   ],
   "source": [
    "# Plotting precision recall trade off\n",
    "plt.plot(thresholds, p[:-1], \"g-\")\n",
    "plt.plot(thresholds, r[:-1], \"r-\")\n",
    "plt.show()"
   ]
  },
  {
   "cell_type": "markdown",
   "metadata": {},
   "source": [
    "**We have got the cutoff probability between 0.2 and 0.4**"
   ]
  },
  {
   "cell_type": "markdown",
   "metadata": {},
   "source": [
    "#### 5.10.6 Calculating feature importance"
   ]
  },
  {
   "cell_type": "code",
   "execution_count": 138,
   "metadata": {},
   "outputs": [
    {
     "data": {
      "text/plain": [
       "Do Not Email                                           -1.17\n",
       "Total Time Spent on Website                             1.03\n",
       "Lead Origin_Landing Page Submission                    -0.77\n",
       "Lead Source_Google                                      0.33\n",
       "Lead Source_Olark Chat                                  0.85\n",
       "Lead Source_Organic Search                              0.32\n",
       "Lead Source_Reference                                   3.80\n",
       "Lead Source_Welingak Website                            7.02\n",
       "What is your current occupation_Working Professional    2.69\n",
       "Specialization_Others                                  -1.10\n",
       "dtype: float64"
      ]
     },
     "execution_count": 138,
     "metadata": {},
     "output_type": "execute_result"
    }
   ],
   "source": [
    "#Selecting the coefficients of the selected features from our final model excluding the intercept\n",
    "pd.options.display.float_format = '{:.2f}'.format\n",
    "new_params = res.params[1:]\n",
    "new_params"
   ]
  },
  {
   "cell_type": "code",
   "execution_count": 139,
   "metadata": {},
   "outputs": [
    {
     "data": {
      "text/plain": [
       "Do Not Email                                           -16.64\n",
       "Total Time Spent on Website                             14.69\n",
       "Lead Origin_Landing Page Submission                    -11.04\n",
       "Lead Source_Google                                       4.72\n",
       "Lead Source_Olark Chat                                  12.13\n",
       "Lead Source_Organic Search                               4.51\n",
       "Lead Source_Reference                                   54.09\n",
       "Lead Source_Welingak Website                           100.00\n",
       "What is your current occupation_Working Professional    38.31\n",
       "Specialization_Others                                  -15.70\n",
       "dtype: float64"
      ]
     },
     "execution_count": 139,
     "metadata": {},
     "output_type": "execute_result"
    }
   ],
   "source": [
    "#Getting a relative coeffient value for all the features wrt the feature with the highest coefficient\n",
    "feature_importance = new_params\n",
    "feature_importance = 100.0 * (feature_importance / feature_importance.max())\n",
    "feature_importance"
   ]
  },
  {
   "cell_type": "code",
   "execution_count": 140,
   "metadata": {},
   "outputs": [
    {
     "data": {
      "text/plain": [
       "Do Not Email                                            0\n",
       "Total Time Spent on Website                             9\n",
       "Lead Origin_Landing Page Submission                     2\n",
       "Lead Source_Google                                      5\n",
       "Lead Source_Olark Chat                                  3\n",
       "Lead Source_Organic Search                              4\n",
       "Lead Source_Reference                                   1\n",
       "Lead Source_Welingak Website                            8\n",
       "What is your current occupation_Working Professional    6\n",
       "Specialization_Others                                   7\n",
       "dtype: int64"
      ]
     },
     "execution_count": 140,
     "metadata": {},
     "output_type": "execute_result"
    }
   ],
   "source": [
    "#Sorting the feature variables based on their relative coefficient values\n",
    "sorted_idx = np.argsort(feature_importance,kind='quicksort',order='list of str')\n",
    "sorted_idx"
   ]
  },
  {
   "cell_type": "code",
   "execution_count": 141,
   "metadata": {},
   "outputs": [
    {
     "data": {
      "image/png": "[encoded data removed]",
      "text/plain": [
       "<Figure size 720x432 with 1 Axes>"
      ]
     },
     "metadata": {
      "needs_background": "light"
     },
     "output_type": "display_data"
    }
   ],
   "source": [
    "#Plot showing the feature variables based on their relative coefficient values\n",
    "pos = np.arange(sorted_idx.shape[0]) + .5\n",
    "\n",
    "featfig = plt.figure(figsize=(10,6))\n",
    "featax = featfig.add_subplot(1, 1, 1)\n",
    "featax.barh(pos, feature_importance[sorted_idx], align='center', color = 'tab:blue',alpha=0.8)\n",
    "featax.set_yticks(pos)\n",
    "featax.set_yticklabels(np.array(X_train[col].columns)[sorted_idx], fontsize=12)\n",
    "featax.set_xlabel('Relative Feature Importance', fontsize=14)\n",
    "\n",
    "plt.tight_layout()   \n",
    "plt.show()"
   ]
  },
  {
   "cell_type": "code",
   "execution_count": 142,
   "metadata": {},
   "outputs": [
    {
     "data": {
      "text/html": [
       "<div>\n",
       "<style scoped>\n",
       "    .dataframe tbody tr th:only-of-type {\n",
       "        vertical-align: middle;\n",
       "    }\n",
       "\n",
       "    .dataframe tbody tr th {\n",
       "        vertical-align: top;\n",
       "    }\n",
       "\n",
       "    .dataframe thead th {\n",
       "        text-align: right;\n",
       "    }\n",
       "</style>\n",
       "<table border=\"1\" class=\"dataframe\">\n",
       "  <thead>\n",
       "    <tr style=\"text-align: right;\">\n",
       "      <th></th>\n",
       "      <th>index</th>\n",
       "      <th>Importance</th>\n",
       "    </tr>\n",
       "  </thead>\n",
       "  <tbody>\n",
       "    <tr>\n",
       "      <th>7</th>\n",
       "      <td>Lead Source_Welingak Website</td>\n",
       "      <td>100.00</td>\n",
       "    </tr>\n",
       "    <tr>\n",
       "      <th>6</th>\n",
       "      <td>Lead Source_Reference</td>\n",
       "      <td>54.09</td>\n",
       "    </tr>\n",
       "    <tr>\n",
       "      <th>8</th>\n",
       "      <td>What is your current occupation_Working Profes...</td>\n",
       "      <td>38.31</td>\n",
       "    </tr>\n",
       "  </tbody>\n",
       "</table>\n",
       "</div>"
      ],
      "text/plain": [
       "                                               index  Importance\n",
       "7                       Lead Source_Welingak Website      100.00\n",
       "6                              Lead Source_Reference       54.09\n",
       "8  What is your current occupation_Working Profes...       38.31"
      ]
     },
     "execution_count": 142,
     "metadata": {},
     "output_type": "execute_result"
    }
   ],
   "source": [
    "#Selecting Top 3 features which contribute most towards the probability of a lead getting converted\n",
    "df = pd.DataFrame(feature_importance).reset_index().sort_values(by=0,ascending=False).head(3)\n",
    "df.rename(columns={0: 'Importance'},inplace = True)\n",
    "df.head()"
   ]
  },
  {
   "cell_type": "markdown",
   "metadata": {},
   "source": [
    "### 6. Calculating Lead score for train data set"
   ]
  },
  {
   "cell_type": "code",
   "execution_count": 143,
   "metadata": {},
   "outputs": [
    {
     "data": {
      "text/html": [
       "<div>\n",
       "<style scoped>\n",
       "    .dataframe tbody tr th:only-of-type {\n",
       "        vertical-align: middle;\n",
       "    }\n",
       "\n",
       "    .dataframe tbody tr th {\n",
       "        vertical-align: top;\n",
       "    }\n",
       "\n",
       "    .dataframe thead th {\n",
       "        text-align: right;\n",
       "    }\n",
       "</style>\n",
       "<table border=\"1\" class=\"dataframe\">\n",
       "  <thead>\n",
       "    <tr style=\"text-align: right;\">\n",
       "      <th></th>\n",
       "      <th>Prospect ID</th>\n",
       "      <th>Actual_Converted</th>\n",
       "      <th>Predicted_Converted_Prob</th>\n",
       "      <th>Predicted</th>\n",
       "      <th>0.0</th>\n",
       "      <th>0.1</th>\n",
       "      <th>0.2</th>\n",
       "      <th>0.3</th>\n",
       "      <th>0.4</th>\n",
       "      <th>0.5</th>\n",
       "      <th>0.6</th>\n",
       "      <th>0.7</th>\n",
       "      <th>0.8</th>\n",
       "      <th>0.9</th>\n",
       "      <th>Final_Predicted</th>\n",
       "      <th>Lead Score</th>\n",
       "    </tr>\n",
       "  </thead>\n",
       "  <tbody>\n",
       "    <tr>\n",
       "      <th>5182</th>\n",
       "      <td>031ff09b-ea97-4a95-a03e-8dae56dd8f8d</td>\n",
       "      <td>0</td>\n",
       "      <td>0.12</td>\n",
       "      <td>0</td>\n",
       "      <td>1</td>\n",
       "      <td>1</td>\n",
       "      <td>0</td>\n",
       "      <td>0</td>\n",
       "      <td>0</td>\n",
       "      <td>0</td>\n",
       "      <td>0</td>\n",
       "      <td>0</td>\n",
       "      <td>0</td>\n",
       "      <td>0</td>\n",
       "      <td>0</td>\n",
       "      <td>12</td>\n",
       "    </tr>\n",
       "    <tr>\n",
       "      <th>8469</th>\n",
       "      <td>fa22777e-b1e3-4141-baf7-d8abc2efcb73</td>\n",
       "      <td>0</td>\n",
       "      <td>0.05</td>\n",
       "      <td>0</td>\n",
       "      <td>1</td>\n",
       "      <td>0</td>\n",
       "      <td>0</td>\n",
       "      <td>0</td>\n",
       "      <td>0</td>\n",
       "      <td>0</td>\n",
       "      <td>0</td>\n",
       "      <td>0</td>\n",
       "      <td>0</td>\n",
       "      <td>0</td>\n",
       "      <td>0</td>\n",
       "      <td>5</td>\n",
       "    </tr>\n",
       "    <tr>\n",
       "      <th>8382</th>\n",
       "      <td>1c1c215f-115b-445d-b30c-d31361b9ec6e</td>\n",
       "      <td>0</td>\n",
       "      <td>0.64</td>\n",
       "      <td>1</td>\n",
       "      <td>1</td>\n",
       "      <td>1</td>\n",
       "      <td>1</td>\n",
       "      <td>1</td>\n",
       "      <td>1</td>\n",
       "      <td>1</td>\n",
       "      <td>1</td>\n",
       "      <td>0</td>\n",
       "      <td>0</td>\n",
       "      <td>0</td>\n",
       "      <td>1</td>\n",
       "      <td>64</td>\n",
       "    </tr>\n",
       "    <tr>\n",
       "      <th>8031</th>\n",
       "      <td>daae83bb-59b6-4acb-94c8-f2ef2b548d99</td>\n",
       "      <td>0</td>\n",
       "      <td>0.22</td>\n",
       "      <td>0</td>\n",
       "      <td>1</td>\n",
       "      <td>1</td>\n",
       "      <td>1</td>\n",
       "      <td>0</td>\n",
       "      <td>0</td>\n",
       "      <td>0</td>\n",
       "      <td>0</td>\n",
       "      <td>0</td>\n",
       "      <td>0</td>\n",
       "      <td>0</td>\n",
       "      <td>0</td>\n",
       "      <td>22</td>\n",
       "    </tr>\n",
       "    <tr>\n",
       "      <th>6712</th>\n",
       "      <td>ff292035-b1f0-409e-94f3-a5149d72bf0b</td>\n",
       "      <td>1</td>\n",
       "      <td>1.00</td>\n",
       "      <td>1</td>\n",
       "      <td>1</td>\n",
       "      <td>1</td>\n",
       "      <td>1</td>\n",
       "      <td>1</td>\n",
       "      <td>1</td>\n",
       "      <td>1</td>\n",
       "      <td>1</td>\n",
       "      <td>1</td>\n",
       "      <td>1</td>\n",
       "      <td>1</td>\n",
       "      <td>1</td>\n",
       "      <td>100</td>\n",
       "    </tr>\n",
       "  </tbody>\n",
       "</table>\n",
       "</div>"
      ],
      "text/plain": [
       "                               Prospect ID  Actual_Converted  \\\n",
       "5182  031ff09b-ea97-4a95-a03e-8dae56dd8f8d                 0   \n",
       "8469  fa22777e-b1e3-4141-baf7-d8abc2efcb73                 0   \n",
       "8382  1c1c215f-115b-445d-b30c-d31361b9ec6e                 0   \n",
       "8031  daae83bb-59b6-4acb-94c8-f2ef2b548d99                 0   \n",
       "6712  ff292035-b1f0-409e-94f3-a5149d72bf0b                 1   \n",
       "\n",
       "      Predicted_Converted_Prob  Predicted  0.0  0.1  0.2  0.3  0.4  0.5  0.6  \\\n",
       "5182                      0.12          0    1    1    0    0    0    0    0   \n",
       "8469                      0.05          0    1    0    0    0    0    0    0   \n",
       "8382                      0.64          1    1    1    1    1    1    1    1   \n",
       "8031                      0.22          0    1    1    1    0    0    0    0   \n",
       "6712                      1.00          1    1    1    1    1    1    1    1   \n",
       "\n",
       "      0.7  0.8  0.9  Final_Predicted  Lead Score  \n",
       "5182    0    0    0                0          12  \n",
       "8469    0    0    0                0           5  \n",
       "8382    0    0    0                1          64  \n",
       "8031    0    0    0                0          22  \n",
       "6712    1    1    1                1         100  "
      ]
     },
     "execution_count": 143,
     "metadata": {},
     "output_type": "execute_result"
    }
   ],
   "source": [
    "# Now let us calculate the lead score\n",
    "Y_train_pred_final['Lead Score'] = Y_train_pred_final.Predicted_Converted_Prob.map(lambda x: round(x*100))\n",
    "Y_train_pred_final.head()"
   ]
  },
  {
   "cell_type": "markdown",
   "metadata": {},
   "source": [
    "#### 6.1 Checking if 80% cases are correctly predicted based on the converted column"
   ]
  },
  {
   "cell_type": "code",
   "execution_count": 144,
   "metadata": {},
   "outputs": [
    {
     "data": {
      "text/plain": [
       "1    1880\n",
       "0     439\n",
       "Name: Final_Predicted, dtype: int64"
      ]
     },
     "execution_count": 144,
     "metadata": {},
     "output_type": "execute_result"
    }
   ],
   "source": [
    "# checking if 80% cases are correctly predicted based on the converted column.\n",
    "\n",
    "checking_df = Y_train_pred_final.loc[Y_train_pred_final['Actual_Converted']==1,['Actual_Converted','Final_Predicted']]\n",
    "checking_df['Final_Predicted'].value_counts()"
   ]
  },
  {
   "cell_type": "code",
   "execution_count": 145,
   "metadata": {},
   "outputs": [
    {
     "data": {
      "text/plain": [
       "0.8106942647692971"
      ]
     },
     "execution_count": 145,
     "metadata": {},
     "output_type": "execute_result"
    }
   ],
   "source": [
    "# checking the precentage of final_predicted conversions\n",
    "\n",
    "1880/float(1880+439)"
   ]
  },
  {
   "cell_type": "markdown",
   "metadata": {},
   "source": [
    "**Hence we can see that the final prediction has 81% of conversion rate, as per the X Educations CEO's requirement . Hence this is a good model.**"
   ]
  },
  {
   "cell_type": "markdown",
   "metadata": {},
   "source": [
    "### 7. Making predictions on the test set"
   ]
  },
  {
   "cell_type": "markdown",
   "metadata": {},
   "source": [
    "#### 7.1 Scaling the numerical features of the Test data set"
   ]
  },
  {
   "cell_type": "code",
   "execution_count": 146,
   "metadata": {},
   "outputs": [],
   "source": [
    "# Scaling the numerical features of test data set\n",
    "X_test[['TotalVisits','Total Time Spent on Website','Page Views Per Visit']] = scaler.transform(X_test[['TotalVisits',\n",
    "                                                                        'Total Time Spent on Website','Page Views Per Visit']])"
   ]
  },
  {
   "cell_type": "markdown",
   "metadata": {},
   "source": [
    "#### 7.2  Getting the same features as used while training train data set"
   ]
  },
  {
   "cell_type": "code",
   "execution_count": 147,
   "metadata": {},
   "outputs": [
    {
     "data": {
      "text/html": [
       "<div>\n",
       "<style scoped>\n",
       "    .dataframe tbody tr th:only-of-type {\n",
       "        vertical-align: middle;\n",
       "    }\n",
       "\n",
       "    .dataframe tbody tr th {\n",
       "        vertical-align: top;\n",
       "    }\n",
       "\n",
       "    .dataframe thead th {\n",
       "        text-align: right;\n",
       "    }\n",
       "</style>\n",
       "<table border=\"1\" class=\"dataframe\">\n",
       "  <thead>\n",
       "    <tr style=\"text-align: right;\">\n",
       "      <th></th>\n",
       "      <th>Do Not Email</th>\n",
       "      <th>Total Time Spent on Website</th>\n",
       "      <th>Lead Origin_Landing Page Submission</th>\n",
       "      <th>Lead Source_Google</th>\n",
       "      <th>Lead Source_Olark Chat</th>\n",
       "      <th>Lead Source_Organic Search</th>\n",
       "      <th>Lead Source_Reference</th>\n",
       "      <th>Lead Source_Welingak Website</th>\n",
       "      <th>What is your current occupation_Working Professional</th>\n",
       "      <th>Specialization_Others</th>\n",
       "    </tr>\n",
       "  </thead>\n",
       "  <tbody>\n",
       "    <tr>\n",
       "      <th>475</th>\n",
       "      <td>0</td>\n",
       "      <td>-0.87</td>\n",
       "      <td>0</td>\n",
       "      <td>0</td>\n",
       "      <td>0</td>\n",
       "      <td>0</td>\n",
       "      <td>1</td>\n",
       "      <td>0</td>\n",
       "      <td>0</td>\n",
       "      <td>1</td>\n",
       "    </tr>\n",
       "    <tr>\n",
       "      <th>2461</th>\n",
       "      <td>0</td>\n",
       "      <td>-0.87</td>\n",
       "      <td>0</td>\n",
       "      <td>0</td>\n",
       "      <td>0</td>\n",
       "      <td>0</td>\n",
       "      <td>0</td>\n",
       "      <td>1</td>\n",
       "      <td>0</td>\n",
       "      <td>1</td>\n",
       "    </tr>\n",
       "    <tr>\n",
       "      <th>1890</th>\n",
       "      <td>0</td>\n",
       "      <td>-0.56</td>\n",
       "      <td>0</td>\n",
       "      <td>1</td>\n",
       "      <td>0</td>\n",
       "      <td>0</td>\n",
       "      <td>0</td>\n",
       "      <td>0</td>\n",
       "      <td>0</td>\n",
       "      <td>1</td>\n",
       "    </tr>\n",
       "    <tr>\n",
       "      <th>6007</th>\n",
       "      <td>0</td>\n",
       "      <td>-0.70</td>\n",
       "      <td>0</td>\n",
       "      <td>0</td>\n",
       "      <td>1</td>\n",
       "      <td>0</td>\n",
       "      <td>0</td>\n",
       "      <td>0</td>\n",
       "      <td>0</td>\n",
       "      <td>0</td>\n",
       "    </tr>\n",
       "    <tr>\n",
       "      <th>4052</th>\n",
       "      <td>0</td>\n",
       "      <td>-0.60</td>\n",
       "      <td>1</td>\n",
       "      <td>0</td>\n",
       "      <td>0</td>\n",
       "      <td>0</td>\n",
       "      <td>0</td>\n",
       "      <td>0</td>\n",
       "      <td>0</td>\n",
       "      <td>0</td>\n",
       "    </tr>\n",
       "  </tbody>\n",
       "</table>\n",
       "</div>"
      ],
      "text/plain": [
       "      Do Not Email  Total Time Spent on Website  \\\n",
       "475              0                        -0.87   \n",
       "2461             0                        -0.87   \n",
       "1890             0                        -0.56   \n",
       "6007             0                        -0.70   \n",
       "4052             0                        -0.60   \n",
       "\n",
       "      Lead Origin_Landing Page Submission  Lead Source_Google  \\\n",
       "475                                     0                   0   \n",
       "2461                                    0                   0   \n",
       "1890                                    0                   1   \n",
       "6007                                    0                   0   \n",
       "4052                                    1                   0   \n",
       "\n",
       "      Lead Source_Olark Chat  Lead Source_Organic Search  \\\n",
       "475                        0                           0   \n",
       "2461                       0                           0   \n",
       "1890                       0                           0   \n",
       "6007                       1                           0   \n",
       "4052                       0                           0   \n",
       "\n",
       "      Lead Source_Reference  Lead Source_Welingak Website  \\\n",
       "475                       1                             0   \n",
       "2461                      0                             1   \n",
       "1890                      0                             0   \n",
       "6007                      0                             0   \n",
       "4052                      0                             0   \n",
       "\n",
       "      What is your current occupation_Working Professional  \\\n",
       "475                                                   0      \n",
       "2461                                                  0      \n",
       "1890                                                  0      \n",
       "6007                                                  0      \n",
       "4052                                                  0      \n",
       "\n",
       "      Specialization_Others  \n",
       "475                       1  \n",
       "2461                      1  \n",
       "1890                      1  \n",
       "6007                      0  \n",
       "4052                      0  "
      ]
     },
     "execution_count": 147,
     "metadata": {},
     "output_type": "execute_result"
    }
   ],
   "source": [
    "#getting the same features as used while training train data set\n",
    "X_test = X_test[col]\n",
    "\n",
    "# Getting top 5 rows\n",
    "X_test.head()"
   ]
  },
  {
   "cell_type": "code",
   "execution_count": 148,
   "metadata": {},
   "outputs": [],
   "source": [
    "# Adding constant to the Test dataset\n",
    "X_test_sm = sm.add_constant(X_test)"
   ]
  },
  {
   "cell_type": "markdown",
   "metadata": {},
   "source": [
    "#### 7.3 Making predictions on the test dataset"
   ]
  },
  {
   "cell_type": "code",
   "execution_count": 149,
   "metadata": {},
   "outputs": [],
   "source": [
    "# predicitng conversion for test dataset\n",
    "y_test_pred = res.predict(X_test_sm)"
   ]
  },
  {
   "cell_type": "code",
   "execution_count": 150,
   "metadata": {},
   "outputs": [],
   "source": [
    "# Converting y_pred to a dataframe which is an array\n",
    "\n",
    "y_pred_1 = pd.DataFrame(y_test_pred)"
   ]
  },
  {
   "cell_type": "code",
   "execution_count": 151,
   "metadata": {},
   "outputs": [],
   "source": [
    "# Converting y_test to dataframe\n",
    "\n",
    "y_test_df = pd.DataFrame(Y_test)"
   ]
  },
  {
   "cell_type": "code",
   "execution_count": 152,
   "metadata": {},
   "outputs": [],
   "source": [
    "# Putting LeadId to index\n",
    "\n",
    "y_test_df['Prospect ID'] = Test_leads_Prospect_Id"
   ]
  },
  {
   "cell_type": "code",
   "execution_count": 153,
   "metadata": {},
   "outputs": [],
   "source": [
    "# Removing index for both dataframes to append them side by side \n",
    "\n",
    "y_pred_1.reset_index(drop=True, inplace=True)\n",
    "y_test_df.reset_index(drop=True, inplace=True)"
   ]
  },
  {
   "cell_type": "code",
   "execution_count": 154,
   "metadata": {},
   "outputs": [],
   "source": [
    "# Appending y_test_df and y_pred_1\n",
    "\n",
    "y_pred_final = pd.concat([y_test_df, y_pred_1],axis=1)"
   ]
  },
  {
   "cell_type": "code",
   "execution_count": 155,
   "metadata": {},
   "outputs": [
    {
     "data": {
      "text/html": [
       "<div>\n",
       "<style scoped>\n",
       "    .dataframe tbody tr th:only-of-type {\n",
       "        vertical-align: middle;\n",
       "    }\n",
       "\n",
       "    .dataframe tbody tr th {\n",
       "        vertical-align: top;\n",
       "    }\n",
       "\n",
       "    .dataframe thead th {\n",
       "        text-align: right;\n",
       "    }\n",
       "</style>\n",
       "<table border=\"1\" class=\"dataframe\">\n",
       "  <thead>\n",
       "    <tr style=\"text-align: right;\">\n",
       "      <th></th>\n",
       "      <th>Converted</th>\n",
       "      <th>Prospect ID</th>\n",
       "      <th>0</th>\n",
       "    </tr>\n",
       "  </thead>\n",
       "  <tbody>\n",
       "    <tr>\n",
       "      <th>0</th>\n",
       "      <td>1</td>\n",
       "      <td>4e8dd3c0-893e-4244-99d8-cdca0408addc</td>\n",
       "      <td>0.80</td>\n",
       "    </tr>\n",
       "    <tr>\n",
       "      <th>1</th>\n",
       "      <td>1</td>\n",
       "      <td>1c63b791-7209-42fb-8a16-d26409dda99e</td>\n",
       "      <td>0.99</td>\n",
       "    </tr>\n",
       "    <tr>\n",
       "      <th>2</th>\n",
       "      <td>0</td>\n",
       "      <td>516cd1cf-e3d1-40fa-8332-be9338e3fc5c</td>\n",
       "      <td>0.15</td>\n",
       "    </tr>\n",
       "    <tr>\n",
       "      <th>3</th>\n",
       "      <td>0</td>\n",
       "      <td>dd8b121c-bfe3-4e40-99c1-002f37d849f6</td>\n",
       "      <td>0.44</td>\n",
       "    </tr>\n",
       "    <tr>\n",
       "      <th>4</th>\n",
       "      <td>0</td>\n",
       "      <td>01f148b8-7c05-4970-9dac-7d683d7e0299</td>\n",
       "      <td>0.15</td>\n",
       "    </tr>\n",
       "  </tbody>\n",
       "</table>\n",
       "</div>"
      ],
      "text/plain": [
       "   Converted                           Prospect ID    0\n",
       "0          1  4e8dd3c0-893e-4244-99d8-cdca0408addc 0.80\n",
       "1          1  1c63b791-7209-42fb-8a16-d26409dda99e 0.99\n",
       "2          0  516cd1cf-e3d1-40fa-8332-be9338e3fc5c 0.15\n",
       "3          0  dd8b121c-bfe3-4e40-99c1-002f37d849f6 0.44\n",
       "4          0  01f148b8-7c05-4970-9dac-7d683d7e0299 0.15"
      ]
     },
     "execution_count": 155,
     "metadata": {},
     "output_type": "execute_result"
    }
   ],
   "source": [
    "# Getting top 5 rows\n",
    "y_pred_final.head()"
   ]
  },
  {
   "cell_type": "code",
   "execution_count": 156,
   "metadata": {},
   "outputs": [],
   "source": [
    "# Renaming the column \n",
    "\n",
    "y_pred_final= y_pred_final.rename(columns={ 0 : 'Predicted_Converted_Prob'})"
   ]
  },
  {
   "cell_type": "code",
   "execution_count": 157,
   "metadata": {},
   "outputs": [],
   "source": [
    "# Rearranging the columns\n",
    "\n",
    "y_pred_final = y_pred_final[['Prospect ID','Converted','Predicted_Converted_Prob']]"
   ]
  },
  {
   "cell_type": "code",
   "execution_count": 158,
   "metadata": {},
   "outputs": [
    {
     "data": {
      "text/html": [
       "<div>\n",
       "<style scoped>\n",
       "    .dataframe tbody tr th:only-of-type {\n",
       "        vertical-align: middle;\n",
       "    }\n",
       "\n",
       "    .dataframe tbody tr th {\n",
       "        vertical-align: top;\n",
       "    }\n",
       "\n",
       "    .dataframe thead th {\n",
       "        text-align: right;\n",
       "    }\n",
       "</style>\n",
       "<table border=\"1\" class=\"dataframe\">\n",
       "  <thead>\n",
       "    <tr style=\"text-align: right;\">\n",
       "      <th></th>\n",
       "      <th>Prospect ID</th>\n",
       "      <th>Converted</th>\n",
       "      <th>Predicted_Converted_Prob</th>\n",
       "    </tr>\n",
       "  </thead>\n",
       "  <tbody>\n",
       "    <tr>\n",
       "      <th>0</th>\n",
       "      <td>4e8dd3c0-893e-4244-99d8-cdca0408addc</td>\n",
       "      <td>1</td>\n",
       "      <td>0.80</td>\n",
       "    </tr>\n",
       "    <tr>\n",
       "      <th>1</th>\n",
       "      <td>1c63b791-7209-42fb-8a16-d26409dda99e</td>\n",
       "      <td>1</td>\n",
       "      <td>0.99</td>\n",
       "    </tr>\n",
       "    <tr>\n",
       "      <th>2</th>\n",
       "      <td>516cd1cf-e3d1-40fa-8332-be9338e3fc5c</td>\n",
       "      <td>0</td>\n",
       "      <td>0.15</td>\n",
       "    </tr>\n",
       "    <tr>\n",
       "      <th>3</th>\n",
       "      <td>dd8b121c-bfe3-4e40-99c1-002f37d849f6</td>\n",
       "      <td>0</td>\n",
       "      <td>0.44</td>\n",
       "    </tr>\n",
       "    <tr>\n",
       "      <th>4</th>\n",
       "      <td>01f148b8-7c05-4970-9dac-7d683d7e0299</td>\n",
       "      <td>0</td>\n",
       "      <td>0.15</td>\n",
       "    </tr>\n",
       "  </tbody>\n",
       "</table>\n",
       "</div>"
      ],
      "text/plain": [
       "                            Prospect ID  Converted  Predicted_Converted_Prob\n",
       "0  4e8dd3c0-893e-4244-99d8-cdca0408addc          1                      0.80\n",
       "1  1c63b791-7209-42fb-8a16-d26409dda99e          1                      0.99\n",
       "2  516cd1cf-e3d1-40fa-8332-be9338e3fc5c          0                      0.15\n",
       "3  dd8b121c-bfe3-4e40-99c1-002f37d849f6          0                      0.44\n",
       "4  01f148b8-7c05-4970-9dac-7d683d7e0299          0                      0.15"
      ]
     },
     "execution_count": 158,
     "metadata": {},
     "output_type": "execute_result"
    }
   ],
   "source": [
    "# Getting the top 5 rows of the dataframe\n",
    "y_pred_final.head()"
   ]
  },
  {
   "cell_type": "code",
   "execution_count": 159,
   "metadata": {},
   "outputs": [],
   "source": [
    "# Based on cut off threshold using accuracy, sensitivity and specificity of 0.23%\n",
    "\n",
    "y_pred_final['Final_Predicted'] = y_pred_final.Predicted_Converted_Prob.map(lambda x: 1 if x > 0.23 else 0)"
   ]
  },
  {
   "cell_type": "code",
   "execution_count": 160,
   "metadata": {},
   "outputs": [
    {
     "data": {
      "text/html": [
       "<div>\n",
       "<style scoped>\n",
       "    .dataframe tbody tr th:only-of-type {\n",
       "        vertical-align: middle;\n",
       "    }\n",
       "\n",
       "    .dataframe tbody tr th {\n",
       "        vertical-align: top;\n",
       "    }\n",
       "\n",
       "    .dataframe thead th {\n",
       "        text-align: right;\n",
       "    }\n",
       "</style>\n",
       "<table border=\"1\" class=\"dataframe\">\n",
       "  <thead>\n",
       "    <tr style=\"text-align: right;\">\n",
       "      <th></th>\n",
       "      <th>Prospect ID</th>\n",
       "      <th>Converted</th>\n",
       "      <th>Predicted_Converted_Prob</th>\n",
       "      <th>Final_Predicted</th>\n",
       "    </tr>\n",
       "  </thead>\n",
       "  <tbody>\n",
       "    <tr>\n",
       "      <th>0</th>\n",
       "      <td>4e8dd3c0-893e-4244-99d8-cdca0408addc</td>\n",
       "      <td>1</td>\n",
       "      <td>0.80</td>\n",
       "      <td>1</td>\n",
       "    </tr>\n",
       "    <tr>\n",
       "      <th>1</th>\n",
       "      <td>1c63b791-7209-42fb-8a16-d26409dda99e</td>\n",
       "      <td>1</td>\n",
       "      <td>0.99</td>\n",
       "      <td>1</td>\n",
       "    </tr>\n",
       "    <tr>\n",
       "      <th>2</th>\n",
       "      <td>516cd1cf-e3d1-40fa-8332-be9338e3fc5c</td>\n",
       "      <td>0</td>\n",
       "      <td>0.15</td>\n",
       "      <td>0</td>\n",
       "    </tr>\n",
       "    <tr>\n",
       "      <th>3</th>\n",
       "      <td>dd8b121c-bfe3-4e40-99c1-002f37d849f6</td>\n",
       "      <td>0</td>\n",
       "      <td>0.44</td>\n",
       "      <td>1</td>\n",
       "    </tr>\n",
       "    <tr>\n",
       "      <th>4</th>\n",
       "      <td>01f148b8-7c05-4970-9dac-7d683d7e0299</td>\n",
       "      <td>0</td>\n",
       "      <td>0.15</td>\n",
       "      <td>0</td>\n",
       "    </tr>\n",
       "  </tbody>\n",
       "</table>\n",
       "</div>"
      ],
      "text/plain": [
       "                            Prospect ID  Converted  Predicted_Converted_Prob  \\\n",
       "0  4e8dd3c0-893e-4244-99d8-cdca0408addc          1                      0.80   \n",
       "1  1c63b791-7209-42fb-8a16-d26409dda99e          1                      0.99   \n",
       "2  516cd1cf-e3d1-40fa-8332-be9338e3fc5c          0                      0.15   \n",
       "3  dd8b121c-bfe3-4e40-99c1-002f37d849f6          0                      0.44   \n",
       "4  01f148b8-7c05-4970-9dac-7d683d7e0299          0                      0.15   \n",
       "\n",
       "   Final_Predicted  \n",
       "0                1  \n",
       "1                1  \n",
       "2                0  \n",
       "3                1  \n",
       "4                0  "
      ]
     },
     "execution_count": 160,
     "metadata": {},
     "output_type": "execute_result"
    }
   ],
   "source": [
    "# Getting top 5 row of the dataframe\n",
    "y_pred_final.head()"
   ]
  },
  {
   "cell_type": "markdown",
   "metadata": {},
   "source": [
    "### 8. Calculating Overall Metrics - Accuracy, Confusion Metrics, Sensitivity, Specificity on test set"
   ]
  },
  {
   "cell_type": "markdown",
   "metadata": {},
   "source": [
    "#### 8.1 Calculating overall accuracy"
   ]
  },
  {
   "cell_type": "code",
   "execution_count": 161,
   "metadata": {},
   "outputs": [
    {
     "data": {
      "text/plain": [
       "0.7484639016897081"
      ]
     },
     "execution_count": 161,
     "metadata": {},
     "output_type": "execute_result"
    }
   ],
   "source": [
    "# Let's check the accuracy.\n",
    "\n",
    "metrics.accuracy_score(y_pred_final.Converted, y_pred_final.Final_Predicted)"
   ]
  },
  {
   "cell_type": "markdown",
   "metadata": {},
   "source": [
    "**We have got 75 % accuracy on test data, which is very close to train data accuracy**"
   ]
  },
  {
   "cell_type": "markdown",
   "metadata": {},
   "source": [
    "#### 8.2 Calculating confusion matrix"
   ]
  },
  {
   "cell_type": "code",
   "execution_count": 162,
   "metadata": {},
   "outputs": [
    {
     "data": {
      "text/plain": [
       "array([[1146,  445],\n",
       "       [ 210,  803]], dtype=int64)"
      ]
     },
     "execution_count": 162,
     "metadata": {},
     "output_type": "execute_result"
    }
   ],
   "source": [
    "# Getting the confusion matrix\n",
    "confusion2 = metrics.confusion_matrix(y_pred_final.Converted, y_pred_final.Final_Predicted)\n",
    "confusion2"
   ]
  },
  {
   "cell_type": "code",
   "execution_count": 163,
   "metadata": {},
   "outputs": [],
   "source": [
    "TP = confusion2[1,1] # true positive \n",
    "TN = confusion2[0,0] # true negatives\n",
    "FP = confusion2[0,1] # false positives\n",
    "FN = confusion2[1,0] # false negatives"
   ]
  },
  {
   "cell_type": "markdown",
   "metadata": {},
   "source": [
    "#### 8.4 Calculting Sensitivity and Specificity for Test data set"
   ]
  },
  {
   "cell_type": "code",
   "execution_count": 164,
   "metadata": {},
   "outputs": [
    {
     "data": {
      "text/plain": [
       "0.792694965449161"
      ]
     },
     "execution_count": 164,
     "metadata": {},
     "output_type": "execute_result"
    }
   ],
   "source": [
    "# Let's see the sensitivity of our logistic regression model\n",
    "TP / float(TP+FN)"
   ]
  },
  {
   "cell_type": "markdown",
   "metadata": {},
   "source": [
    "**We have got 79 % sensitivity on test data, which is very close to train data sensitivity**"
   ]
  },
  {
   "cell_type": "code",
   "execution_count": 165,
   "metadata": {},
   "outputs": [
    {
     "data": {
      "text/plain": [
       "0.7203016970458831"
      ]
     },
     "execution_count": 165,
     "metadata": {},
     "output_type": "execute_result"
    }
   ],
   "source": [
    "# Let us calculate specificity\n",
    "TN / float(TN+FP)"
   ]
  },
  {
   "cell_type": "markdown",
   "metadata": {},
   "source": [
    "**We have got 72 % specificity on test data, which is very close to train data specificity**"
   ]
  },
  {
   "cell_type": "markdown",
   "metadata": {},
   "source": [
    "#### 8.5 Calculating Precision and Recall metrics for the test set"
   ]
  },
  {
   "cell_type": "code",
   "execution_count": 166,
   "metadata": {},
   "outputs": [
    {
     "name": "stdout",
     "output_type": "stream",
     "text": [
      "precision  0.6434294871794872\n",
      "recall  0.792694965449161\n"
     ]
    }
   ],
   "source": [
    "# precision\n",
    "print('precision ',precision_score(y_pred_final.Converted, y_pred_final.Final_Predicted))\n",
    "\n",
    "# recall\n",
    "print('recall ',recall_score(y_pred_final.Converted, y_pred_final.Final_Predicted))"
   ]
  },
  {
   "cell_type": "markdown",
   "metadata": {},
   "source": [
    "**We have got 64 % precision on test data, which is very close to train data precision**\n",
    "\n",
    "**We have got 79 % recall on test data, which is very close to train data recall**"
   ]
  },
  {
   "cell_type": "markdown",
   "metadata": {},
   "source": [
    "### 9. Calculating Lead score for test data set"
   ]
  },
  {
   "cell_type": "code",
   "execution_count": 167,
   "metadata": {},
   "outputs": [
    {
     "data": {
      "text/html": [
       "<div>\n",
       "<style scoped>\n",
       "    .dataframe tbody tr th:only-of-type {\n",
       "        vertical-align: middle;\n",
       "    }\n",
       "\n",
       "    .dataframe tbody tr th {\n",
       "        vertical-align: top;\n",
       "    }\n",
       "\n",
       "    .dataframe thead th {\n",
       "        text-align: right;\n",
       "    }\n",
       "</style>\n",
       "<table border=\"1\" class=\"dataframe\">\n",
       "  <thead>\n",
       "    <tr style=\"text-align: right;\">\n",
       "      <th></th>\n",
       "      <th>Prospect ID</th>\n",
       "      <th>Converted</th>\n",
       "      <th>Predicted_Converted_Prob</th>\n",
       "      <th>Final_Predicted</th>\n",
       "      <th>Lead Score</th>\n",
       "    </tr>\n",
       "  </thead>\n",
       "  <tbody>\n",
       "    <tr>\n",
       "      <th>0</th>\n",
       "      <td>4e8dd3c0-893e-4244-99d8-cdca0408addc</td>\n",
       "      <td>1</td>\n",
       "      <td>0.80</td>\n",
       "      <td>1</td>\n",
       "      <td>80</td>\n",
       "    </tr>\n",
       "    <tr>\n",
       "      <th>1</th>\n",
       "      <td>1c63b791-7209-42fb-8a16-d26409dda99e</td>\n",
       "      <td>1</td>\n",
       "      <td>0.99</td>\n",
       "      <td>1</td>\n",
       "      <td>99</td>\n",
       "    </tr>\n",
       "    <tr>\n",
       "      <th>2</th>\n",
       "      <td>516cd1cf-e3d1-40fa-8332-be9338e3fc5c</td>\n",
       "      <td>0</td>\n",
       "      <td>0.15</td>\n",
       "      <td>0</td>\n",
       "      <td>15</td>\n",
       "    </tr>\n",
       "    <tr>\n",
       "      <th>3</th>\n",
       "      <td>dd8b121c-bfe3-4e40-99c1-002f37d849f6</td>\n",
       "      <td>0</td>\n",
       "      <td>0.44</td>\n",
       "      <td>1</td>\n",
       "      <td>44</td>\n",
       "    </tr>\n",
       "    <tr>\n",
       "      <th>4</th>\n",
       "      <td>01f148b8-7c05-4970-9dac-7d683d7e0299</td>\n",
       "      <td>0</td>\n",
       "      <td>0.15</td>\n",
       "      <td>0</td>\n",
       "      <td>15</td>\n",
       "    </tr>\n",
       "  </tbody>\n",
       "</table>\n",
       "</div>"
      ],
      "text/plain": [
       "                            Prospect ID  Converted  Predicted_Converted_Prob  \\\n",
       "0  4e8dd3c0-893e-4244-99d8-cdca0408addc          1                      0.80   \n",
       "1  1c63b791-7209-42fb-8a16-d26409dda99e          1                      0.99   \n",
       "2  516cd1cf-e3d1-40fa-8332-be9338e3fc5c          0                      0.15   \n",
       "3  dd8b121c-bfe3-4e40-99c1-002f37d849f6          0                      0.44   \n",
       "4  01f148b8-7c05-4970-9dac-7d683d7e0299          0                      0.15   \n",
       "\n",
       "   Final_Predicted  Lead Score  \n",
       "0                1          80  \n",
       "1                1          99  \n",
       "2                0          15  \n",
       "3                1          44  \n",
       "4                0          15  "
      ]
     },
     "execution_count": 167,
     "metadata": {},
     "output_type": "execute_result"
    }
   ],
   "source": [
    "# Now let us calculate the lead score\n",
    "\n",
    "y_pred_final['Lead Score'] = y_pred_final.Predicted_Converted_Prob.map(lambda x: round(x*100))\n",
    "y_pred_final.head()"
   ]
  },
  {
   "cell_type": "markdown",
   "metadata": {},
   "source": [
    "#### 9.1 Checking if 80% cases are correctly predicted based on the converted column"
   ]
  },
  {
   "cell_type": "code",
   "execution_count": 168,
   "metadata": {},
   "outputs": [
    {
     "data": {
      "text/plain": [
       "1    803\n",
       "0    210\n",
       "Name: Final_Predicted, dtype: int64"
      ]
     },
     "execution_count": 168,
     "metadata": {},
     "output_type": "execute_result"
    }
   ],
   "source": [
    "# checking if 80% cases are correctly predicted based on the converted column.\n",
    "\n",
    "\n",
    "checking_test_df = y_pred_final.loc[y_pred_final['Converted']==1,['Converted','Final_Predicted']]\n",
    "checking_test_df['Final_Predicted'].value_counts()"
   ]
  },
  {
   "cell_type": "code",
   "execution_count": 169,
   "metadata": {},
   "outputs": [
    {
     "data": {
      "text/plain": [
       "0.792694965449161"
      ]
     },
     "execution_count": 169,
     "metadata": {},
     "output_type": "execute_result"
    }
   ],
   "source": [
    "# check the precentage of final_predicted conversions on test data\n",
    "\n",
    "803/float(803+210)"
   ]
  },
  {
   "cell_type": "markdown",
   "metadata": {},
   "source": [
    "**Hence we can see that the final prediction of conversions have a target rate of 79 % for test data.**"
   ]
  },
  {
   "cell_type": "markdown",
   "metadata": {},
   "source": [
    "### 10. Comparing Train and Test model evaluation"
   ]
  },
  {
   "cell_type": "markdown",
   "metadata": {},
   "source": [
    "Final Observation:\n",
    "    \n",
    "Let us compare the values obtained for Train & Test dataset:\n",
    "\n",
    "**Train Data:**\n",
    "\n",
    "- Accuracy    : 76.10%\n",
    "\n",
    "- Sensitivity : 81.07%\n",
    "\n",
    "- Specificity : 73.03% \n",
    "\n",
    "- Precision   : 64.98%\n",
    "\n",
    "- Train conversion percentage : 81.07%\n",
    "\n",
    "**Test Data:**:\n",
    "\n",
    "- Accuracy    : 74.85%\n",
    "\n",
    "- Sensitivity : 79.27%\n",
    "\n",
    "- Specificity : 72.03%\n",
    "\n",
    "- Precision   : 64.34%\n",
    "\n",
    "- Test conversion percentage : 79.27%"
   ]
  },
  {
   "cell_type": "markdown",
   "metadata": {},
   "source": [
    "**So Our model is a good predictive model. It has got test metrics very close to train metrics.**"
   ]
  },
  {
   "cell_type": "markdown",
   "metadata": {},
   "source": [
    "### 11. Adding lead score as feature  to Lead dataset"
   ]
  },
  {
   "cell_type": "code",
   "execution_count": 170,
   "metadata": {},
   "outputs": [],
   "source": [
    "# Creating the dataframe with 'Prospect ID' and 'Lead Score' for both train and test dataset\n",
    "\n",
    "train_final = Y_train_pred_final[['Prospect ID','Lead Score']]\n",
    "test_final = y_pred_final[['Prospect ID','Lead Score']]"
   ]
  },
  {
   "cell_type": "code",
   "execution_count": 171,
   "metadata": {},
   "outputs": [
    {
     "data": {
      "text/plain": [
       "(8679, 2)"
      ]
     },
     "execution_count": 171,
     "metadata": {},
     "output_type": "execute_result"
    }
   ],
   "source": [
    "# Appending test_final dataset to train_dataset to final_df\n",
    "\n",
    "final_df = train_final.append(test_final)\n",
    "\n",
    "# Getting the shape of final_df\n",
    "final_df.shape"
   ]
  },
  {
   "cell_type": "code",
   "execution_count": 172,
   "metadata": {},
   "outputs": [
    {
     "data": {
      "text/html": [
       "<div>\n",
       "<style scoped>\n",
       "    .dataframe tbody tr th:only-of-type {\n",
       "        vertical-align: middle;\n",
       "    }\n",
       "\n",
       "    .dataframe tbody tr th {\n",
       "        vertical-align: top;\n",
       "    }\n",
       "\n",
       "    .dataframe thead th {\n",
       "        text-align: right;\n",
       "    }\n",
       "</style>\n",
       "<table border=\"1\" class=\"dataframe\">\n",
       "  <thead>\n",
       "    <tr style=\"text-align: right;\">\n",
       "      <th></th>\n",
       "      <th>Prospect ID</th>\n",
       "      <th>Lead Score</th>\n",
       "    </tr>\n",
       "  </thead>\n",
       "  <tbody>\n",
       "    <tr>\n",
       "      <th>5182</th>\n",
       "      <td>031ff09b-ea97-4a95-a03e-8dae56dd8f8d</td>\n",
       "      <td>12</td>\n",
       "    </tr>\n",
       "    <tr>\n",
       "      <th>8469</th>\n",
       "      <td>fa22777e-b1e3-4141-baf7-d8abc2efcb73</td>\n",
       "      <td>5</td>\n",
       "    </tr>\n",
       "    <tr>\n",
       "      <th>8382</th>\n",
       "      <td>1c1c215f-115b-445d-b30c-d31361b9ec6e</td>\n",
       "      <td>64</td>\n",
       "    </tr>\n",
       "    <tr>\n",
       "      <th>8031</th>\n",
       "      <td>daae83bb-59b6-4acb-94c8-f2ef2b548d99</td>\n",
       "      <td>22</td>\n",
       "    </tr>\n",
       "    <tr>\n",
       "      <th>6712</th>\n",
       "      <td>ff292035-b1f0-409e-94f3-a5149d72bf0b</td>\n",
       "      <td>100</td>\n",
       "    </tr>\n",
       "    <tr>\n",
       "      <th>...</th>\n",
       "      <td>...</td>\n",
       "      <td>...</td>\n",
       "    </tr>\n",
       "    <tr>\n",
       "      <th>2599</th>\n",
       "      <td>2fd27c5c-fc54-4912-a296-0860dbe9ea0c</td>\n",
       "      <td>62</td>\n",
       "    </tr>\n",
       "    <tr>\n",
       "      <th>2600</th>\n",
       "      <td>78a2698a-c164-4b9c-9130-2cd9607c0caf</td>\n",
       "      <td>37</td>\n",
       "    </tr>\n",
       "    <tr>\n",
       "      <th>2601</th>\n",
       "      <td>a303766c-f688-4908-bda8-5fc6d8a35bb8</td>\n",
       "      <td>45</td>\n",
       "    </tr>\n",
       "    <tr>\n",
       "      <th>2602</th>\n",
       "      <td>8f781d80-91ee-4d14-a069-16eb9e8beb20</td>\n",
       "      <td>86</td>\n",
       "    </tr>\n",
       "    <tr>\n",
       "      <th>2603</th>\n",
       "      <td>f10a8ed7-0ddb-48ce-aecc-ad6fcc99f9a5</td>\n",
       "      <td>73</td>\n",
       "    </tr>\n",
       "  </tbody>\n",
       "</table>\n",
       "<p>8679 rows × 2 columns</p>\n",
       "</div>"
      ],
      "text/plain": [
       "                               Prospect ID  Lead Score\n",
       "5182  031ff09b-ea97-4a95-a03e-8dae56dd8f8d          12\n",
       "8469  fa22777e-b1e3-4141-baf7-d8abc2efcb73           5\n",
       "8382  1c1c215f-115b-445d-b30c-d31361b9ec6e          64\n",
       "8031  daae83bb-59b6-4acb-94c8-f2ef2b548d99          22\n",
       "6712  ff292035-b1f0-409e-94f3-a5149d72bf0b         100\n",
       "...                                    ...         ...\n",
       "2599  2fd27c5c-fc54-4912-a296-0860dbe9ea0c          62\n",
       "2600  78a2698a-c164-4b9c-9130-2cd9607c0caf          37\n",
       "2601  a303766c-f688-4908-bda8-5fc6d8a35bb8          45\n",
       "2602  8f781d80-91ee-4d14-a069-16eb9e8beb20          86\n",
       "2603  f10a8ed7-0ddb-48ce-aecc-ad6fcc99f9a5          73\n",
       "\n",
       "[8679 rows x 2 columns]"
      ]
     },
     "execution_count": 172,
     "metadata": {},
     "output_type": "execute_result"
    }
   ],
   "source": [
    "# Getting the top 5 rows of final_df\n",
    "final_df"
   ]
  },
  {
   "cell_type": "markdown",
   "metadata": {},
   "source": [
    "**So , Finally we have achieved the goal of the project,have assigned the lead score to each lead who have unique Prospect ID. This can be used by Sales team to identify the hot leads who have good lead scores.**"
   ]
  }
 ],
 "metadata": {
  "kernelspec": {
   "display_name": "Python 3",
   "language": "python",
   "name": "python3"
  },
  "language_info": {
   "codemirror_mode": {
    "name": "ipython",
    "version": 3
   },
   "file_extension": ".py",
   "mimetype": "text/x-python",
   "name": "python",
   "nbconvert_exporter": "python",
   "pygments_lexer": "ipython3",
   "version": "3.7.4"
  }
 },
 "nbformat": 4,
 "nbformat_minor": 2
}
